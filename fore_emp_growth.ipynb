{
 "cells": [
  {
   "cell_type": "code",
   "execution_count": 1,
   "metadata": {},
   "outputs": [],
   "source": [
    "import pandas as pd\n",
    "import numpy as np\n",
    "import plotly.express as px\n",
    "from bs4 import BeautifulSoup\n",
    "import requests\n",
    "import os\n",
    "import pdfplumber\n",
    "from pdf2image import convert_from_path\n",
    "import pytesseract\n",
    "import time\n",
    "import re\n",
    "\n",
    "import warnings\n",
    "warnings.filterwarnings(\"ignore\")"
   ]
  },
  {
   "cell_type": "code",
   "execution_count": 2,
   "metadata": {},
   "outputs": [
    {
     "data": {
      "text/html": [
       "<div>\n",
       "<style scoped>\n",
       "    .dataframe tbody tr th:only-of-type {\n",
       "        vertical-align: middle;\n",
       "    }\n",
       "\n",
       "    .dataframe tbody tr th {\n",
       "        vertical-align: top;\n",
       "    }\n",
       "\n",
       "    .dataframe thead th {\n",
       "        text-align: right;\n",
       "    }\n",
       "</style>\n",
       "<table border=\"1\" class=\"dataframe\">\n",
       "  <thead>\n",
       "    <tr style=\"text-align: right;\">\n",
       "      <th></th>\n",
       "      <th>Company</th>\n",
       "      <th>Landed Month / Year</th>\n",
       "      <th>Capital Investment</th>\n",
       "      <th>Incentivized Jobs</th>\n",
       "      <th>New Jobs</th>\n",
       "      <th>Project Type</th>\n",
       "      <th>County</th>\n",
       "      <th>County Tier</th>\n",
       "      <th>FJTAP</th>\n",
       "      <th>FIDP</th>\n",
       "      <th>ED</th>\n",
       "      <th>Grants Total</th>\n",
       "    </tr>\n",
       "  </thead>\n",
       "  <tbody>\n",
       "    <tr>\n",
       "      <th>0</th>\n",
       "      <td>Ultium Cells LLC</td>\n",
       "      <td>4/16/2021</td>\n",
       "      <td>$2,367,000,000</td>\n",
       "      <td>1,700</td>\n",
       "      <td>1,300</td>\n",
       "      <td>Recruitment</td>\n",
       "      <td>Maury</td>\n",
       "      <td>1</td>\n",
       "      <td>NaN</td>\n",
       "      <td>NaN</td>\n",
       "      <td>$78,000,000</td>\n",
       "      <td>$78,000,000</td>\n",
       "    </tr>\n",
       "    <tr>\n",
       "      <th>1</th>\n",
       "      <td>Oracle America, Inc.</td>\n",
       "      <td>8/31/2021</td>\n",
       "      <td>$1,350,000,000</td>\n",
       "      <td>5,989</td>\n",
       "      <td>8,500</td>\n",
       "      <td>Recruitment</td>\n",
       "      <td>Davidson</td>\n",
       "      <td>1</td>\n",
       "      <td>NaN</td>\n",
       "      <td>NaN</td>\n",
       "      <td>$65,000,000</td>\n",
       "      <td>$65,000,000</td>\n",
       "    </tr>\n",
       "    <tr>\n",
       "      <th>2</th>\n",
       "      <td>LG Chem America Inc.</td>\n",
       "      <td>11/21/2022</td>\n",
       "      <td>$3,205,715,854</td>\n",
       "      <td>860</td>\n",
       "      <td>860</td>\n",
       "      <td>Recruitment</td>\n",
       "      <td>Montgomery</td>\n",
       "      <td>1</td>\n",
       "      <td>NaN</td>\n",
       "      <td>NaN</td>\n",
       "      <td>$40,000,000</td>\n",
       "      <td>$40,000,000</td>\n",
       "    </tr>\n",
       "    <tr>\n",
       "      <th>3</th>\n",
       "      <td>ALSAC St Jude Children's</td>\n",
       "      <td>11/30/2016</td>\n",
       "      <td>$1,000,000,000</td>\n",
       "      <td>1,800</td>\n",
       "      <td>1800</td>\n",
       "      <td>Expansion</td>\n",
       "      <td>Shelby</td>\n",
       "      <td>2</td>\n",
       "      <td>NaN</td>\n",
       "      <td>NaN</td>\n",
       "      <td>$36,000,000</td>\n",
       "      <td>$36,000,000</td>\n",
       "    </tr>\n",
       "    <tr>\n",
       "      <th>4</th>\n",
       "      <td>General Motors LLC</td>\n",
       "      <td>10/20/2020</td>\n",
       "      <td>$1,717,000,000</td>\n",
       "      <td>2,000</td>\n",
       "      <td>0</td>\n",
       "      <td>Expansion</td>\n",
       "      <td>Maury</td>\n",
       "      <td>1</td>\n",
       "      <td>$35,000,000</td>\n",
       "      <td>NaN</td>\n",
       "      <td>NaN</td>\n",
       "      <td>$35,000,000</td>\n",
       "    </tr>\n",
       "  </tbody>\n",
       "</table>\n",
       "</div>"
      ],
      "text/plain": [
       "                    Company Landed Month / Year Capital Investment  \\\n",
       "0          Ultium Cells LLC           4/16/2021    $2,367,000,000    \n",
       "1      Oracle America, Inc.           8/31/2021    $1,350,000,000    \n",
       "2      LG Chem America Inc.          11/21/2022    $3,205,715,854    \n",
       "3  ALSAC St Jude Children's          11/30/2016    $1,000,000,000    \n",
       "4        General Motors LLC          10/20/2020    $1,717,000,000    \n",
       "\n",
       "  Incentivized Jobs New Jobs Project Type      County  County Tier  \\\n",
       "0             1,700    1,300  Recruitment       Maury            1   \n",
       "1             5,989    8,500  Recruitment    Davidson            1   \n",
       "2               860      860  Recruitment  Montgomery            1   \n",
       "3             1,800     1800    Expansion      Shelby            2   \n",
       "4             2,000        0    Expansion       Maury            1   \n",
       "\n",
       "          FJTAP FIDP            ED  Grants Total  \n",
       "0           NaN  NaN  $78,000,000   $78,000,000   \n",
       "1           NaN  NaN  $65,000,000   $65,000,000   \n",
       "2           NaN  NaN  $40,000,000   $40,000,000   \n",
       "3           NaN  NaN  $36,000,000   $36,000,000   \n",
       "4  $35,000,000   NaN           NaN  $35,000,000   "
      ]
     },
     "execution_count": 2,
     "metadata": {},
     "output_type": "execute_result"
    }
   ],
   "source": [
    "df = pd.read_csv(\"FastTrack_Updated_09-16-2024.csv\")\n",
    "df.head()"
   ]
  },
  {
   "cell_type": "code",
   "execution_count": 3,
   "metadata": {},
   "outputs": [
    {
     "name": "stdout",
     "output_type": "stream",
     "text": [
      "<class 'pandas.core.frame.DataFrame'>\n",
      "RangeIndex: 778 entries, 0 to 777\n",
      "Data columns (total 12 columns):\n",
      " #   Column               Non-Null Count  Dtype \n",
      "---  ------               --------------  ----- \n",
      " 0   Company              778 non-null    object\n",
      " 1   Landed Month / Year  778 non-null    object\n",
      " 2   Capital Investment   778 non-null    object\n",
      " 3   Incentivized Jobs    778 non-null    object\n",
      " 4   New Jobs             778 non-null    object\n",
      " 5   Project Type         778 non-null    object\n",
      " 6   County               778 non-null    object\n",
      " 7   County Tier          778 non-null    int64 \n",
      " 8   FJTAP                522 non-null    object\n",
      " 9   FIDP                 34 non-null     object\n",
      " 10  ED                   272 non-null    object\n",
      " 11  Grants Total         778 non-null    object\n",
      "dtypes: int64(1), object(11)\n",
      "memory usage: 73.1+ KB\n"
     ]
    }
   ],
   "source": [
    "df.info()"
   ]
  },
  {
   "cell_type": "code",
   "execution_count": 4,
   "metadata": {},
   "outputs": [],
   "source": [
    "# Lists for each region\n",
    "region_1 = [\"Anderson\", \"Blount\", \"Campbell\", \"Carter\", \"Claiborne\", \"Cocke\", \"Grainger\", \"Greene\", \"Hamblen\", \"Hancock\", \"Hawkins\", \"Jefferson\", \"Johnson\", \"Knox\", \"Loudon\", \"Monroe\", \"Morgan\", \"Roane\", \"Scott\", \"Sevier\", \"Sullivan\", \"Unicoi\", \"Union\", \"Washington\"]\n",
    "region_2 = [\"Bledsoe\", \"Bradley\", \"Cannon\", \"Clay\", \"Coffee\", \"Cumberland\", \"DeKalb\", \"Fentress\", \"Franklin\", \"Grundy\", \"Hamilton\", \"Jackson\", \"Marion\", \"McMinn\", \"Meigs\", \"Overton\", \"Pickett\", \"Polk\", \"Putnam\", \"Rhea\", \"Sequatchie\", \"Van Buren\", \"Warren\", \"White\"]\n",
    "region_3 = [\"Bedford\", \"Cheatham\", \"Davidson\", \"Dickson\", \"Giles\", \"Hickman\", \"Houston\", \"Humphreys\", \"Lawrence\", \"Lewis\", \"Lincoln\", \"Macon\", \"Marshall\", \"Maury\", \"Montgomery\", \"Moore\", \"Perry\", \"Robertson\", \"Rutherford\", \"Smith\", \"Stewart\", \"Sumner\", \"Trousdale\", \"Washington\", \"Wayne\", \"Williamson\"]\n",
    "region_4 = [\"Benton\", \"Carroll\", \"Chester\", \"Crockett\", \"Decatur\", \"Dyer\", \"Fayette\", \"Gibson\", \"Hardeman\", \"Hardin\", \"Haywood\", \"Henderson\", \"Henry\", \"Lake\", \"Lauderdale\", \"Madison\", \"McNairy\", \"Obion\", \"Shelby\", \"Tipton\", \"Weakley\"]\n",
    "\n",
    "# Combined list for all regions\n",
    "all_regions = region_1 + region_2 + region_3 + region_4"
   ]
  },
  {
   "cell_type": "code",
   "execution_count": 5,
   "metadata": {},
   "outputs": [],
   "source": [
    "healthcare_data = pd.read_csv(r\"C:\\Users\\emm7a\\Desktop\\Coding Library\\Archive\\COE_URP\\Healthcare Prediction Data.csv\")\n",
    "fips_df = healthcare_data[['FIPS', 'County']]\n",
    "fips_df = fips_df.drop_duplicates(subset=['FIPS'])"
   ]
  },
  {
   "cell_type": "code",
   "execution_count": 6,
   "metadata": {},
   "outputs": [
    {
     "data": {
      "text/html": [
       "<div>\n",
       "<style scoped>\n",
       "    .dataframe tbody tr th:only-of-type {\n",
       "        vertical-align: middle;\n",
       "    }\n",
       "\n",
       "    .dataframe tbody tr th {\n",
       "        vertical-align: top;\n",
       "    }\n",
       "\n",
       "    .dataframe thead th {\n",
       "        text-align: right;\n",
       "    }\n",
       "</style>\n",
       "<table border=\"1\" class=\"dataframe\">\n",
       "  <thead>\n",
       "    <tr style=\"text-align: right;\">\n",
       "      <th></th>\n",
       "      <th>Company</th>\n",
       "      <th>Landed Month / Year</th>\n",
       "      <th>Capital Investment</th>\n",
       "      <th>Incentivized Jobs</th>\n",
       "      <th>New Jobs</th>\n",
       "      <th>Project Type</th>\n",
       "      <th>County</th>\n",
       "      <th>County Tier</th>\n",
       "      <th>FJTAP</th>\n",
       "      <th>FIDP</th>\n",
       "      <th>ED</th>\n",
       "      <th>Grants Total</th>\n",
       "      <th>FIPS</th>\n",
       "    </tr>\n",
       "  </thead>\n",
       "  <tbody>\n",
       "    <tr>\n",
       "      <th>0</th>\n",
       "      <td>Ultium Cells LLC</td>\n",
       "      <td>4/16/2021</td>\n",
       "      <td>$2,367,000,000</td>\n",
       "      <td>1,700</td>\n",
       "      <td>1,300</td>\n",
       "      <td>Recruitment</td>\n",
       "      <td>Maury</td>\n",
       "      <td>1</td>\n",
       "      <td>NaN</td>\n",
       "      <td>NaN</td>\n",
       "      <td>$78,000,000</td>\n",
       "      <td>$78,000,000</td>\n",
       "      <td>47119.0</td>\n",
       "    </tr>\n",
       "    <tr>\n",
       "      <th>1</th>\n",
       "      <td>Oracle America, Inc.</td>\n",
       "      <td>8/31/2021</td>\n",
       "      <td>$1,350,000,000</td>\n",
       "      <td>5,989</td>\n",
       "      <td>8,500</td>\n",
       "      <td>Recruitment</td>\n",
       "      <td>Davidson</td>\n",
       "      <td>1</td>\n",
       "      <td>NaN</td>\n",
       "      <td>NaN</td>\n",
       "      <td>$65,000,000</td>\n",
       "      <td>$65,000,000</td>\n",
       "      <td>47037.0</td>\n",
       "    </tr>\n",
       "    <tr>\n",
       "      <th>2</th>\n",
       "      <td>LG Chem America Inc.</td>\n",
       "      <td>11/21/2022</td>\n",
       "      <td>$3,205,715,854</td>\n",
       "      <td>860</td>\n",
       "      <td>860</td>\n",
       "      <td>Recruitment</td>\n",
       "      <td>Montgomery</td>\n",
       "      <td>1</td>\n",
       "      <td>NaN</td>\n",
       "      <td>NaN</td>\n",
       "      <td>$40,000,000</td>\n",
       "      <td>$40,000,000</td>\n",
       "      <td>47125.0</td>\n",
       "    </tr>\n",
       "    <tr>\n",
       "      <th>3</th>\n",
       "      <td>ALSAC St Jude Children's</td>\n",
       "      <td>11/30/2016</td>\n",
       "      <td>$1,000,000,000</td>\n",
       "      <td>1,800</td>\n",
       "      <td>1800</td>\n",
       "      <td>Expansion</td>\n",
       "      <td>Shelby</td>\n",
       "      <td>2</td>\n",
       "      <td>NaN</td>\n",
       "      <td>NaN</td>\n",
       "      <td>$36,000,000</td>\n",
       "      <td>$36,000,000</td>\n",
       "      <td>47157.0</td>\n",
       "    </tr>\n",
       "    <tr>\n",
       "      <th>4</th>\n",
       "      <td>General Motors LLC</td>\n",
       "      <td>10/20/2020</td>\n",
       "      <td>$1,717,000,000</td>\n",
       "      <td>2,000</td>\n",
       "      <td>0</td>\n",
       "      <td>Expansion</td>\n",
       "      <td>Maury</td>\n",
       "      <td>1</td>\n",
       "      <td>$35,000,000</td>\n",
       "      <td>NaN</td>\n",
       "      <td>NaN</td>\n",
       "      <td>$35,000,000</td>\n",
       "      <td>47119.0</td>\n",
       "    </tr>\n",
       "  </tbody>\n",
       "</table>\n",
       "</div>"
      ],
      "text/plain": [
       "                    Company Landed Month / Year Capital Investment  \\\n",
       "0          Ultium Cells LLC           4/16/2021    $2,367,000,000    \n",
       "1      Oracle America, Inc.           8/31/2021    $1,350,000,000    \n",
       "2      LG Chem America Inc.          11/21/2022    $3,205,715,854    \n",
       "3  ALSAC St Jude Children's          11/30/2016    $1,000,000,000    \n",
       "4        General Motors LLC          10/20/2020    $1,717,000,000    \n",
       "\n",
       "  Incentivized Jobs New Jobs Project Type      County  County Tier  \\\n",
       "0             1,700    1,300  Recruitment       Maury            1   \n",
       "1             5,989    8,500  Recruitment    Davidson            1   \n",
       "2               860      860  Recruitment  Montgomery            1   \n",
       "3             1,800     1800    Expansion      Shelby            2   \n",
       "4             2,000        0    Expansion       Maury            1   \n",
       "\n",
       "          FJTAP FIDP            ED  Grants Total     FIPS  \n",
       "0           NaN  NaN  $78,000,000   $78,000,000   47119.0  \n",
       "1           NaN  NaN  $65,000,000   $65,000,000   47037.0  \n",
       "2           NaN  NaN  $40,000,000   $40,000,000   47125.0  \n",
       "3           NaN  NaN  $36,000,000   $36,000,000   47157.0  \n",
       "4  $35,000,000   NaN           NaN  $35,000,000   47119.0  "
      ]
     },
     "execution_count": 6,
     "metadata": {},
     "output_type": "execute_result"
    }
   ],
   "source": [
    "county_df = pd.merge(df, fips_df, on='County', how='left')\n",
    "county_df.head()"
   ]
  },
  {
   "cell_type": "code",
   "execution_count": 7,
   "metadata": {},
   "outputs": [],
   "source": [
    "# Data Cleaning\n",
    "county_df['Landed Month / Year'] = pd.to_datetime(county_df['Landed Month / Year'], format='%m/%d/%Y')\n",
    "county_df['Capital Investment'] = county_df['Capital Investment'].replace({'\\$': '', ',': ''}, regex=True).astype('int64')\n",
    "county_df['Grants Total'] = county_df['Grants Total'].replace({'\\$': '', ',': ''}, regex=True).astype('int64')\n",
    "county_df['FJTAP'] = county_df['FJTAP'].fillna(0).replace({'\\$': '', ',': ''}, regex=True).astype('int64')\n",
    "county_df['FIDP'] = county_df['FIDP'].fillna(0).replace({'\\$': '', ',': ''}, regex=True).astype('int64')\n",
    "county_df['ED'] = county_df['ED'].fillna(0).replace({'\\$': '', ',': ''}, regex=True).astype('int64')\n",
    "county_df['Incentivized Jobs'] = county_df['Incentivized Jobs'].replace({'\\$': '', ',': ''}, regex=True).astype('int64')\n",
    "county_df['New Jobs'] = county_df['New Jobs'].replace({'\\$': '', ',': ''}, regex=True).astype('int64')"
   ]
  },
  {
   "cell_type": "code",
   "execution_count": 8,
   "metadata": {},
   "outputs": [],
   "source": [
    "regions = pd.read_excel(\"Forecasting_Employment.xlsx\", sheet_name='Regions')\n",
    "# Step 1: Melt the 'regions' DataFrame\n",
    "melted_regions = regions.melt(var_name='Region', value_name='County')\n",
    "\n",
    "# Step 2: Drop duplicates in case a county appears in more than one region\n",
    "melted_regions = melted_regions.drop_duplicates(subset='County')\n",
    "\n",
    "# Step 3: Map the Region to the County in 'county_df'\n",
    "county_df['Region'] = county_df['County'].map(melted_regions.set_index('County')['Region'])\n",
    "\n",
    "# Now 'county_df' will have a 'Region' column that corresponds to each 'County'"
   ]
  },
  {
   "cell_type": "code",
   "execution_count": 46,
   "metadata": {},
   "outputs": [
    {
     "name": "stdout",
     "output_type": "stream",
     "text": [
      "<class 'pandas.core.frame.DataFrame'>\n",
      "RangeIndex: 778 entries, 0 to 777\n",
      "Data columns (total 15 columns):\n",
      " #   Column               Non-Null Count  Dtype         \n",
      "---  ------               --------------  -----         \n",
      " 0   Company              778 non-null    object        \n",
      " 1   Landed Month / Year  778 non-null    datetime64[ns]\n",
      " 2   Capital Investment   778 non-null    int64         \n",
      " 3   Incentivized Jobs    778 non-null    int64         \n",
      " 4   New Jobs             778 non-null    int64         \n",
      " 5   Project Type         778 non-null    object        \n",
      " 6   County               778 non-null    object        \n",
      " 7   County Tier          778 non-null    int64         \n",
      " 8   FJTAP                778 non-null    int64         \n",
      " 9   FIDP                 778 non-null    int64         \n",
      " 10  ED                   778 non-null    int64         \n",
      " 11  Grants Total         778 non-null    int64         \n",
      " 12  FIPS                 720 non-null    float64       \n",
      " 13  Region               755 non-null    object        \n",
      " 14  Grant Type           778 non-null    object        \n",
      "dtypes: datetime64[ns](1), float64(1), int64(8), object(5)\n",
      "memory usage: 91.3+ KB\n"
     ]
    }
   ],
   "source": [
    "county_df.info()"
   ]
  },
  {
   "cell_type": "code",
   "execution_count": 10,
   "metadata": {},
   "outputs": [],
   "source": [
    "def generate_county_map(df, values_column, values_label, title, color_scale):\n",
    "    df1 = df.copy()\n",
    "    # df1['FIPS'] = df1['FIPS'].apply(lambda x: int(x[:-2]))\n",
    "    fig = px.choropleth(df1, \n",
    "                        geojson='https://raw.githubusercontent.com/plotly/datasets/master/geojson-counties-fips.json', \n",
    "                        locations='FIPS', \n",
    "                        color=values_column,\n",
    "                        color_continuous_scale=color_scale,\n",
    "                        range_color=(df1[values_column].min(), df1[values_column].max()),\n",
    "                        scope=\"usa\",\n",
    "                        labels={values_column: values_label},\n",
    "                        hover_data={'County': True}\n",
    "                       )\n",
    "\n",
    "    fig.update_geos(center=dict(lon=-86.25, lat=36), \n",
    "                    projection_scale=7)  # Adjust projection_scale as needed for zoom level\n",
    "    fig.update_layout(\n",
    "        title_text=title,\n",
    "        title_x=0.5,  # Center the title horizontally\n",
    "        title_y=0.9,\n",
    "        title_font=dict(size=20),  # Increase the font size\n",
    "        template=\"plotly_dark\",\n",
    "        height=600,\n",
    "        width=800,\n",
    "        margin=dict(l=0, r=0, t=0, b=0),  # Adjusted top margin to accommodate the larger title\n",
    "        coloraxis_colorbar=dict(\n",
    "            len=0.75,  # Decrease the length of the color scale to 50% of the plot area height\n",
    "            orientation='v'  # Ensure it's vertical; change to 'h' for horizontal\n",
    "        )\n",
    "    )\n",
    "    fig.show()"
   ]
  },
  {
   "cell_type": "code",
   "execution_count": 11,
   "metadata": {},
   "outputs": [
    {
     "data": {
      "application/vnd.plotly.v1+json": {
       "config": {
        "plotlyServerURL": "https://plot.ly"
       },
       "data": [
        {
         "coloraxis": "coloraxis",
         "customdata": [
          [
           "Maury"
          ],
          [
           "Davidson"
          ],
          [
           "Montgomery"
          ],
          [
           "Shelby"
          ],
          [
           "Maury"
          ],
          [
           "Blount"
          ],
          [
           "Davidson"
          ],
          [
           "Gibson"
          ],
          [
           "Davidson"
          ],
          [
           "Wilson"
          ],
          [
           "Davidson"
          ],
          [
           "Shelby"
          ],
          [
           "Bradley"
          ],
          [
           "Blount"
          ],
          [
           "Warren"
          ],
          [
           "Roane"
          ],
          [
           "Rhea"
          ],
          [
           "Davidson"
          ],
          [
           "Maury"
          ],
          [
           "Montgomery"
          ],
          [
           "Shelby"
          ],
          [
           "Obion"
          ],
          [
           "Knox"
          ],
          [
           "Davidson"
          ],
          [
           "Shelby"
          ],
          [
           "Jefferson"
          ],
          [
           "Robertson"
          ],
          [
           "Montgomery"
          ],
          [
           "Loudon"
          ],
          [
           "Shelby"
          ],
          [
           "Anderson"
          ],
          [
           "Davidson"
          ],
          [
           "Rutherford"
          ],
          [
           "Putnam"
          ],
          [
           "Robertson"
          ],
          [
           "Dickson"
          ],
          [
           "Knox"
          ],
          [
           "Davidson"
          ],
          [
           "Williamson"
          ],
          [
           "Carroll"
          ],
          [
           "Maury"
          ],
          [
           "Shelby"
          ],
          [
           "Lincoln"
          ],
          [
           "Montgomery"
          ],
          [
           "Carroll"
          ],
          [
           "Montgomery"
          ],
          [
           "Putnam"
          ],
          [
           "Hamilton"
          ],
          [
           "Putnam"
          ],
          [
           "Bledsoe"
          ],
          [
           "Bradley"
          ],
          [
           "Rutherford"
          ],
          [
           "Williamson"
          ],
          [
           "Davidson"
          ],
          [
           "Davidson"
          ],
          [
           "Henderson"
          ],
          [
           "Lawrence"
          ],
          [
           "Roane"
          ],
          [
           "Rutherford"
          ],
          [
           "Madison"
          ],
          [
           "McMinn"
          ],
          [
           "Shelby"
          ],
          [
           "Marshall"
          ],
          [
           "Obion"
          ],
          [
           "Shelby"
          ],
          [
           "Monroe"
          ],
          [
           "Weakley"
          ],
          [
           "Wilson"
          ],
          [
           "Wilson"
          ],
          [
           "White"
          ],
          [
           "Williamson"
          ],
          [
           "Shelby"
          ],
          [
           "Wilson"
          ],
          [
           "Davidson"
          ],
          [
           "Macon"
          ],
          [
           "Bradley"
          ],
          [
           "Shelby"
          ],
          [
           "Claiborne"
          ],
          [
           "Bradley"
          ],
          [
           "Shelby"
          ],
          [
           "Hardeman"
          ],
          [
           "Williamson"
          ],
          [
           "Davidson"
          ],
          [
           "Campbell"
          ],
          [
           "Dickson"
          ],
          [
           "Washington"
          ],
          [
           "Hamblen"
          ],
          [
           "Henderson"
          ],
          [
           "Hamilton"
          ],
          [
           "Weakley"
          ],
          [
           "Madison"
          ],
          [
           "Cheatham"
          ],
          [
           "Coffee"
          ],
          [
           "Lincoln"
          ],
          [
           "Davidson"
          ],
          [
           "Shelby"
          ],
          [
           "Montgomery"
          ],
          [
           "Montgomery"
          ],
          [
           "Blount"
          ],
          [
           "Shelby"
          ],
          [
           "Shelby"
          ],
          [
           "Wilson"
          ],
          [
           "Maury"
          ],
          [
           "Blount"
          ],
          [
           "Robertson"
          ],
          [
           "Knox"
          ],
          [
           "Sullivan"
          ],
          [
           "Sullivan"
          ],
          [
           "Rhea"
          ],
          [
           "Washington"
          ],
          [
           "Loudon"
          ],
          [
           "Hamilton"
          ],
          [
           "Carroll"
          ],
          [
           "Wilson"
          ],
          [
           "Davidson"
          ],
          [
           "Davidson"
          ],
          [
           "Henderson"
          ],
          [
           "Williamson"
          ],
          [
           "Hamilton"
          ],
          [
           "Loudon"
          ],
          [
           "Davidson"
          ],
          [
           "Williamson"
          ],
          [
           "Knox"
          ],
          [
           "Shelby"
          ],
          [
           "Cheatham"
          ],
          [
           "Hamilton"
          ],
          [
           "Greene"
          ],
          [
           "Dyer"
          ],
          [
           "Hamilton"
          ],
          [
           "Wilson"
          ],
          [
           "Shelby"
          ],
          [
           "Perry"
          ],
          [
           "Robertson"
          ],
          [
           "Montgomery"
          ],
          [
           "Putnam"
          ],
          [
           "Davidson"
          ],
          [
           "Putnam"
          ],
          [
           "Hardeman"
          ],
          [
           "Davidson"
          ],
          [
           "Obion"
          ],
          [
           "Dyer"
          ],
          [
           "Davidson"
          ],
          [
           "Davidson"
          ],
          [
           "Lincoln"
          ],
          [
           "Hamilton"
          ],
          [
           "Maury"
          ],
          [
           "Hamilton"
          ],
          [
           "Washington"
          ],
          [
           "Shelby"
          ],
          [
           "Unicoi"
          ],
          [
           "Williamson"
          ],
          [
           "Madison"
          ],
          [
           "Hawkins"
          ],
          [
           "Bradley"
          ],
          [
           "Rutherford"
          ],
          [
           "Davidson"
          ],
          [
           "Shelby"
          ],
          [
           "Overton"
          ],
          [
           "Carroll"
          ],
          [
           "Wilson"
          ],
          [
           "Henderson"
          ],
          [
           "Davidson"
          ],
          [
           "Hawkins"
          ],
          [
           "Rhea"
          ],
          [
           "Davidson"
          ],
          [
           "Maury"
          ],
          [
           "Washington"
          ],
          [
           "Shelby"
          ],
          [
           "Williamson"
          ],
          [
           "Hamblen"
          ],
          [
           "Wilson"
          ],
          [
           "Bledsoe"
          ],
          [
           "Washington"
          ],
          [
           "Williamson"
          ],
          [
           "Dyer"
          ],
          [
           "Davidson"
          ],
          [
           "Williamson"
          ],
          [
           "Hamilton"
          ],
          [
           "Maury"
          ],
          [
           "Hamilton"
          ],
          [
           "Sevier"
          ],
          [
           "Shelby"
          ],
          [
           "Shelby"
          ],
          [
           "Williamson"
          ],
          [
           "Montgomery"
          ],
          [
           "Sullivan"
          ],
          [
           "Shelby"
          ],
          [
           "Davidson"
          ],
          [
           "Maury"
          ],
          [
           "Shelby"
          ],
          [
           "McMinn"
          ],
          [
           "Hamblen"
          ],
          [
           "Shelby"
          ],
          [
           "Madison"
          ],
          [
           "Henry"
          ],
          [
           "Wilson"
          ],
          [
           "Shelby"
          ],
          [
           "Williamson"
          ],
          [
           "Cumberland"
          ],
          [
           "Bradley"
          ],
          [
           "Hardin"
          ],
          [
           "Gibson"
          ],
          [
           "Hamblen"
          ],
          [
           "Williamson"
          ],
          [
           "Hamilton"
          ],
          [
           "Greene"
          ],
          [
           "Sullivan"
          ],
          [
           "Humphreys"
          ],
          [
           "Bedford"
          ],
          [
           "Hamilton"
          ],
          [
           "Giles"
          ],
          [
           "Montgomery"
          ],
          [
           "Shelby"
          ],
          [
           "Williamson"
          ],
          [
           "Overton"
          ],
          [
           "Greene"
          ],
          [
           "Williamson"
          ],
          [
           "Wilson"
          ],
          [
           "Hancock"
          ],
          [
           "Hardeman"
          ],
          [
           "Lawrence"
          ],
          [
           "Bradley"
          ],
          [
           "Maury"
          ],
          [
           "Lincoln"
          ],
          [
           "Hamblen"
          ],
          [
           "Shelby"
          ],
          [
           "Marshall"
          ],
          [
           "Sevier"
          ],
          [
           "Maury"
          ],
          [
           "Hawkins"
          ],
          [
           "Hamilton"
          ],
          [
           "Knox"
          ],
          [
           "Hamilton"
          ],
          [
           "Henderson"
          ],
          [
           "Blount"
          ],
          [
           "Bledsoe"
          ],
          [
           "Knox"
          ],
          [
           "Maury"
          ],
          [
           "Roane"
          ],
          [
           "Bradley"
          ],
          [
           "Hawkins"
          ],
          [
           "Wilson"
          ],
          [
           "Jefferson"
          ],
          [
           "Rutherford"
          ],
          [
           "Bradley"
          ],
          [
           "Rhea"
          ],
          [
           "Lincoln"
          ],
          [
           "Shelby"
          ],
          [
           "Maury"
          ],
          [
           "Hamblen"
          ],
          [
           "Hamilton"
          ],
          [
           "Knox"
          ],
          [
           "Bedford"
          ],
          [
           "Davidson"
          ],
          [
           "Madison"
          ],
          [
           "Shelby"
          ],
          [
           "Sumner"
          ],
          [
           "Sullivan"
          ],
          [
           "Williamson"
          ],
          [
           "Davidson"
          ],
          [
           "Hawkins"
          ],
          [
           "Washington"
          ],
          [
           "Henry"
          ],
          [
           "Davidson"
          ],
          [
           "Lauderdale"
          ],
          [
           "Shelby"
          ],
          [
           "Wilson"
          ],
          [
           "Knox"
          ],
          [
           "Knox"
          ],
          [
           "Dyer"
          ],
          [
           "Shelby"
          ],
          [
           "Wilson"
          ],
          [
           "Shelby"
          ],
          [
           "Carroll"
          ],
          [
           "Madison"
          ],
          [
           "Carroll"
          ],
          [
           "Shelby"
          ],
          [
           "Macon"
          ],
          [
           "Shelby"
          ],
          [
           "Madison"
          ],
          [
           "Warren"
          ],
          [
           "Davidson"
          ],
          [
           "Wilson"
          ],
          [
           "Campbell"
          ],
          [
           "Cheatham"
          ],
          [
           "Warren"
          ],
          [
           "Perry"
          ],
          [
           "Shelby"
          ],
          [
           "Davidson"
          ],
          [
           "Greene"
          ],
          [
           "Putnam"
          ],
          [
           "Williamson"
          ],
          [
           "Maury"
          ],
          [
           "Montgomery"
          ],
          [
           "Sevier"
          ],
          [
           "Henderson"
          ],
          [
           "Scott"
          ],
          [
           "Williamson"
          ],
          [
           "Rutherford"
          ],
          [
           "Knox"
          ],
          [
           "Lawrence"
          ],
          [
           "Rutherford"
          ],
          [
           "Hamilton"
          ],
          [
           "Davidson"
          ],
          [
           "Davidson"
          ],
          [
           "Cheatham"
          ],
          [
           "Davidson"
          ],
          [
           "Weakley"
          ],
          [
           "Sumner"
          ],
          [
           "Shelby"
          ],
          [
           "Robertson"
          ],
          [
           "Montgomery"
          ],
          [
           "Perry"
          ],
          [
           "Campbell"
          ],
          [
           "Bradley"
          ],
          [
           "Sumner"
          ],
          [
           "Davidson"
          ],
          [
           "Henry"
          ],
          [
           "White"
          ],
          [
           "Sullivan"
          ],
          [
           "Carter"
          ],
          [
           "Sullivan"
          ],
          [
           "Sumner"
          ],
          [
           "Overton"
          ],
          [
           "Greene"
          ],
          [
           "Cocke"
          ],
          [
           "Shelby"
          ],
          [
           "Benton"
          ],
          [
           "Cumberland"
          ],
          [
           "Henderson"
          ],
          [
           "Shelby"
          ],
          [
           "Johnson"
          ],
          [
           "Sumner"
          ],
          [
           "Shelby"
          ],
          [
           "Davidson"
          ],
          [
           "Hamilton"
          ],
          [
           "Shelby"
          ],
          [
           "Monroe"
          ],
          [
           "Gibson"
          ],
          [
           "Davidson"
          ],
          [
           "Lawrence"
          ],
          [
           "Carter"
          ],
          [
           "Bradley"
          ],
          [
           "Humphreys"
          ],
          [
           "Davidson"
          ],
          [
           "Monroe"
          ],
          [
           "Gibson"
          ],
          [
           "Sullivan"
          ],
          [
           "Hamblen"
          ],
          [
           "Hamilton"
          ],
          [
           "Wilson"
          ],
          [
           "Bradley"
          ],
          [
           "Hamblen"
          ],
          [
           "Warren"
          ],
          [
           "Perry"
          ],
          [
           "Hardin"
          ],
          [
           "Robertson"
          ],
          [
           "Lawrence"
          ],
          [
           "Lawrence"
          ],
          [
           "Shelby"
          ],
          [
           "Putnam"
          ],
          [
           "Davidson"
          ],
          [
           "Greene"
          ],
          [
           "Sumner"
          ],
          [
           "Warren"
          ],
          [
           "Bedford"
          ],
          [
           "Sullivan"
          ],
          [
           "Montgomery"
          ],
          [
           "Carroll"
          ],
          [
           "Shelby"
          ],
          [
           "Shelby"
          ],
          [
           "Dyer"
          ],
          [
           "Dyer"
          ],
          [
           "Blount"
          ],
          [
           "Franklin"
          ],
          [
           "Blount"
          ],
          [
           "Robertson"
          ],
          [
           "Davidson"
          ],
          [
           "Lauderdale"
          ],
          [
           "Wilson"
          ],
          [
           "White"
          ],
          [
           "Madison"
          ],
          [
           "Rutherford"
          ],
          [
           "Dyer"
          ],
          [
           "Cocke"
          ],
          [
           "Maury"
          ],
          [
           "Wayne"
          ],
          [
           "Sumner"
          ],
          [
           "Shelby"
          ],
          [
           "Hamilton"
          ],
          [
           "Gibson"
          ],
          [
           "Hamblen"
          ],
          [
           "Coffee"
          ],
          [
           "Dickson"
          ],
          [
           "Dyer"
          ],
          [
           "Rutherford"
          ],
          [
           "Gibson"
          ],
          [
           "Wilson"
          ],
          [
           "Davidson"
          ],
          [
           "Robertson"
          ],
          [
           "Lauderdale"
          ],
          [
           "Davidson"
          ],
          [
           "Lawrence"
          ],
          [
           "Dyer"
          ],
          [
           "Wilson"
          ],
          [
           "Montgomery"
          ],
          [
           "Roane"
          ],
          [
           "Shelby"
          ],
          [
           "Hardin"
          ],
          [
           "Rhea"
          ],
          [
           "Greene"
          ],
          [
           "Henderson"
          ],
          [
           "McMinn"
          ],
          [
           "Lincoln"
          ],
          [
           "Shelby"
          ],
          [
           "Coffee"
          ],
          [
           "Madison"
          ],
          [
           "Marshall"
          ],
          [
           "Hamilton"
          ],
          [
           "Lawrence"
          ],
          [
           "Williamson"
          ],
          [
           "Davidson"
          ],
          [
           "Sullivan"
          ],
          [
           "Coffee"
          ],
          [
           "Robertson"
          ],
          [
           "Lawrence"
          ],
          [
           "Dyer"
          ],
          [
           "Davidson"
          ],
          [
           "Williamson"
          ],
          [
           "Rutherford"
          ],
          [
           "Lawrence"
          ],
          [
           "Sullivan"
          ],
          [
           "Shelby"
          ],
          [
           "Rutherford"
          ],
          [
           "Hamilton"
          ],
          [
           "Williamson"
          ],
          [
           "Madison"
          ],
          [
           "Knox"
          ],
          [
           "Carter"
          ],
          [
           "Hickman"
          ],
          [
           "Maury"
          ],
          [
           "Davidson"
          ],
          [
           "Shelby"
          ],
          [
           "Williamson"
          ],
          [
           "Coffee"
          ],
          [
           "Lauderdale"
          ],
          [
           "Hamilton"
          ],
          [
           "Hardin"
          ],
          [
           "Perry"
          ],
          [
           "DeKalb"
          ],
          [
           "Rutherford"
          ],
          [
           "Campbell"
          ],
          [
           "Hawkins"
          ],
          [
           "Madison"
          ],
          [
           "Shelby"
          ],
          [
           "Hamilton"
          ],
          [
           "Shelby"
          ],
          [
           "Rhea"
          ],
          [
           "Shelby"
          ],
          [
           "Davidson"
          ],
          [
           "Henry"
          ],
          [
           "Shelby"
          ],
          [
           "Greene"
          ],
          [
           "Hamilton"
          ],
          [
           "Shelby"
          ],
          [
           "Sumner"
          ],
          [
           "Gibson"
          ],
          [
           "Bedford"
          ],
          [
           "Putnam"
          ],
          [
           "Robertson"
          ],
          [
           "Sumner"
          ],
          [
           "Hamilton"
          ],
          [
           "Madison"
          ],
          [
           "Shelby"
          ],
          [
           "Weakley"
          ],
          [
           "Williamson"
          ],
          [
           "Greene"
          ],
          [
           "Hamilton"
          ],
          [
           "Knox"
          ],
          [
           "Maury"
          ],
          [
           "Rutherford"
          ],
          [
           "Gibson"
          ],
          [
           "Wayne"
          ],
          [
           "Rutherford"
          ],
          [
           "Davidson"
          ],
          [
           "Davidson"
          ],
          [
           "Scott"
          ],
          [
           "Madison"
          ],
          [
           "Weakley"
          ],
          [
           "Knox"
          ],
          [
           "Williamson"
          ],
          [
           "Williamson"
          ],
          [
           "Davidson"
          ],
          [
           "Marshall"
          ],
          [
           "Shelby"
          ],
          [
           "Lincoln"
          ],
          [
           "Carroll"
          ],
          [
           "Hamilton"
          ],
          [
           "Maury"
          ],
          [
           "Shelby"
          ],
          [
           "Blount"
          ],
          [
           "Trousdale"
          ],
          [
           "Williamson"
          ],
          [
           "Roane"
          ],
          [
           "Sullivan"
          ],
          [
           "Rutherford"
          ],
          [
           "Williamson"
          ],
          [
           "Hamilton"
          ],
          [
           "Putnam"
          ],
          [
           "Knox"
          ],
          [
           "Rutherford"
          ],
          [
           "Sullivan"
          ],
          [
           "Houston"
          ],
          [
           "Hamilton"
          ],
          [
           "Greene"
          ],
          [
           "Davidson"
          ],
          [
           "Shelby"
          ],
          [
           "Hawkins"
          ],
          [
           "Shelby"
          ],
          [
           "Hamblen"
          ],
          [
           "Cumberland"
          ],
          [
           "Trousdale"
          ],
          [
           "Coffee"
          ],
          [
           "Rutherford"
          ],
          [
           "Shelby"
          ],
          [
           "Lincoln"
          ],
          [
           "Knox"
          ],
          [
           "Lincoln"
          ],
          [
           "Madison"
          ],
          [
           "Shelby"
          ],
          [
           "Henry"
          ],
          [
           "Davidson"
          ],
          [
           "Rutherford"
          ],
          [
           "Greene"
          ],
          [
           "Madison"
          ],
          [
           "Knox"
          ],
          [
           "Davidson"
          ],
          [
           "Sullivan"
          ],
          [
           "Sullivan"
          ],
          [
           "Putnam"
          ],
          [
           "Williamson"
          ],
          [
           "Hamilton"
          ],
          [
           "Coffee"
          ],
          [
           "Gibson"
          ],
          [
           "Macon"
          ],
          [
           "Williamson"
          ],
          [
           "Montgomery"
          ],
          [
           "Madison"
          ],
          [
           "Cocke"
          ],
          [
           "Greene"
          ],
          [
           "Williamson"
          ],
          [
           "Shelby"
          ],
          [
           "Franklin"
          ],
          [
           "Davidson"
          ],
          [
           "Rutherford"
          ],
          [
           "Madison"
          ],
          [
           "Madison"
          ],
          [
           "Overton"
          ],
          [
           "Shelby"
          ],
          [
           "Dickson"
          ],
          [
           "Hardeman"
          ],
          [
           "Madison"
          ],
          [
           "Hamilton"
          ],
          [
           "Davidson"
          ],
          [
           "Rhea"
          ],
          [
           "Maury"
          ],
          [
           "Blount"
          ],
          [
           "Shelby"
          ],
          [
           "Marshall"
          ],
          [
           "Williamson"
          ],
          [
           "Coffee"
          ],
          [
           "Hamilton"
          ],
          [
           "Davidson"
          ],
          [
           "Greene"
          ],
          [
           "Davidson"
          ],
          [
           "Davidson"
          ],
          [
           "Shelby"
          ],
          [
           "Lincoln"
          ],
          [
           "Hamilton"
          ],
          [
           "Rutherford"
          ],
          [
           "Davidson"
          ],
          [
           "Sumner"
          ],
          [
           "Shelby"
          ],
          [
           "Shelby"
          ],
          [
           "Anderson"
          ],
          [
           "Dickson"
          ],
          [
           "Knox"
          ],
          [
           "Monroe"
          ],
          [
           "Henry"
          ],
          [
           "Maury"
          ],
          [
           "Lauderdale"
          ],
          [
           "Madison"
          ],
          [
           "Rutherford"
          ],
          [
           "Cocke"
          ],
          [
           "Williamson"
          ],
          [
           "Henderson"
          ],
          [
           "Tipton"
          ],
          [
           "Shelby"
          ],
          [
           "Washington"
          ],
          [
           "Monroe"
          ],
          [
           "Greene"
          ],
          [
           "Davidson"
          ],
          [
           "Madison"
          ],
          [
           "Wilson"
          ],
          [
           "Hamilton"
          ],
          [
           "Knox"
          ],
          [
           "Wilson"
          ],
          [
           "Marshall"
          ],
          [
           "Hamilton"
          ],
          [
           "Madison"
          ],
          [
           "Montgomery"
          ],
          [
           "Rutherford"
          ],
          [
           "Montgomery"
          ],
          [
           "Knox"
          ],
          [
           "Hickman"
          ],
          [
           "Williamson"
          ],
          [
           "Dyer"
          ],
          [
           "Madison"
          ],
          [
           "Shelby"
          ],
          [
           "Maury"
          ],
          [
           "Shelby"
          ],
          [
           "Maury"
          ],
          [
           "Davidson"
          ],
          [
           "Wayne"
          ],
          [
           "Williamson"
          ],
          [
           "Madison"
          ],
          [
           "Blount"
          ],
          [
           "Davidson"
          ],
          [
           "Shelby"
          ],
          [
           "Sullivan"
          ],
          [
           "Davidson"
          ],
          [
           "Williamson"
          ],
          [
           "Giles"
          ],
          [
           "Lawrence"
          ],
          [
           "Davidson"
          ],
          [
           "Henderson"
          ],
          [
           "Hamilton"
          ],
          [
           "Madison"
          ],
          [
           "Davidson"
          ],
          [
           "Hamblen"
          ],
          [
           "Loudon"
          ],
          [
           "Williamson"
          ],
          [
           "Hamilton"
          ],
          [
           "Obion"
          ],
          [
           "Madison"
          ],
          [
           "Overton"
          ],
          [
           "Shelby"
          ],
          [
           "Shelby"
          ],
          [
           "Rutherford"
          ],
          [
           "Cheatham"
          ],
          [
           "Loudon"
          ],
          [
           "Davidson"
          ],
          [
           "Sumner"
          ],
          [
           "Davidson"
          ],
          [
           "Williamson"
          ],
          [
           "Dickson"
          ],
          [
           "Shelby"
          ],
          [
           "Sumner"
          ],
          [
           "Bedford"
          ],
          [
           "Sumner"
          ],
          [
           "Giles"
          ],
          [
           "Greene"
          ],
          [
           "Bradley"
          ],
          [
           "Henderson"
          ],
          [
           "White"
          ],
          [
           "Bedford"
          ],
          [
           "Madison"
          ],
          [
           "McMinn"
          ],
          [
           "Robertson"
          ],
          [
           "Madison"
          ],
          [
           "Davidson"
          ],
          [
           "Loudon"
          ],
          [
           "Shelby"
          ],
          [
           "Madison"
          ],
          [
           "Shelby"
          ],
          [
           "Anderson"
          ],
          [
           "Shelby"
          ],
          [
           "Shelby"
          ],
          [
           "Davidson"
          ],
          [
           "Henderson"
          ],
          [
           "Monroe"
          ],
          [
           "Maury"
          ],
          [
           "Hamilton"
          ],
          [
           "Bedford"
          ],
          [
           "Davidson"
          ],
          [
           "Sumner"
          ],
          [
           "Dickson"
          ],
          [
           "Sevier"
          ],
          [
           "Maury"
          ],
          [
           "Shelby"
          ],
          [
           "Hamblen"
          ],
          [
           "Robertson"
          ],
          [
           "Sumner"
          ],
          [
           "Unicoi"
          ],
          [
           "Sullivan"
          ],
          [
           "Shelby"
          ],
          [
           "Obion"
          ],
          [
           "Shelby"
          ],
          [
           "Knox"
          ],
          [
           "Scott"
          ],
          [
           "Madison"
          ],
          [
           "Davidson"
          ],
          [
           "Washington"
          ],
          [
           "Hawkins"
          ],
          [
           "Carter"
          ],
          [
           "Shelby"
          ],
          [
           "Perry"
          ],
          [
           "Wilson"
          ],
          [
           "Madison"
          ],
          [
           "Johnson"
          ],
          [
           "Sullivan"
          ],
          [
           "Shelby"
          ],
          [
           "Shelby"
          ],
          [
           "Greene"
          ],
          [
           "Shelby"
          ],
          [
           "Wilson"
          ],
          [
           "Humphreys"
          ],
          [
           "Madison"
          ],
          [
           "Hardin"
          ],
          [
           "Shelby"
          ]
         ],
         "geo": "geo",
         "geojson": "https://raw.githubusercontent.com/plotly/datasets/master/geojson-counties-fips.json",
         "hovertemplate": "FIPS=%{location}<br>County=%{customdata[0]}<br>New Jobs=%{z}<extra></extra>",
         "locations": [
          47119,
          47037,
          47125,
          47157,
          47119,
          47009,
          47037,
          47053,
          47037,
          47189,
          47037,
          47157,
          47011,
          47009,
          47177,
          47145,
          47143,
          47037,
          47119,
          47125,
          47157,
          47131,
          47093,
          47037,
          47157,
          47089,
          47147,
          47125,
          47105,
          47157,
          47001,
          47037,
          47149,
          47141,
          47147,
          47043,
          47093,
          47037,
          47187,
          47017,
          47119,
          47157,
          47103,
          47125,
          47017,
          47125,
          47141,
          47065,
          47141,
          47007,
          47011,
          47149,
          47187,
          47037,
          47037,
          47077,
          47099,
          47145,
          47149,
          47113,
          47107,
          47157,
          47117,
          47131,
          47157,
          47123,
          47183,
          47189,
          47189,
          47185,
          47187,
          47157,
          47189,
          47037,
          47111,
          47011,
          47157,
          47025,
          47011,
          47157,
          47069,
          47187,
          47037,
          47013,
          47043,
          47179,
          47063,
          47077,
          47065,
          47183,
          47113,
          47021,
          47031,
          47103,
          47037,
          47157,
          47125,
          47125,
          47009,
          47157,
          47157,
          47189,
          47119,
          47009,
          47147,
          47093,
          47163,
          47163,
          47143,
          47179,
          47105,
          47065,
          47017,
          47189,
          47037,
          47037,
          47077,
          47187,
          47065,
          47105,
          47037,
          47187,
          47093,
          47157,
          47021,
          47065,
          47059,
          47045,
          47065,
          47189,
          47157,
          47135,
          47147,
          47125,
          47141,
          47037,
          47141,
          47069,
          47037,
          47131,
          47045,
          47037,
          47037,
          47103,
          47065,
          47119,
          47065,
          47179,
          47157,
          47171,
          47187,
          47113,
          47073,
          47011,
          47149,
          47037,
          47157,
          47133,
          47017,
          47189,
          47077,
          47037,
          47073,
          47143,
          47037,
          47119,
          47179,
          47157,
          47187,
          47063,
          47189,
          47007,
          47179,
          47187,
          47045,
          47037,
          47187,
          47065,
          47119,
          47065,
          47155,
          47157,
          47157,
          47187,
          47125,
          47163,
          47157,
          47037,
          47119,
          47157,
          47107,
          47063,
          47157,
          47113,
          47079,
          47189,
          47157,
          47187,
          47035,
          47011,
          47071,
          47053,
          47063,
          47187,
          47065,
          47059,
          47163,
          47085,
          47003,
          47065,
          47055,
          47125,
          47157,
          47187,
          47133,
          47059,
          47187,
          47189,
          47067,
          47069,
          47099,
          47011,
          47119,
          47103,
          47063,
          47157,
          47117,
          47155,
          47119,
          47073,
          47065,
          47093,
          47065,
          47077,
          47009,
          47007,
          47093,
          47119,
          47145,
          47011,
          47073,
          47189,
          47089,
          47149,
          47011,
          47143,
          47103,
          47157,
          47119,
          47063,
          47065,
          47093,
          47003,
          47037,
          47113,
          47157,
          47165,
          47163,
          47187,
          47037,
          47073,
          47179,
          47079,
          47037,
          47097,
          47157,
          47189,
          47093,
          47093,
          47045,
          47157,
          47189,
          47157,
          47017,
          47113,
          47017,
          47157,
          47111,
          47157,
          47113,
          47177,
          47037,
          47189,
          47013,
          47021,
          47177,
          47135,
          47157,
          47037,
          47059,
          47141,
          47187,
          47119,
          47125,
          47155,
          47077,
          47151,
          47187,
          47149,
          47093,
          47099,
          47149,
          47065,
          47037,
          47037,
          47021,
          47037,
          47183,
          47165,
          47157,
          47147,
          47125,
          47135,
          47013,
          47011,
          47165,
          47037,
          47079,
          47185,
          47163,
          47019,
          47163,
          47165,
          47133,
          47059,
          47029,
          47157,
          47005,
          47035,
          47077,
          47157,
          47091,
          47165,
          47157,
          47037,
          47065,
          47157,
          47123,
          47053,
          47037,
          47099,
          47019,
          47011,
          47085,
          47037,
          47123,
          47053,
          47163,
          47063,
          47065,
          47189,
          47011,
          47063,
          47177,
          47135,
          47071,
          47147,
          47099,
          47099,
          47157,
          47141,
          47037,
          47059,
          47165,
          47177,
          47003,
          47163,
          47125,
          47017,
          47157,
          47157,
          47045,
          47045,
          47009,
          47051,
          47009,
          47147,
          47037,
          47097,
          47189,
          47185,
          47113,
          47149,
          47045,
          47029,
          47119,
          47181,
          47165,
          47157,
          47065,
          47053,
          47063,
          47031,
          47043,
          47045,
          47149,
          47053,
          47189,
          47037,
          47147,
          47097,
          47037,
          47099,
          47045,
          47189,
          47125,
          47145,
          47157,
          47071,
          47143,
          47059,
          47077,
          47107,
          47103,
          47157,
          47031,
          47113,
          47117,
          47065,
          47099,
          47187,
          47037,
          47163,
          47031,
          47147,
          47099,
          47045,
          47037,
          47187,
          47149,
          47099,
          47163,
          47157,
          47149,
          47065,
          47187,
          47113,
          47093,
          47019,
          47081,
          47119,
          47037,
          47157,
          47187,
          47031,
          47097,
          47065,
          47071,
          47135,
          47041,
          47149,
          47013,
          47073,
          47113,
          47157,
          47065,
          47157,
          47143,
          47157,
          47037,
          47079,
          47157,
          47059,
          47065,
          47157,
          47165,
          47053,
          47003,
          47141,
          47147,
          47165,
          47065,
          47113,
          47157,
          47183,
          47187,
          47059,
          47065,
          47093,
          47119,
          47149,
          47053,
          47181,
          47149,
          47037,
          47037,
          47151,
          47113,
          47183,
          47093,
          47187,
          47187,
          47037,
          47117,
          47157,
          47103,
          47017,
          47065,
          47119,
          47157,
          47009,
          47169,
          47187,
          47145,
          47163,
          47149,
          47187,
          47065,
          47141,
          47093,
          47149,
          47163,
          47083,
          47065,
          47059,
          47037,
          47157,
          47073,
          47157,
          47063,
          47035,
          47169,
          47031,
          47149,
          47157,
          47103,
          47093,
          47103,
          47113,
          47157,
          47079,
          47037,
          47149,
          47059,
          47113,
          47093,
          47037,
          47163,
          47163,
          47141,
          47187,
          47065,
          47031,
          47053,
          47111,
          47187,
          47125,
          47113,
          47029,
          47059,
          47187,
          47157,
          47051,
          47037,
          47149,
          47113,
          47113,
          47133,
          47157,
          47043,
          47069,
          47113,
          47065,
          47037,
          47143,
          47119,
          47009,
          47157,
          47117,
          47187,
          47031,
          47065,
          47037,
          47059,
          47037,
          47037,
          47157,
          47103,
          47065,
          47149,
          47037,
          47165,
          47157,
          47157,
          47001,
          47043,
          47093,
          47123,
          47079,
          47119,
          47097,
          47113,
          47149,
          47029,
          47187,
          47077,
          47167,
          47157,
          47179,
          47123,
          47059,
          47037,
          47113,
          47189,
          47065,
          47093,
          47189,
          47117,
          47065,
          47113,
          47125,
          47149,
          47125,
          47093,
          47081,
          47187,
          47045,
          47113,
          47157,
          47119,
          47157,
          47119,
          47037,
          47181,
          47187,
          47113,
          47009,
          47037,
          47157,
          47163,
          47037,
          47187,
          47055,
          47099,
          47037,
          47077,
          47065,
          47113,
          47037,
          47063,
          47105,
          47187,
          47065,
          47131,
          47113,
          47133,
          47157,
          47157,
          47149,
          47021,
          47105,
          47037,
          47165,
          47037,
          47187,
          47043,
          47157,
          47165,
          47003,
          47165,
          47055,
          47059,
          47011,
          47077,
          47185,
          47003,
          47113,
          47107,
          47147,
          47113,
          47037,
          47105,
          47157,
          47113,
          47157,
          47001,
          47157,
          47157,
          47037,
          47077,
          47123,
          47119,
          47065,
          47003,
          47037,
          47165,
          47043,
          47155,
          47119,
          47157,
          47063,
          47147,
          47165,
          47171,
          47163,
          47157,
          47131,
          47157,
          47093,
          47151,
          47113,
          47037,
          47179,
          47073,
          47019,
          47157,
          47135,
          47189,
          47113,
          47091,
          47163,
          47157,
          47157,
          47059,
          47157,
          47189,
          47085,
          47113,
          47071,
          47157
         ],
         "name": "",
         "type": "choropleth",
         "z": [
          1300,
          8500,
          860,
          1800,
          0,
          1000,
          1050,
          1600,
          815,
          1400,
          2010,
          689,
          840,
          750,
          380,
          770,
          400,
          600,
          1431,
          397,
          0,
          330,
          651,
          500,
          410,
          359,
          632,
          600,
          600,
          700,
          585,
          400,
          230,
          500,
          600,
          245,
          300,
          350,
          202,
          165,
          310,
          600,
          369,
          200,
          375,
          287,
          220,
          290,
          300,
          1000,
          225,
          345,
          277,
          200,
          127,
          216,
          250,
          250,
          546,
          220,
          320,
          130,
          201,
          226,
          300,
          231,
          220,
          220,
          1200,
          204,
          126,
          1000,
          1000,
          181,
          147,
          197,
          500,
          202,
          380,
          158,
          97,
          599,
          150,
          218,
          393,
          216,
          250,
          301,
          260,
          200,
          230,
          283,
          171,
          250,
          350,
          231,
          35,
          334,
          800,
          89,
          150,
          510,
          630,
          200,
          414,
          249,
          137,
          0,
          141,
          211,
          200,
          240,
          375,
          219,
          225,
          180,
          155,
          80,
          125,
          129,
          412,
          250,
          250,
          610,
          53,
          120,
          105,
          150,
          150,
          288,
          70,
          137,
          102,
          500,
          160,
          90,
          110,
          100,
          265,
          170,
          120,
          60,
          302,
          110,
          201,
          210,
          200,
          200,
          149,
          118,
          100,
          256,
          86,
          140,
          200,
          171,
          282,
          212,
          40,
          249,
          87,
          255,
          162,
          115,
          215,
          171,
          117,
          83,
          209,
          71,
          92,
          74,
          200,
          80,
          150,
          455,
          145,
          79,
          150,
          95,
          120,
          300,
          96,
          125,
          75,
          63,
          249,
          209,
          143,
          142,
          71,
          72,
          140,
          139,
          173,
          113,
          655,
          325,
          161,
          105,
          125,
          250,
          125,
          124,
          190,
          113,
          105,
          80,
          101,
          260,
          100,
          85,
          200,
          58,
          145,
          164,
          189,
          40,
          112,
          72,
          80,
          83,
          200,
          65,
          70,
          104,
          120,
          100,
          101,
          85,
          500,
          218,
          100,
          45,
          250,
          36,
          61,
          76,
          55,
          79,
          60,
          154,
          122,
          207,
          50,
          72,
          162,
          50,
          310,
          160,
          90,
          90,
          108,
          450,
          75,
          131,
          509,
          585,
          145,
          171,
          50,
          26,
          106,
          106,
          157,
          121,
          70,
          102,
          202,
          109,
          130,
          250,
          100,
          44,
          80,
          70,
          80,
          85,
          50,
          80,
          55,
          128,
          90,
          100,
          301,
          75,
          73,
          105,
          181,
          79,
          150,
          70,
          80,
          62,
          48,
          83,
          81,
          142,
          64,
          85,
          67,
          67,
          335,
          165,
          439,
          82,
          109,
          50,
          108,
          129,
          50,
          68,
          48,
          63,
          77,
          601,
          45,
          144,
          75,
          58,
          50,
          51,
          70,
          85,
          67,
          73,
          95,
          52,
          47,
          39,
          111,
          50,
          122,
          268,
          105,
          130,
          26,
          57,
          255,
          85,
          83,
          36,
          25,
          46,
          28,
          50,
          52,
          52,
          51,
          128,
          50,
          25,
          640,
          147,
          43,
          62,
          49,
          179,
          60,
          34,
          59,
          29,
          77,
          77,
          57,
          115,
          111,
          900,
          50,
          60,
          60,
          150,
          150,
          91,
          28,
          58,
          214,
          71,
          30,
          284,
          52,
          115,
          205,
          41,
          41,
          41,
          15,
          200,
          25,
          110,
          95,
          28,
          100,
          97,
          130,
          85,
          50,
          72,
          200,
          97,
          100,
          110,
          45,
          100,
          200,
          83,
          69,
          24,
          74,
          63,
          166,
          197,
          123,
          75,
          75,
          75,
          62,
          62,
          61,
          48,
          180,
          120,
          45,
          60,
          50,
          88,
          117,
          15,
          175,
          35,
          35,
          70,
          25,
          27,
          174,
          58,
          43,
          85,
          25,
          33,
          110,
          110,
          129,
          163,
          100,
          162,
          54,
          20,
          159,
          79,
          62,
          31,
          54,
          51,
          43,
          254,
          40,
          70,
          40,
          138,
          19,
          50,
          30,
          110,
          150,
          200,
          50,
          214,
          29,
          148,
          37,
          403,
          146,
          58,
          36,
          48,
          48,
          192,
          95,
          140,
          70,
          76,
          70,
          136,
          181,
          27,
          108,
          68,
          35,
          265,
          70,
          260,
          43,
          43,
          125,
          25,
          25,
          25,
          250,
          50,
          67,
          28,
          31,
          31,
          165,
          35,
          61,
          121,
          40,
          60,
          120,
          48,
          48,
          96,
          60,
          276,
          40,
          118,
          78,
          46,
          33,
          57,
          75,
          225,
          225,
          56,
          74,
          44,
          110,
          36,
          108,
          27,
          163,
          105,
          35,
          26,
          69,
          36,
          101,
          25,
          50,
          54,
          200,
          100,
          50,
          20,
          45,
          49,
          25,
          48,
          30,
          100,
          74,
          26,
          31,
          59,
          17,
          39,
          97,
          87,
          82,
          47,
          46,
          92,
          91,
          90,
          178,
          30,
          90,
          30,
          52,
          80,
          85,
          210,
          64,
          332,
          41,
          40,
          50,
          80,
          318,
          79,
          39,
          76,
          76,
          76,
          50,
          32,
          23,
          29,
          50,
          68,
          34,
          34,
          36,
          22,
          66,
          131,
          26,
          18,
          128,
          64,
          125,
          62,
          71,
          61,
          30,
          60,
          30,
          60,
          30,
          80,
          40,
          57,
          28,
          37,
          46,
          109,
          54,
          36,
          75,
          26,
          26,
          15,
          17,
          30,
          44,
          33,
          50,
          25,
          35,
          25,
          47,
          47,
          94,
          39,
          31,
          93,
          46,
          46,
          30,
          45,
          59,
          80,
          29,
          32,
          21,
          42,
          42,
          28,
          28,
          42,
          28,
          28,
          41,
          41,
          25,
          41,
          45,
          40,
          40,
          26,
          32,
          88,
          37,
          38,
          43,
          27,
          43,
          25,
          24,
          258,
          14,
          35,
          34,
          32,
          32,
          25,
          41,
          20,
          30,
          21,
          58,
          48,
          20,
          28,
          27,
          36,
          27,
          26,
          26,
          51,
          25,
          10,
          25,
          25,
          20,
          25,
          25,
          25,
          16,
          35,
          47,
          32,
          21,
          20,
          40,
          48,
          15,
          17,
          33,
          30,
          28,
          24,
          27,
          25,
          35,
          9,
          20,
          12
         ]
        }
       ],
       "layout": {
        "coloraxis": {
         "cmax": 8500,
         "cmin": 0,
         "colorbar": {
          "len": 0.75,
          "orientation": "v",
          "title": {
           "text": "New Jobs"
          }
         },
         "colorscale": [
          [
           0,
           "rgb(247,251,255)"
          ],
          [
           0.125,
           "rgb(222,235,247)"
          ],
          [
           0.25,
           "rgb(198,219,239)"
          ],
          [
           0.375,
           "rgb(158,202,225)"
          ],
          [
           0.5,
           "rgb(107,174,214)"
          ],
          [
           0.625,
           "rgb(66,146,198)"
          ],
          [
           0.75,
           "rgb(33,113,181)"
          ],
          [
           0.875,
           "rgb(8,81,156)"
          ],
          [
           1,
           "rgb(8,48,107)"
          ]
         ]
        },
        "geo": {
         "center": {
          "lat": 36,
          "lon": -86.25
         },
         "domain": {
          "x": [
           0,
           1
          ],
          "y": [
           0,
           1
          ]
         },
         "projection": {
          "scale": 7
         },
         "scope": "usa"
        },
        "height": 600,
        "legend": {
         "tracegroupgap": 0
        },
        "margin": {
         "b": 0,
         "l": 0,
         "r": 0,
         "t": 0
        },
        "template": {
         "data": {
          "bar": [
           {
            "error_x": {
             "color": "#f2f5fa"
            },
            "error_y": {
             "color": "#f2f5fa"
            },
            "marker": {
             "line": {
              "color": "rgb(17,17,17)",
              "width": 0.5
             },
             "pattern": {
              "fillmode": "overlay",
              "size": 10,
              "solidity": 0.2
             }
            },
            "type": "bar"
           }
          ],
          "barpolar": [
           {
            "marker": {
             "line": {
              "color": "rgb(17,17,17)",
              "width": 0.5
             },
             "pattern": {
              "fillmode": "overlay",
              "size": 10,
              "solidity": 0.2
             }
            },
            "type": "barpolar"
           }
          ],
          "carpet": [
           {
            "aaxis": {
             "endlinecolor": "#A2B1C6",
             "gridcolor": "#506784",
             "linecolor": "#506784",
             "minorgridcolor": "#506784",
             "startlinecolor": "#A2B1C6"
            },
            "baxis": {
             "endlinecolor": "#A2B1C6",
             "gridcolor": "#506784",
             "linecolor": "#506784",
             "minorgridcolor": "#506784",
             "startlinecolor": "#A2B1C6"
            },
            "type": "carpet"
           }
          ],
          "choropleth": [
           {
            "colorbar": {
             "outlinewidth": 0,
             "ticks": ""
            },
            "type": "choropleth"
           }
          ],
          "contour": [
           {
            "colorbar": {
             "outlinewidth": 0,
             "ticks": ""
            },
            "colorscale": [
             [
              0,
              "#0d0887"
             ],
             [
              0.1111111111111111,
              "#46039f"
             ],
             [
              0.2222222222222222,
              "#7201a8"
             ],
             [
              0.3333333333333333,
              "#9c179e"
             ],
             [
              0.4444444444444444,
              "#bd3786"
             ],
             [
              0.5555555555555556,
              "#d8576b"
             ],
             [
              0.6666666666666666,
              "#ed7953"
             ],
             [
              0.7777777777777778,
              "#fb9f3a"
             ],
             [
              0.8888888888888888,
              "#fdca26"
             ],
             [
              1,
              "#f0f921"
             ]
            ],
            "type": "contour"
           }
          ],
          "contourcarpet": [
           {
            "colorbar": {
             "outlinewidth": 0,
             "ticks": ""
            },
            "type": "contourcarpet"
           }
          ],
          "heatmap": [
           {
            "colorbar": {
             "outlinewidth": 0,
             "ticks": ""
            },
            "colorscale": [
             [
              0,
              "#0d0887"
             ],
             [
              0.1111111111111111,
              "#46039f"
             ],
             [
              0.2222222222222222,
              "#7201a8"
             ],
             [
              0.3333333333333333,
              "#9c179e"
             ],
             [
              0.4444444444444444,
              "#bd3786"
             ],
             [
              0.5555555555555556,
              "#d8576b"
             ],
             [
              0.6666666666666666,
              "#ed7953"
             ],
             [
              0.7777777777777778,
              "#fb9f3a"
             ],
             [
              0.8888888888888888,
              "#fdca26"
             ],
             [
              1,
              "#f0f921"
             ]
            ],
            "type": "heatmap"
           }
          ],
          "heatmapgl": [
           {
            "colorbar": {
             "outlinewidth": 0,
             "ticks": ""
            },
            "colorscale": [
             [
              0,
              "#0d0887"
             ],
             [
              0.1111111111111111,
              "#46039f"
             ],
             [
              0.2222222222222222,
              "#7201a8"
             ],
             [
              0.3333333333333333,
              "#9c179e"
             ],
             [
              0.4444444444444444,
              "#bd3786"
             ],
             [
              0.5555555555555556,
              "#d8576b"
             ],
             [
              0.6666666666666666,
              "#ed7953"
             ],
             [
              0.7777777777777778,
              "#fb9f3a"
             ],
             [
              0.8888888888888888,
              "#fdca26"
             ],
             [
              1,
              "#f0f921"
             ]
            ],
            "type": "heatmapgl"
           }
          ],
          "histogram": [
           {
            "marker": {
             "pattern": {
              "fillmode": "overlay",
              "size": 10,
              "solidity": 0.2
             }
            },
            "type": "histogram"
           }
          ],
          "histogram2d": [
           {
            "colorbar": {
             "outlinewidth": 0,
             "ticks": ""
            },
            "colorscale": [
             [
              0,
              "#0d0887"
             ],
             [
              0.1111111111111111,
              "#46039f"
             ],
             [
              0.2222222222222222,
              "#7201a8"
             ],
             [
              0.3333333333333333,
              "#9c179e"
             ],
             [
              0.4444444444444444,
              "#bd3786"
             ],
             [
              0.5555555555555556,
              "#d8576b"
             ],
             [
              0.6666666666666666,
              "#ed7953"
             ],
             [
              0.7777777777777778,
              "#fb9f3a"
             ],
             [
              0.8888888888888888,
              "#fdca26"
             ],
             [
              1,
              "#f0f921"
             ]
            ],
            "type": "histogram2d"
           }
          ],
          "histogram2dcontour": [
           {
            "colorbar": {
             "outlinewidth": 0,
             "ticks": ""
            },
            "colorscale": [
             [
              0,
              "#0d0887"
             ],
             [
              0.1111111111111111,
              "#46039f"
             ],
             [
              0.2222222222222222,
              "#7201a8"
             ],
             [
              0.3333333333333333,
              "#9c179e"
             ],
             [
              0.4444444444444444,
              "#bd3786"
             ],
             [
              0.5555555555555556,
              "#d8576b"
             ],
             [
              0.6666666666666666,
              "#ed7953"
             ],
             [
              0.7777777777777778,
              "#fb9f3a"
             ],
             [
              0.8888888888888888,
              "#fdca26"
             ],
             [
              1,
              "#f0f921"
             ]
            ],
            "type": "histogram2dcontour"
           }
          ],
          "mesh3d": [
           {
            "colorbar": {
             "outlinewidth": 0,
             "ticks": ""
            },
            "type": "mesh3d"
           }
          ],
          "parcoords": [
           {
            "line": {
             "colorbar": {
              "outlinewidth": 0,
              "ticks": ""
             }
            },
            "type": "parcoords"
           }
          ],
          "pie": [
           {
            "automargin": true,
            "type": "pie"
           }
          ],
          "scatter": [
           {
            "marker": {
             "line": {
              "color": "#283442"
             }
            },
            "type": "scatter"
           }
          ],
          "scatter3d": [
           {
            "line": {
             "colorbar": {
              "outlinewidth": 0,
              "ticks": ""
             }
            },
            "marker": {
             "colorbar": {
              "outlinewidth": 0,
              "ticks": ""
             }
            },
            "type": "scatter3d"
           }
          ],
          "scattercarpet": [
           {
            "marker": {
             "colorbar": {
              "outlinewidth": 0,
              "ticks": ""
             }
            },
            "type": "scattercarpet"
           }
          ],
          "scattergeo": [
           {
            "marker": {
             "colorbar": {
              "outlinewidth": 0,
              "ticks": ""
             }
            },
            "type": "scattergeo"
           }
          ],
          "scattergl": [
           {
            "marker": {
             "line": {
              "color": "#283442"
             }
            },
            "type": "scattergl"
           }
          ],
          "scattermapbox": [
           {
            "marker": {
             "colorbar": {
              "outlinewidth": 0,
              "ticks": ""
             }
            },
            "type": "scattermapbox"
           }
          ],
          "scatterpolar": [
           {
            "marker": {
             "colorbar": {
              "outlinewidth": 0,
              "ticks": ""
             }
            },
            "type": "scatterpolar"
           }
          ],
          "scatterpolargl": [
           {
            "marker": {
             "colorbar": {
              "outlinewidth": 0,
              "ticks": ""
             }
            },
            "type": "scatterpolargl"
           }
          ],
          "scatterternary": [
           {
            "marker": {
             "colorbar": {
              "outlinewidth": 0,
              "ticks": ""
             }
            },
            "type": "scatterternary"
           }
          ],
          "surface": [
           {
            "colorbar": {
             "outlinewidth": 0,
             "ticks": ""
            },
            "colorscale": [
             [
              0,
              "#0d0887"
             ],
             [
              0.1111111111111111,
              "#46039f"
             ],
             [
              0.2222222222222222,
              "#7201a8"
             ],
             [
              0.3333333333333333,
              "#9c179e"
             ],
             [
              0.4444444444444444,
              "#bd3786"
             ],
             [
              0.5555555555555556,
              "#d8576b"
             ],
             [
              0.6666666666666666,
              "#ed7953"
             ],
             [
              0.7777777777777778,
              "#fb9f3a"
             ],
             [
              0.8888888888888888,
              "#fdca26"
             ],
             [
              1,
              "#f0f921"
             ]
            ],
            "type": "surface"
           }
          ],
          "table": [
           {
            "cells": {
             "fill": {
              "color": "#506784"
             },
             "line": {
              "color": "rgb(17,17,17)"
             }
            },
            "header": {
             "fill": {
              "color": "#2a3f5f"
             },
             "line": {
              "color": "rgb(17,17,17)"
             }
            },
            "type": "table"
           }
          ]
         },
         "layout": {
          "annotationdefaults": {
           "arrowcolor": "#f2f5fa",
           "arrowhead": 0,
           "arrowwidth": 1
          },
          "autotypenumbers": "strict",
          "coloraxis": {
           "colorbar": {
            "outlinewidth": 0,
            "ticks": ""
           }
          },
          "colorscale": {
           "diverging": [
            [
             0,
             "#8e0152"
            ],
            [
             0.1,
             "#c51b7d"
            ],
            [
             0.2,
             "#de77ae"
            ],
            [
             0.3,
             "#f1b6da"
            ],
            [
             0.4,
             "#fde0ef"
            ],
            [
             0.5,
             "#f7f7f7"
            ],
            [
             0.6,
             "#e6f5d0"
            ],
            [
             0.7,
             "#b8e186"
            ],
            [
             0.8,
             "#7fbc41"
            ],
            [
             0.9,
             "#4d9221"
            ],
            [
             1,
             "#276419"
            ]
           ],
           "sequential": [
            [
             0,
             "#0d0887"
            ],
            [
             0.1111111111111111,
             "#46039f"
            ],
            [
             0.2222222222222222,
             "#7201a8"
            ],
            [
             0.3333333333333333,
             "#9c179e"
            ],
            [
             0.4444444444444444,
             "#bd3786"
            ],
            [
             0.5555555555555556,
             "#d8576b"
            ],
            [
             0.6666666666666666,
             "#ed7953"
            ],
            [
             0.7777777777777778,
             "#fb9f3a"
            ],
            [
             0.8888888888888888,
             "#fdca26"
            ],
            [
             1,
             "#f0f921"
            ]
           ],
           "sequentialminus": [
            [
             0,
             "#0d0887"
            ],
            [
             0.1111111111111111,
             "#46039f"
            ],
            [
             0.2222222222222222,
             "#7201a8"
            ],
            [
             0.3333333333333333,
             "#9c179e"
            ],
            [
             0.4444444444444444,
             "#bd3786"
            ],
            [
             0.5555555555555556,
             "#d8576b"
            ],
            [
             0.6666666666666666,
             "#ed7953"
            ],
            [
             0.7777777777777778,
             "#fb9f3a"
            ],
            [
             0.8888888888888888,
             "#fdca26"
            ],
            [
             1,
             "#f0f921"
            ]
           ]
          },
          "colorway": [
           "#636efa",
           "#EF553B",
           "#00cc96",
           "#ab63fa",
           "#FFA15A",
           "#19d3f3",
           "#FF6692",
           "#B6E880",
           "#FF97FF",
           "#FECB52"
          ],
          "font": {
           "color": "#f2f5fa"
          },
          "geo": {
           "bgcolor": "rgb(17,17,17)",
           "lakecolor": "rgb(17,17,17)",
           "landcolor": "rgb(17,17,17)",
           "showlakes": true,
           "showland": true,
           "subunitcolor": "#506784"
          },
          "hoverlabel": {
           "align": "left"
          },
          "hovermode": "closest",
          "mapbox": {
           "style": "dark"
          },
          "paper_bgcolor": "rgb(17,17,17)",
          "plot_bgcolor": "rgb(17,17,17)",
          "polar": {
           "angularaxis": {
            "gridcolor": "#506784",
            "linecolor": "#506784",
            "ticks": ""
           },
           "bgcolor": "rgb(17,17,17)",
           "radialaxis": {
            "gridcolor": "#506784",
            "linecolor": "#506784",
            "ticks": ""
           }
          },
          "scene": {
           "xaxis": {
            "backgroundcolor": "rgb(17,17,17)",
            "gridcolor": "#506784",
            "gridwidth": 2,
            "linecolor": "#506784",
            "showbackground": true,
            "ticks": "",
            "zerolinecolor": "#C8D4E3"
           },
           "yaxis": {
            "backgroundcolor": "rgb(17,17,17)",
            "gridcolor": "#506784",
            "gridwidth": 2,
            "linecolor": "#506784",
            "showbackground": true,
            "ticks": "",
            "zerolinecolor": "#C8D4E3"
           },
           "zaxis": {
            "backgroundcolor": "rgb(17,17,17)",
            "gridcolor": "#506784",
            "gridwidth": 2,
            "linecolor": "#506784",
            "showbackground": true,
            "ticks": "",
            "zerolinecolor": "#C8D4E3"
           }
          },
          "shapedefaults": {
           "line": {
            "color": "#f2f5fa"
           }
          },
          "sliderdefaults": {
           "bgcolor": "#C8D4E3",
           "bordercolor": "rgb(17,17,17)",
           "borderwidth": 1,
           "tickwidth": 0
          },
          "ternary": {
           "aaxis": {
            "gridcolor": "#506784",
            "linecolor": "#506784",
            "ticks": ""
           },
           "baxis": {
            "gridcolor": "#506784",
            "linecolor": "#506784",
            "ticks": ""
           },
           "bgcolor": "rgb(17,17,17)",
           "caxis": {
            "gridcolor": "#506784",
            "linecolor": "#506784",
            "ticks": ""
           }
          },
          "title": {
           "x": 0.05
          },
          "updatemenudefaults": {
           "bgcolor": "#506784",
           "borderwidth": 0
          },
          "xaxis": {
           "automargin": true,
           "gridcolor": "#283442",
           "linecolor": "#506784",
           "ticks": "",
           "title": {
            "standoff": 15
           },
           "zerolinecolor": "#283442",
           "zerolinewidth": 2
          },
          "yaxis": {
           "automargin": true,
           "gridcolor": "#283442",
           "linecolor": "#506784",
           "ticks": "",
           "title": {
            "standoff": 15
           },
           "zerolinecolor": "#283442",
           "zerolinewidth": 2
          }
         }
        },
        "title": {
         "font": {
          "size": 20
         },
         "text": "County Map - New Jobs Distribution",
         "x": 0.5,
         "y": 0.9
        },
        "width": 800
       }
      }
     },
     "metadata": {},
     "output_type": "display_data"
    }
   ],
   "source": [
    "# Convert FIPS to integers (after handling missing FIPS)\n",
    "county_df_cleaned = county_df.dropna(subset=['FIPS'])  # Drop rows with missing FIPS values\n",
    "county_df_cleaned['FIPS'] = county_df_cleaned['FIPS'].astype(int)\n",
    "\n",
    "# Generate the map\n",
    "generate_county_map(county_df_cleaned, 'New Jobs', 'New Jobs', 'County Map - New Jobs Distribution', 'Blues')"
   ]
  },
  {
   "cell_type": "code",
   "execution_count": 12,
   "metadata": {},
   "outputs": [
    {
     "data": {
      "text/html": [
       "<div>\n",
       "<style scoped>\n",
       "    .dataframe tbody tr th:only-of-type {\n",
       "        vertical-align: middle;\n",
       "    }\n",
       "\n",
       "    .dataframe tbody tr th {\n",
       "        vertical-align: top;\n",
       "    }\n",
       "\n",
       "    .dataframe thead th {\n",
       "        text-align: right;\n",
       "    }\n",
       "</style>\n",
       "<table border=\"1\" class=\"dataframe\">\n",
       "  <thead>\n",
       "    <tr style=\"text-align: right;\">\n",
       "      <th></th>\n",
       "      <th>Company</th>\n",
       "      <th>Landed Month / Year</th>\n",
       "      <th>Capital Investment</th>\n",
       "      <th>Incentivized Jobs</th>\n",
       "      <th>New Jobs</th>\n",
       "      <th>Project Type</th>\n",
       "      <th>County</th>\n",
       "      <th>County Tier</th>\n",
       "      <th>FJTAP</th>\n",
       "      <th>FIDP</th>\n",
       "      <th>ED</th>\n",
       "      <th>Grants Total</th>\n",
       "      <th>FIPS</th>\n",
       "      <th>Region</th>\n",
       "    </tr>\n",
       "  </thead>\n",
       "  <tbody>\n",
       "    <tr>\n",
       "      <th>0</th>\n",
       "      <td>Ultium Cells LLC</td>\n",
       "      <td>2021-04-16</td>\n",
       "      <td>2367000000</td>\n",
       "      <td>1700</td>\n",
       "      <td>1300</td>\n",
       "      <td>Recruitment</td>\n",
       "      <td>Maury</td>\n",
       "      <td>1</td>\n",
       "      <td>0</td>\n",
       "      <td>0</td>\n",
       "      <td>78000000</td>\n",
       "      <td>78000000</td>\n",
       "      <td>47119.0</td>\n",
       "      <td>Region 3</td>\n",
       "    </tr>\n",
       "    <tr>\n",
       "      <th>1</th>\n",
       "      <td>Oracle America, Inc.</td>\n",
       "      <td>2021-08-31</td>\n",
       "      <td>1350000000</td>\n",
       "      <td>5989</td>\n",
       "      <td>8500</td>\n",
       "      <td>Recruitment</td>\n",
       "      <td>Davidson</td>\n",
       "      <td>1</td>\n",
       "      <td>0</td>\n",
       "      <td>0</td>\n",
       "      <td>65000000</td>\n",
       "      <td>65000000</td>\n",
       "      <td>47037.0</td>\n",
       "      <td>Region 3</td>\n",
       "    </tr>\n",
       "    <tr>\n",
       "      <th>2</th>\n",
       "      <td>LG Chem America Inc.</td>\n",
       "      <td>2022-11-21</td>\n",
       "      <td>3205715854</td>\n",
       "      <td>860</td>\n",
       "      <td>860</td>\n",
       "      <td>Recruitment</td>\n",
       "      <td>Montgomery</td>\n",
       "      <td>1</td>\n",
       "      <td>0</td>\n",
       "      <td>0</td>\n",
       "      <td>40000000</td>\n",
       "      <td>40000000</td>\n",
       "      <td>47125.0</td>\n",
       "      <td>Region 3</td>\n",
       "    </tr>\n",
       "    <tr>\n",
       "      <th>3</th>\n",
       "      <td>ALSAC St Jude Children's</td>\n",
       "      <td>2016-11-30</td>\n",
       "      <td>1000000000</td>\n",
       "      <td>1800</td>\n",
       "      <td>1800</td>\n",
       "      <td>Expansion</td>\n",
       "      <td>Shelby</td>\n",
       "      <td>2</td>\n",
       "      <td>0</td>\n",
       "      <td>0</td>\n",
       "      <td>36000000</td>\n",
       "      <td>36000000</td>\n",
       "      <td>47157.0</td>\n",
       "      <td>Region 4</td>\n",
       "    </tr>\n",
       "    <tr>\n",
       "      <th>4</th>\n",
       "      <td>General Motors LLC</td>\n",
       "      <td>2020-10-20</td>\n",
       "      <td>1717000000</td>\n",
       "      <td>2000</td>\n",
       "      <td>0</td>\n",
       "      <td>Expansion</td>\n",
       "      <td>Maury</td>\n",
       "      <td>1</td>\n",
       "      <td>35000000</td>\n",
       "      <td>0</td>\n",
       "      <td>0</td>\n",
       "      <td>35000000</td>\n",
       "      <td>47119.0</td>\n",
       "      <td>Region 3</td>\n",
       "    </tr>\n",
       "  </tbody>\n",
       "</table>\n",
       "</div>"
      ],
      "text/plain": [
       "                    Company Landed Month / Year  Capital Investment  \\\n",
       "0          Ultium Cells LLC          2021-04-16          2367000000   \n",
       "1      Oracle America, Inc.          2021-08-31          1350000000   \n",
       "2      LG Chem America Inc.          2022-11-21          3205715854   \n",
       "3  ALSAC St Jude Children's          2016-11-30          1000000000   \n",
       "4        General Motors LLC          2020-10-20          1717000000   \n",
       "\n",
       "   Incentivized Jobs  New Jobs Project Type      County  County Tier  \\\n",
       "0               1700      1300  Recruitment       Maury            1   \n",
       "1               5989      8500  Recruitment    Davidson            1   \n",
       "2                860       860  Recruitment  Montgomery            1   \n",
       "3               1800      1800    Expansion      Shelby            2   \n",
       "4               2000         0    Expansion       Maury            1   \n",
       "\n",
       "      FJTAP  FIDP        ED  Grants Total     FIPS    Region  \n",
       "0         0     0  78000000      78000000  47119.0  Region 3  \n",
       "1         0     0  65000000      65000000  47037.0  Region 3  \n",
       "2         0     0  40000000      40000000  47125.0  Region 3  \n",
       "3         0     0  36000000      36000000  47157.0  Region 4  \n",
       "4  35000000     0         0      35000000  47119.0  Region 3  "
      ]
     },
     "execution_count": 12,
     "metadata": {},
     "output_type": "execute_result"
    }
   ],
   "source": [
    "county_df.head()"
   ]
  },
  {
   "cell_type": "code",
   "execution_count": 45,
   "metadata": {},
   "outputs": [],
   "source": [
    "county_df.to_csv('FastTrack_Data_10-16-24.csv')"
   ]
  },
  {
   "cell_type": "code",
   "execution_count": null,
   "metadata": {},
   "outputs": [],
   "source": []
  },
  {
   "cell_type": "markdown",
   "metadata": {},
   "source": [
    "## Dashboard"
   ]
  },
  {
   "cell_type": "code",
   "execution_count": 43,
   "metadata": {},
   "outputs": [
    {
     "data": {
      "text/html": [
       "\n",
       "        <iframe\n",
       "            width=\"100%\"\n",
       "            height=\"650\"\n",
       "            src=\"http://127.0.0.1:8050/\"\n",
       "            frameborder=\"0\"\n",
       "            allowfullscreen\n",
       "            \n",
       "        ></iframe>\n",
       "        "
      ],
      "text/plain": [
       "<IPython.lib.display.IFrame at 0x2105aebab10>"
      ]
     },
     "metadata": {},
     "output_type": "display_data"
    }
   ],
   "source": [
    "import dash\n",
    "from dash import dcc, html\n",
    "import dash_bootstrap_components as dbc\n",
    "import pandas as pd\n",
    "import webbrowser\n",
    "from threading import Timer\n",
    "from dash.dependencies import Input, Output\n",
    "import plotly.express as px\n",
    "import plotly.graph_objects as go\n",
    "\n",
    "# Function to open the browser automatically\n",
    "def open_browser():\n",
    "    webbrowser.open_new(\"http://127.0.0.1:8050/\")\n",
    "\n",
    "# Initialize the Dash app\n",
    "app = dash.Dash(__name__, external_stylesheets=[dbc.themes.BOOTSTRAP])\n",
    "\n",
    "# Assuming county_df is already loaded in your environment\n",
    "# Create the 'Grant Type' column in the DataFrame\n",
    "def create_grant_type_column(df):\n",
    "    df['Grant Type'] = df.apply(lambda row: [grant for grant in ['FJTAP', 'FIDP', 'ED'] if row[grant] > 0], axis=1)\n",
    "    return df\n",
    "\n",
    "# Update county_df with the new Grant Type column\n",
    "county_df = create_grant_type_column(county_df)\n",
    "\n",
    "# Extracting min and max year for the year slider\n",
    "min_year = county_df['Landed Month / Year'].dt.year.min()\n",
    "max_year = county_df['Landed Month / Year'].dt.year.max()\n",
    "\n",
    "# Summarize county_df by County, include the Region\n",
    "def summarize_by_county(df):\n",
    "    county_summary = df.groupby(['County', 'Region']).agg({\n",
    "        'New Jobs': 'sum',\n",
    "        'Capital Investment': 'sum',\n",
    "        'FIPS': 'first'\n",
    "    }).reset_index()\n",
    "\n",
    "    # Format New Jobs and Capital Investment with comma and dollar sign\n",
    "    county_summary['Total New Jobs'] = county_summary['New Jobs'].apply(lambda x: f\"{x:,}\")\n",
    "    county_summary['Total Capital Investment'] = county_summary['Capital Investment'].apply(lambda x: f\"${x:,.0f}\")\n",
    "    county_summary.sort_values(by='New Jobs', ascending=False, inplace=True)\n",
    "    \n",
    "    return county_summary\n",
    "\n",
    "# Filter the dataframe based on selected filters\n",
    "def filter_data(df, regions, project_types, year_range, grant_types):\n",
    "    filtered_df = df.copy()\n",
    "\n",
    "    # Filter by Region\n",
    "    if regions:\n",
    "        filtered_df = filtered_df[filtered_df['Region'].isin(regions)]\n",
    "\n",
    "    # Filter by Project Type\n",
    "    if project_types:\n",
    "        filtered_df = filtered_df[filtered_df['Project Type'].isin(project_types)]\n",
    "\n",
    "    # Filter by Year Range\n",
    "    filtered_df = filtered_df[filtered_df['Landed Month / Year'].dt.year.between(year_range[0], year_range[1])]\n",
    "\n",
    "    # Filter by Grant Type\n",
    "    if grant_types:\n",
    "        filtered_df = filtered_df[filtered_df['Grant Type'].apply(lambda grants: any(grant in grants for grant in grant_types))]\n",
    "\n",
    "    return filtered_df\n",
    "\n",
    "# Generate county map\n",
    "def generate_county_map(df, values_column, title):\n",
    "    fig = px.choropleth(df, \n",
    "                        geojson='https://raw.githubusercontent.com/plotly/datasets/master/geojson-counties-fips.json', \n",
    "                        locations='FIPS', \n",
    "                        color=values_column,\n",
    "                        color_continuous_scale='Blues',\n",
    "                        scope=\"usa\",\n",
    "                        labels={values_column: values_column},\n",
    "                        hover_data={'County': True})\n",
    "\n",
    "    fig.update_geos(center=dict(lon=-85.90, lat=35.5), projection_scale=7.25)\n",
    "    fig.update_layout(\n",
    "        autosize=True,\n",
    "        title_text=title,\n",
    "        title_x=0.5,\n",
    "        title_y=0.95,\n",
    "        title_font=dict(size=24),\n",
    "        template=\"plotly_dark\",\n",
    "        height=600,\n",
    "        margin=dict(l=0, r=0, t=0, b=0),\n",
    "        coloraxis_colorbar=dict(\n",
    "            len=0.8,\n",
    "            x=0.5,\n",
    "            y=0.05,\n",
    "            orientation='h',\n",
    "            title_side=\"top\"\n",
    "        )\n",
    "    )\n",
    "    \n",
    "    return fig\n",
    "\n",
    "# Generate scatter plot for New Jobs and Capital Investment\n",
    "def generate_scatter_plot(df, y_column, title):\n",
    "    df_yearly = df.groupby(df['Landed Month / Year'].dt.year)[y_column].sum().reset_index()\n",
    "\n",
    "    fig = go.Figure()\n",
    "    fig.add_trace(go.Scatter(\n",
    "        x=df_yearly['Landed Month / Year'],\n",
    "        y=df_yearly[y_column],\n",
    "        mode='lines+markers',\n",
    "        name=title,\n",
    "        line=dict(shape='linear')\n",
    "    ))\n",
    "\n",
    "    fig.update_layout(\n",
    "        template=\"plotly_dark\",\n",
    "        title=title,\n",
    "        xaxis_title=\"Year\",\n",
    "        yaxis_title=y_column,\n",
    "        height=400,\n",
    "        margin=dict(l=10, r=10, t=50, b=30)\n",
    "    )\n",
    "    \n",
    "    return fig\n",
    "\n",
    "# Layout for the app\n",
    "app.layout = dbc.Container(\n",
    "    fluid=True,\n",
    "    style={\"backgroundColor\": \"#9e9ead\"},\n",
    "    children=[\n",
    "        # Title row\n",
    "        dbc.Row(\n",
    "            dbc.Col(\n",
    "                html.H1(\"Tennessee: Forecasting Employment Growth\", className=\"text-center\"),\n",
    "                width={\"size\": 6, \"offset\": 3},\n",
    "                className=\"d-flex justify-content-center align-items-center mb-4\"\n",
    "            ),\n",
    "        ),\n",
    "        \n",
    "        # Filters panel row\n",
    "        dbc.Row(\n",
    "            dbc.Col(\n",
    "                dbc.Card(\n",
    "                    dbc.CardBody(\n",
    "                        dbc.Row(\n",
    "                            [\n",
    "                                dbc.Col(dcc.Dropdown(id='region-filter', options=[{'label': f'Region {i}', 'value': f'Region {i}'} for i in range(1, 5)], multi=True, placeholder='Filter Region'), width=3),\n",
    "                                dbc.Col(dcc.Dropdown(id='project-type-filter', options=[{'label': ptype, 'value': ptype} for ptype in ['Recruitment', 'Expansion', 'Expansion New Location', 'New Startup']], multi=True, placeholder='Filter Project Type'), width=3),\n",
    "                                dbc.Col(dcc.RangeSlider(id='year-slider', min=min_year, max=max_year, marks={str(year): str(year) for year in range(min_year, max_year + 1)}, value=[min_year, max_year], step=1), width=4),\n",
    "                                dbc.Col(dcc.Dropdown(id='grant-type-filter', options=[{'label': grant, 'value': grant} for grant in ['FJTAP', 'FIDP', 'ED']], multi=True, placeholder='Filter Grant Type'), width=2)\n",
    "                            ]\n",
    "                        )\n",
    "                    ),\n",
    "                    className=\"mb-4\"\n",
    "                ),\n",
    "                width=12\n",
    "            )\n",
    "        ),\n",
    "\n",
    "        # Map and top counties table row\n",
    "        dbc.Row(\n",
    "            [\n",
    "                dbc.Col(dcc.Graph(id='county-map'), width=8, style={\"width\": \"65vw\", \"margin-left\": \"0px\", \"margin-right\": \"auto\"}),\n",
    "                dbc.Col(\n",
    "                    dbc.Container(\n",
    "                        [\n",
    "                            html.Div([\n",
    "                                html.H4(\"Top Counties for New Jobs\"),\n",
    "                                dbc.Table.from_dataframe(pd.DataFrame(), bordered=True, hover=True, responsive=True, id='top-counties-table')\n",
    "                            ], style={\"margin-bottom\": \"20px\"})\n",
    "                        ]\n",
    "                    ),\n",
    "                    width=4\n",
    "                )\n",
    "            ]\n",
    "        ),\n",
    "\n",
    "        # Scatter plots row and statistics box\n",
    "        dbc.Row(\n",
    "            [\n",
    "                dbc.Col(dcc.Graph(id='new-jobs-plot'), width=4, style={\"margin-top\": \"30px\"}),\n",
    "                dbc.Col(dcc.Graph(id='capital-investment-plot'), width=4, style={\"margin-top\": \"30px\"}),\n",
    "                dbc.Col(\n",
    "                    html.Div(\n",
    "                        [html.H4(\"Statistics\"), html.Div(id='statistics-box')],\n",
    "                        style={\"border\": \"1px solid #ccc\", \"padding\": \"10px\", \"background-color\": \"#f8f9fa\", \"margin-top\": \"-22vh\"}\n",
    "                    ),\n",
    "                    width=4\n",
    "                )\n",
    "            ]\n",
    "        )\n",
    "    ]\n",
    ")\n",
    "\n",
    "# Updated callback function to create compartmentalized statistics box content\n",
    "@app.callback(\n",
    "    [Output('county-map', 'figure'),\n",
    "     Output('top-counties-table', 'children'),\n",
    "     Output('new-jobs-plot', 'figure'),\n",
    "     Output('capital-investment-plot', 'figure'),\n",
    "     Output('statistics-box', 'children')],\n",
    "    [Input('region-filter', 'value'),\n",
    "     Input('project-type-filter', 'value'),\n",
    "     Input('year-slider', 'value'),\n",
    "     Input('grant-type-filter', 'value')]\n",
    ")\n",
    "def update_dashboard(selected_regions, selected_project_types, selected_years, selected_grants):\n",
    "    filtered_df = filter_data(county_df, selected_regions, selected_project_types, selected_years, selected_grants)\n",
    "    county_summary_df = summarize_by_county(filtered_df)\n",
    "\n",
    "    # Generate updated visuals\n",
    "    county_map_fig = generate_county_map(county_summary_df, 'New Jobs', 'County-wise New Jobs')\n",
    "    top_counties_table = dbc.Table.from_dataframe(\n",
    "        county_summary_df[['County', 'Region', 'Total New Jobs', 'Total Capital Investment']].head(5),\n",
    "        bordered=True,\n",
    "        hover=True,\n",
    "        responsive=True\n",
    "    )\n",
    "    new_jobs_plot_fig = generate_scatter_plot(filtered_df, 'New Jobs', 'New Jobs Over Time')\n",
    "    investment_plot_fig = generate_scatter_plot(filtered_df, 'Capital Investment', 'Capital Investment Over Time')\n",
    "\n",
    "    # Statistics content calculation\n",
    "    unique_counties = filtered_df['FIPS'].nunique()\n",
    "    total_projects = len(filtered_df)\n",
    "\n",
    "    # Grant type counts - ensure all grant types are represented even if they have 0 count\n",
    "    grant_type_counts = {grant: (filtered_df[grant] > 0).sum() if grant in filtered_df else 0 for grant in ['FJTAP', 'FIDP', 'ED']}\n",
    "    \n",
    "    # Ensure regions are always displayed in order 1 through 4\n",
    "    region_order = [f'Region {i}' for i in range(1, 5)]\n",
    "    region_counts = {region: filtered_df['Region'].value_counts().get(region, 0) for region in region_order}\n",
    "\n",
    "    # Ensure all project types are represented even if they have 0 count\n",
    "    all_project_types = ['Recruitment', 'Expansion', 'Expansion New Location', 'New Startup']\n",
    "    project_type_counts = {ptype: filtered_df['Project Type'].value_counts().get(ptype, 0) for ptype in all_project_types}\n",
    "\n",
    "    # Compartmentalized statistics content using Cards\n",
    "    statistics_content = dbc.Container(\n",
    "        [\n",
    "            dbc.Card(\n",
    "                dbc.CardBody([\n",
    "                    html.H5(f\"Unique Counties Analyzed: {unique_counties}\", className=\"card-title\"),\n",
    "                    html.H5(f\"Total Number of Projects: {total_projects}\", className=\"card-title\")\n",
    "                ]),\n",
    "                className=\"mb-3\"\n",
    "            ),\n",
    "            dbc.Card(\n",
    "                dbc.CardBody([\n",
    "                    html.H6(\"Projects Breakdown by Grant Type:\", className=\"card-subtitle\"),\n",
    "                    html.Ul([html.Li(f\"{grant}: {count}\") for grant, count in grant_type_counts.items()])\n",
    "                ]),\n",
    "                className=\"mb-3\"\n",
    "            ),\n",
    "            dbc.Card(\n",
    "                dbc.CardBody([\n",
    "                    html.H6(\"Projects Breakdown by Region:\", className=\"card-subtitle\"),\n",
    "                    html.Ul([html.Li(f\"{region}: {region_counts[region]}\") for region in region_order])\n",
    "                ]),\n",
    "                className=\"mb-3\"\n",
    "            ),\n",
    "            dbc.Card(\n",
    "                dbc.CardBody([\n",
    "                    html.H6(\"Projects Breakdown by Project Type:\", className=\"card-subtitle\"),\n",
    "                    html.Ul([html.Li(f\"{ptype}: {count}\") for ptype, count in project_type_counts.items()])\n",
    "                ]),\n",
    "                className=\"mb-3\"\n",
    "            )\n",
    "        ],\n",
    "        style={\"padding\": \"10px\"}\n",
    "    )\n",
    "\n",
    "    return county_map_fig, top_counties_table, new_jobs_plot_fig, investment_plot_fig, statistics_content\n",
    "\n",
    "# Run the app\n",
    "if __name__ == \"__main__\":\n",
    "    Timer(1, open_browser).start()\n",
    "    app.run_server(debug=True)"
   ]
  },
  {
   "cell_type": "code",
   "execution_count": 14,
   "metadata": {},
   "outputs": [
    {
     "data": {
      "text/plain": [
       "Index(['Company', 'Landed Month / Year', 'Capital Investment',\n",
       "       'Incentivized Jobs', 'New Jobs', 'Project Type', 'County',\n",
       "       'County Tier', 'FJTAP', 'FIDP', 'ED', 'Grants Total', 'FIPS', 'Region',\n",
       "       'Grant Type'],\n",
       "      dtype='object')"
      ]
     },
     "execution_count": 14,
     "metadata": {},
     "output_type": "execute_result"
    }
   ],
   "source": [
    "county_df.columns"
   ]
  },
  {
   "cell_type": "markdown",
   "metadata": {},
   "source": [
    "## TN Investco Data"
   ]
  },
  {
   "cell_type": "code",
   "execution_count": 15,
   "metadata": {},
   "outputs": [
    {
     "name": "stdout",
     "output_type": "stream",
     "text": [
      "Downloading https://www.tn.gov/content/dam/tn/ecd/documents/tninvestco/2023%20Annual%20Report.pdf...\n",
      "Downloaded tninvestco_reports/TNInvestco_Annual_Report_2022.pdf\n",
      "Extracted content from tninvestco_reports/TNInvestco_Annual_Report_2022.pdf\n",
      "Downloading https://www.tn.gov/content/dam/tn/ecd/documents/tninvestco/2022%20Annual%20Report%20Final.pdf...\n",
      "Downloaded tninvestco_reports/TNInvestco_Annual_Report_2021.pdf\n",
      "Extracted content from tninvestco_reports/TNInvestco_Annual_Report_2021.pdf\n",
      "Downloading https://www.tn.gov/content/dam/tn/ecd/documents/tninvestco/2021%20Annual%20Report%20Final.pdf...\n",
      "Downloaded tninvestco_reports/TNInvestco_Annual_Report_2020.pdf\n",
      "Extracted content from tninvestco_reports/TNInvestco_Annual_Report_2020.pdf\n",
      "Downloading https://www.tn.gov/content/dam/tn/ecd/documents/2020%20Annual%20Report%20Publish.pdf...\n",
      "Downloaded tninvestco_reports/TNInvestco_Annual_Report_2019.pdf\n",
      "Extracted content from tninvestco_reports/TNInvestco_Annual_Report_2019.pdf\n",
      "Downloading https://www.tn.gov/content/dam/tn/ecd/documents/tninvestco/Publish%202018%20TNI.pdf...\n",
      "Downloaded tninvestco_reports/TNInvestco_Annual_Report_2018.pdf\n",
      "Extracted content from tninvestco_reports/TNInvestco_Annual_Report_2018.pdf\n",
      "Downloading https://www.tn.gov/content/dam/tn/ecd/documents/tninvestco/2018%20TNInvestco%20Annual%20Report.pdf...\n",
      "Downloaded tninvestco_reports/TNInvestco_Annual_Report_2017.pdf\n",
      "Extracted content from tninvestco_reports/TNInvestco_Annual_Report_2017.pdf\n",
      "Downloading https://www.tn.gov/content/dam/tn/ecd/documents/tninvestco/Publish%202016%20Annual%20TNI.pdf...\n",
      "Downloaded tninvestco_reports/TNInvestco_Annual_Report_2016.pdf\n",
      "Extracted content from tninvestco_reports/TNInvestco_Annual_Report_2016.pdf\n",
      "Downloading https://www.tnecdit.net/WebFiles/Transparency/TNinvestco/tni_annual_report_2015-2.pdf...\n",
      "Downloaded tninvestco_reports/TNInvestco_Annual_Report_2015.pdf\n",
      "Extracted content from tninvestco_reports/TNInvestco_Annual_Report_2015.pdf\n",
      "Downloading https://www.tnecdit.net/WebFiles/Transparency/TNinvestco/tninvestco_annual_report_2014_-_publish%5b1%5d.pdf...\n",
      "Downloaded tninvestco_reports/TNInvestco_Annual_Report_2014.pdf\n",
      "Extracted content from tninvestco_reports/TNInvestco_Annual_Report_2014.pdf\n"
     ]
    },
    {
     "name": "stdout",
     "output_type": "stream",
     "text": [
      "---------------------------------------------------------------------------\n",
      "TypeError                                 Traceback (most recent call last)\n",
      "Cell In[13], line 176, in update_dashboard(\n",
      "    selected_regions=None,\n",
      "    selected_project_types=None,\n",
      "    selected_years=[2016, 2024],\n",
      "    selected_grants=None\n",
      ")\n",
      "    173 county_summary_df = summarize_by_county(filtered_df)\n",
      "    175 # Generate updated visuals\n",
      "--> 176 county_map_fig = generate_county_map(county_summary_df, 'New Jobs', 'County-wise New Jobs')\n",
      "        county_summary_df =         County    Region  New Jobs  Capital Investment     FIPS  \\\n",
      "17    Davidson  Region 3     22905          2950191918  47037.0   \n",
      "73      Shelby  Region 4     13679          2864416763  47157.0   \n",
      "54       Maury  Region 3      5882          5722406319  47119.0   \n",
      "30    Hamilton  Region 2      5572          1056809657  47065.0   \n",
      "85  Williamson  Region 3      4623           448090595  47187.0   \n",
      "..         ...       ...       ...                 ...      ...   \n",
      "39     Houston  Region 3        48             2000000  47083.0   \n",
      "61      Morgan  Region 1        47             7200005      NaN   \n",
      "23    Fentress  Region 2        46             4310000      NaN   \n",
      "15    Crockett  Region 4        35             3859341      NaN   \n",
      "60       Moore  Region 3        30           140000000      NaN   \n",
      "\n",
      "   Total New Jobs Total Capital Investment  \n",
      "17         22,905           $2,950,191,918  \n",
      "73         13,679           $2,864,416,763  \n",
      "54          5,882           $5,722,406,319  \n",
      "30          5,572           $1,056,809,657  \n",
      "85          4,623             $448,090,595  \n",
      "..            ...                      ...  \n",
      "39             48               $2,000,000  \n",
      "61             47               $7,200,005  \n",
      "23             46               $4,310,000  \n",
      "15             35               $3,859,341  \n",
      "60             30             $140,000,000  \n",
      "\n",
      "[86 rows x 7 columns]\n",
      "    177 top_counties_table = dbc.Table.from_dataframe(\n",
      "    178     county_summary_df[['County', 'Region', 'Total New Jobs', 'Total Capital Investment']].head(5),\n",
      "    179     bordered=True,\n",
      "    180     hover=True,\n",
      "    181     responsive=True\n",
      "    182 )\n",
      "    183 new_jobs_plot_fig = generate_scatter_plot(filtered_df, 'New Jobs', 'New Jobs Over Time')\n",
      "\n",
      "TypeError: generate_county_map() missing 2 required positional arguments: 'title' and 'color_scale'\n",
      "\n",
      "---------------------------------------------------------------------------\n",
      "TypeError                                 Traceback (most recent call last)\n",
      "Cell In[13], line 176, in update_dashboard(\n",
      "    selected_regions=None,\n",
      "    selected_project_types=None,\n",
      "    selected_years=[2016, 2024],\n",
      "    selected_grants=None\n",
      ")\n",
      "    173 county_summary_df = summarize_by_county(filtered_df)\n",
      "    175 # Generate updated visuals\n",
      "--> 176 county_map_fig = generate_county_map(county_summary_df, 'New Jobs', 'County-wise New Jobs')\n",
      "        county_summary_df =         County    Region  New Jobs  Capital Investment     FIPS  \\\n",
      "17    Davidson  Region 3     22905          2950191918  47037.0   \n",
      "73      Shelby  Region 4     13679          2864416763  47157.0   \n",
      "54       Maury  Region 3      5882          5722406319  47119.0   \n",
      "30    Hamilton  Region 2      5572          1056809657  47065.0   \n",
      "85  Williamson  Region 3      4623           448090595  47187.0   \n",
      "..         ...       ...       ...                 ...      ...   \n",
      "39     Houston  Region 3        48             2000000  47083.0   \n",
      "61      Morgan  Region 1        47             7200005      NaN   \n",
      "23    Fentress  Region 2        46             4310000      NaN   \n",
      "15    Crockett  Region 4        35             3859341      NaN   \n",
      "60       Moore  Region 3        30           140000000      NaN   \n",
      "\n",
      "   Total New Jobs Total Capital Investment  \n",
      "17         22,905           $2,950,191,918  \n",
      "73         13,679           $2,864,416,763  \n",
      "54          5,882           $5,722,406,319  \n",
      "30          5,572           $1,056,809,657  \n",
      "85          4,623             $448,090,595  \n",
      "..            ...                      ...  \n",
      "39             48               $2,000,000  \n",
      "61             47               $7,200,005  \n",
      "23             46               $4,310,000  \n",
      "15             35               $3,859,341  \n",
      "60             30             $140,000,000  \n",
      "\n",
      "[86 rows x 7 columns]\n",
      "    177 top_counties_table = dbc.Table.from_dataframe(\n",
      "    178     county_summary_df[['County', 'Region', 'Total New Jobs', 'Total Capital Investment']].head(5),\n",
      "    179     bordered=True,\n",
      "    180     hover=True,\n",
      "    181     responsive=True\n",
      "    182 )\n",
      "    183 new_jobs_plot_fig = generate_scatter_plot(filtered_df, 'New Jobs', 'New Jobs Over Time')\n",
      "\n",
      "TypeError: generate_county_map() missing 2 required positional arguments: 'title' and 'color_scale'\n",
      "\n",
      "---------------------------------------------------------------------------\n",
      "TypeError                                 Traceback (most recent call last)\n",
      "Cell In[13], line 176, in update_dashboard(\n",
      "    selected_regions=None,\n",
      "    selected_project_types=None,\n",
      "    selected_years=[2016, 2024],\n",
      "    selected_grants=None\n",
      ")\n",
      "    173 county_summary_df = summarize_by_county(filtered_df)\n",
      "    175 # Generate updated visuals\n",
      "--> 176 county_map_fig = generate_county_map(county_summary_df, 'New Jobs', 'County-wise New Jobs')\n",
      "        county_summary_df =         County    Region  New Jobs  Capital Investment     FIPS  \\\n",
      "17    Davidson  Region 3     22905          2950191918  47037.0   \n",
      "73      Shelby  Region 4     13679          2864416763  47157.0   \n",
      "54       Maury  Region 3      5882          5722406319  47119.0   \n",
      "30    Hamilton  Region 2      5572          1056809657  47065.0   \n",
      "85  Williamson  Region 3      4623           448090595  47187.0   \n",
      "..         ...       ...       ...                 ...      ...   \n",
      "39     Houston  Region 3        48             2000000  47083.0   \n",
      "61      Morgan  Region 1        47             7200005      NaN   \n",
      "23    Fentress  Region 2        46             4310000      NaN   \n",
      "15    Crockett  Region 4        35             3859341      NaN   \n",
      "60       Moore  Region 3        30           140000000      NaN   \n",
      "\n",
      "   Total New Jobs Total Capital Investment  \n",
      "17         22,905           $2,950,191,918  \n",
      "73         13,679           $2,864,416,763  \n",
      "54          5,882           $5,722,406,319  \n",
      "30          5,572           $1,056,809,657  \n",
      "85          4,623             $448,090,595  \n",
      "..            ...                      ...  \n",
      "39             48               $2,000,000  \n",
      "61             47               $7,200,005  \n",
      "23             46               $4,310,000  \n",
      "15             35               $3,859,341  \n",
      "60             30             $140,000,000  \n",
      "\n",
      "[86 rows x 7 columns]\n",
      "    177 top_counties_table = dbc.Table.from_dataframe(\n",
      "    178     county_summary_df[['County', 'Region', 'Total New Jobs', 'Total Capital Investment']].head(5),\n",
      "    179     bordered=True,\n",
      "    180     hover=True,\n",
      "    181     responsive=True\n",
      "    182 )\n",
      "    183 new_jobs_plot_fig = generate_scatter_plot(filtered_df, 'New Jobs', 'New Jobs Over Time')\n",
      "\n",
      "TypeError: generate_county_map() missing 2 required positional arguments: 'title' and 'color_scale'\n",
      "\n"
     ]
    }
   ],
   "source": [
    "# URL of the page to scrape\n",
    "url = \"https://www.tn.gov/transparenttn/state-financial-overview/open-ecd/openecd/openecd-tninvestco.html\"\n",
    "\n",
    "# Request the content of the webpage\n",
    "response = requests.get(url)\n",
    "response.raise_for_status()  # Check for errors in request\n",
    "\n",
    "# Parse the HTML content\n",
    "soup = BeautifulSoup(response.text, 'html.parser')\n",
    "\n",
    "# Find all <a> elements inside <li> tags that contain \"TNInvestco Annual Report\"\n",
    "reports = soup.find_all('a', href=True, text=lambda x: x and 'TNInvestco Annual Report' in x)\n",
    "\n",
    "# Folder to store downloaded PDFs\n",
    "os.makedirs('tninvestco_reports', exist_ok=True)\n",
    "\n",
    "# List to store the extracted contents of each PDF\n",
    "pdf_contents = []\n",
    "\n",
    "# Function to extract text from PDF (with OCR fallback)\n",
    "def extract_text_from_pdf(pdf_path):\n",
    "    try:\n",
    "        with pdfplumber.open(pdf_path) as pdf:\n",
    "            all_text = ''\n",
    "            for page_num, page in enumerate(pdf.pages):\n",
    "                text = page.extract_text()\n",
    "                if text:\n",
    "                    all_text += text\n",
    "                else:\n",
    "                    # If no text is found, convert the page to an image and apply OCR\n",
    "                    print(f\"Page {page_num} might be image-based. Applying OCR...\")\n",
    "                    images = convert_from_path(pdf_path, first_page=page_num + 1, last_page=page_num + 1)\n",
    "                    for image in images:\n",
    "                        ocr_text = pytesseract.image_to_string(image)\n",
    "                        all_text += ocr_text\n",
    "            return all_text\n",
    "    except Exception as e:\n",
    "        print(f\"Error processing PDF {pdf_path}: {e}\")\n",
    "        return None\n",
    "\n",
    "# Loop through the report links from 2022 to 2014\n",
    "for report in reports:\n",
    "    report_text = report.get_text()\n",
    "    \n",
    "    # Extract the year from the report text\n",
    "    if '2022' in report_text or '2021' in report_text or '2020' in report_text or '2019' in report_text \\\n",
    "            or '2018' in report_text or '2017' in report_text or '2016' in report_text \\\n",
    "            or '2015' in report_text or '2014' in report_text:\n",
    "        \n",
    "        # Handle special cases for 2015 and 2014\n",
    "        year = report_text.split()[-1]\n",
    "        if '2015' in report_text or '2014' in report_text:\n",
    "            # Special URL for 2015 and 2014\n",
    "            report_url = report['href']\n",
    "            if report_url.startswith('/'):\n",
    "                report_url = \"https://www.tnecdit.net\" + report_url\n",
    "        else:\n",
    "            # Normal URL structure for other years\n",
    "            report_url = \"https://www.tn.gov\" + report['href']\n",
    "        \n",
    "        try:\n",
    "            # Download the PDF with a delay between requests\n",
    "            print(f\"Downloading {report_url}...\")\n",
    "            pdf_response = requests.get(report_url, timeout=10)  # Timeout of 10 seconds for each request\n",
    "            pdf_response.raise_for_status()  # Check for errors\n",
    "            \n",
    "            # Save the PDF file\n",
    "            pdf_path = f'tninvestco_reports/TNInvestco_Annual_Report_{year}.pdf'\n",
    "            with open(pdf_path, 'wb') as file:\n",
    "                file.write(pdf_response.content)\n",
    "            \n",
    "            print(f'Downloaded {pdf_path}')\n",
    "            \n",
    "            # Extract text from the downloaded PDF\n",
    "            extracted_text = extract_text_from_pdf(pdf_path)\n",
    "            if extracted_text:\n",
    "                pdf_contents.append({\n",
    "                    'year': year,\n",
    "                    'content': extracted_text\n",
    "                })\n",
    "            \n",
    "            print(f'Extracted content from {pdf_path}')\n",
    "\n",
    "        except requests.exceptions.RequestException as e:\n",
    "            print(f\"Error downloading {report_url}: {e}\")\n",
    "\n",
    "        # Introduce a delay (e.g., 3 seconds) to avoid overwhelming the server\n",
    "        time.sleep(3)\n",
    "\n",
    "# Now pdf_contents contains the extracted text from each PDF"
   ]
  },
  {
   "cell_type": "code",
   "execution_count": 16,
   "metadata": {},
   "outputs": [
    {
     "name": "stdout",
     "output_type": "stream",
     "text": [
      "Processing year 2022...\n",
      "Classification not found in line: *The information shown below reflects figures reported by each TNInvestco related to investment activity. The summary section reflects adjusted figures of the TNInvestco program where the duplication of jobs and follow-on capital have been removed.\n",
      "Classification not found in line: TNInvestco\n",
      "Classification not found in line: Council & Enhanced\n",
      "Classification not found in line: Women and Private Follow-on Capital Amount of Capital Invested\n",
      "Classification not found in line: Total Investment Minority Raised by Invested Invested in each Capital in Performance Regarding\n",
      "Classification not found in line: Qualified Business Classification of Business Location (since inception) Retained Jobs Total Jobs Employees Companies TNInvestco Single Co. Compliance\n",
      "Classification not found in line: TNInvestco\n",
      "Classification not found in line: Innova\n",
      "Classification not found in line: Women and Private Follow-on Capital Amount of Capital Invested\n",
      "Classification not found in line: Total Investment Minority Raised by Invested Invested in each Capital in Performance Regarding\n",
      "Classification not found in line: Qualified Business Classification of Business Location (since inception) Retained Jobs Total Jobs Employees Companies TNInvestco Single Co. Compliance\n",
      "Classification not found in line: TNInvestco\n",
      "Classification not found in line: Limestone\n",
      "Classification not found in line: Women and Private Follow-on Capital Amount of Capital Invested\n",
      "Classification not found in line: Total Investment Minority Raised by Invested Invested in each Capital in Performance Regarding\n",
      "Classification not found in line: Qualified Business Classification of Business Location (since inception) Retained Jobs Total Jobs Employees Companies TNInvestco Single Co. Compliance\n",
      "Classification not found in line: TNInvestco\n",
      "Classification not found in line: MB Ventures\n",
      "Classification not found in line: Women and Private Follow-on Capital Amount of Capital Invested\n",
      "Classification not found in line: Total Investment Minority Raised by Invested Invested in each Capital in Performance Regarding\n",
      "Classification not found in line: Qualified Business Classification of Business Location (since inception) Retained Jobs Total Jobs Employees Companies TNInvestco Single Co. Compliance\n",
      "Classification not found in line: TNInvestco\n",
      "Classification not found in line: NEST-TN\n",
      "Classification not found in line: Women and Private Follow-on Capital Amount of Capital Invested\n",
      "Classification not found in line: Total Investment Minority Raised by Invested Invested in each Capital in Performance Regarding\n",
      "Classification not found in line: Qualified Business Classification of Business Location (since inception) Retained Jobs Total Jobs Employees Companies TNInvestco Single Co. Compliance\n",
      "Classification not found in line: TNInvestco\n",
      "Classification not found in line: Solidus\n",
      "Classification not found in line: Women and Private Follow-on Capital Amount of Capital Invested\n",
      "Classification not found in line: Total Investment Minority Raised by Invested Invested in each Capital in Performance Regarding\n",
      "Classification not found in line: Qualified Business Classification of Business Location (since inception) Retained Jobs Total Jobs Employees Companies TNInvestco Single Co. Compliance\n",
      "Classification not found in line: -$12,684,683\n",
      "Classification not found in line: TNInvestco\n",
      "Classification not found in line: Tennessee Angel Fund\n",
      "Classification not found in line: Women and Private Follow-on Capital Amount of Capital Invested\n",
      "Classification not found in line: Total Investment Minority Raised by Invested Invested in each Capital in Performance Regarding\n",
      "Classification not found in line: Qualified Business Classification of Business Location (since inception) Retained Jobs Total Jobs Employees Companies TNInvestco Single Co. Compliance\n",
      "Classification not found in line: Digital Reasoning Technology Services Nashville $750,000 70 179 70 $90,436,687\n",
      "Classification not found in line: Edo Interactive Technology Services Nashville $407,496 27 27 14 $14,014,221\n",
      "Classification not found in line: Snapshot Interactive Technology Services Nashville $250,000 18 32 12 $75,000\n",
      "Classification not found in line: TNInvestco\n",
      "Classification not found in line: Tennessee Community Ventures\n",
      "Classification not found in line: Women and Private Follow-on Capital Amount of Capital Invested\n",
      "Classification not found in line: Total Investment Minority Raised by Invested Invested in each Capital in Performance Regarding\n",
      "Classification not found in line: Qualified Business Classification of Business Location (since inception) Retained Jobs Total Jobs Employees Companies TNInvestco Single Co. Compliance\n",
      "Classification not found in line: NuSirt Sciences Life Science Knoxville $1,633,339 0 0 0 $29,653,898\n",
      "Classification not found in line: TNInvestco\n",
      "Classification not found in line: Tri-Star\n",
      "Classification not found in line: Women and Private Follow-on Capital Amount of Capital Invested\n",
      "Classification not found in line: Total Investment Minority Raised by Invested Invested in each Capital in Performance Regarding\n",
      "Classification not found in line: Qualified Business Classification of Business Location (since inception) Retained Jobs Total Jobs Employees Companies TNInvestco Single Co. Compliance\n",
      "Classification not found in line: TNInvestco\n",
      "Classification not found in line: XMi\n",
      "Classification not found in line: Women and Private Follow-on Capital Amount of Capital Invested\n",
      "Classification not found in line: Total Investment Minority Raised by Invested Invested in each Capital in Performance Regarding\n",
      "Classification not found in line: Qualified Business Classification of Business Location (since inception) Retained Jobs Total Jobs Employees Companies TNInvestco Single Co. Compliance\n",
      "Classification not found in line: TNInvestco Summary of Program Through Calendar Year 2022\n",
      "Classification not found in line: # Companies Receiving Funding 186\n",
      "Classification not found in line: Total Capital Deployed by all TNInvestcos $131,549,088\n",
      "Classification not found in line: Total Follow-on Private Capital Received by Invested Companies (less duplication) $804,224,099\n",
      "Classification not found in line: Total # of Jobs (less duplication) 2,870\n",
      "Classification not found in line: Of which are minorities and women 1,509\n",
      "Classification not found in line: Total # of New Jobs (less duplication) 1,792.5\n",
      "Classification not found in line: Tax Credits Claimed as of 12/31/20 $200,000,000\n",
      "Classification not found in line: Total Profits Returned To The State as of 12/31/22 $31,050,840\n",
      "Classification not found in line: *Each TNInvestco's investment activities are presented in the body of the report. This activity also includes multiple TNInvestco's investing in the same company to capture all programmatic activity. Please note, the summary figures remove the duplication of jobs and follow-on capital.\n",
      "Classification not found in line: ** The amount of capital initially invested in Council & Enhanced is lower than the total investments due to reinvestment of capital to meet the pacing requirements and to fund new investments.\n",
      "Classification not found in line: ***The 2022 report figures are a combination of historic figures and self-reported information from the TNInvestcos entities. The self-reported figures are subject to correction.\n",
      "Processing year 2021...\n",
      "Classification not found in line: *The information shown below reflects figures reported by each TNInvestco related to investment activity. The summary section reflects adjusted figures of the TNInvestco program where the duplication of jobs and follow-on capital have been removed.\n",
      "Classification not found in line: TNInvestco\n",
      "Classification not found in line: Council & Enhanced\n",
      "Classification not found in line: Women and Private Follow-on Capital Amount of Capital Invested\n",
      "Classification not found in line: Total Investment Minority Raised by Invested Invested in each Capital in Performance Regarding\n",
      "Classification not found in line: Qualified Business Classification of Business Location (since inception) Retained Jobs Total Jobs Employees Companies TNInvestco Single Co. Compliance\n",
      "Classification not found in line: TNInvestco\n",
      "Classification not found in line: Innova\n",
      "Classification not found in line: Women and Private Follow-on Capital Amount of Capital Invested\n",
      "Classification not found in line: Total Investment Minority Raised by Invested Invested in each Capital in Performance Regarding\n",
      "Classification not found in line: Qualified Business Classification of Business Location (since inception) Retained Jobs Total Jobs Employees Companies TNInvestco Single Co. Compliance\n",
      "Classification not found in line: TNInvestco\n",
      "Classification not found in line: Limestone\n",
      "Classification not found in line: Women and Private Follow-on Capital Amount of Capital Invested\n",
      "Classification not found in line: Total Investment Minority Raised by Invested Invested in each Capital in Performance Regarding\n",
      "Classification not found in line: Qualified Business Classification of Business Location (since inception) Retained Jobs Total Jobs Employees Companies TNInvestco Single Co. Compliance\n",
      "Classification not found in line: TNInvestco\n",
      "Classification not found in line: MB Ventures\n",
      "Classification not found in line: Women and Private Follow-on Capital Amount of Capital Invested\n",
      "Classification not found in line: Total Investment Minority Raised by Invested Invested in each Capital in Performance Regarding\n",
      "Classification not found in line: Qualified Business Classification of Business Location (since inception) Retained Jobs Total Jobs Employees Companies TNInvestco Single Co. Compliance\n",
      "Classification not found in line: TNInvestco\n",
      "Classification not found in line: NEST-TN\n",
      "Classification not found in line: Women and Private Follow-on Capital Amount of Capital Invested\n",
      "Classification not found in line: Total Investment Minority Raised by Invested Invested in each Capital in Performance Regarding\n",
      "Classification not found in line: Qualified Business Classification of Business Location (since inception) Retained Jobs Total Jobs Employees Companies TNInvestco Single Co. Compliance\n",
      "Classification not found in line: TNInvestco\n",
      "Classification not found in line: Solidus\n",
      "Classification not found in line: Women and Private Follow-on Capital Amount of Capital Invested\n",
      "Classification not found in line: Total Investment Minority Raised by Invested Invested in each Capital in Performance Regarding\n",
      "Classification not found in line: Qualified Business Classification of Business Location (since inception) Retained Jobs Total Jobs Employees Companies TNInvestco Single Co. Compliance\n",
      "Classification not found in line: -$12,684,683\n",
      "Classification not found in line: TNInvestco\n",
      "Classification not found in line: Tennessee Angel Fund\n",
      "Classification not found in line: Women and Private Follow-on Capital Amount of Capital Invested\n",
      "Classification not found in line: Total Investment Minority Raised by Invested Invested in each Capital in Performance Regarding\n",
      "Classification not found in line: Qualified Business Classification of Business Location (since inception) Retained Jobs Total Jobs Employees Companies TNInvestco Single Co. Compliance\n",
      "Classification not found in line: Digital Reasoning Technology Services Nashville $750,000 70 179 70 $90,436,687\n",
      "Classification not found in line: Edo Interactive Technology Services Nashville $407,496 27 27 14 $14,014,221\n",
      "Classification not found in line: Snapshot Interactive Technology Services Nashville $250,000 18 32 12 $75,000\n",
      "Classification not found in line: TNInvestco\n",
      "Classification not found in line: Tennessee Community Ventures\n",
      "Classification not found in line: Women and Private Follow-on Capital Amount of Capital Invested\n",
      "Classification not found in line: Total Investment Minority Raised by Invested Invested in each Capital in Performance Regarding\n",
      "Classification not found in line: Qualified Business Classification of Business Location (since inception) Retained Jobs Total Jobs Employees Companies TNInvestco Single Co. Compliance\n",
      "Classification not found in line: NuSirt Sciences Life Science Knoxville $1,633,339 0 0 0 $29,653,898\n",
      "Classification not found in line: TNInvestco\n",
      "Classification not found in line: Tri-Star\n",
      "Classification not found in line: Women and Private Follow-on Capital Amount of Capital Invested\n",
      "Classification not found in line: Total Investment Minority Raised by Invested Invested in each Capital in Performance Regarding\n",
      "Classification not found in line: Qualified Business Classification of Business Location (since inception) Retained Jobs Total Jobs Employees Companies TNInvestco Single Co. Compliance\n",
      "Classification not found in line: TNInvestco\n",
      "Classification not found in line: XMi\n",
      "Classification not found in line: Women and Private Follow-on Capital Amount of Capital Invested\n",
      "Classification not found in line: Total Investment Minority Raised by Invested Invested in each Capital in Performance Regarding\n",
      "Classification not found in line: Qualified Business Classification of Business Location (since inception) Retained Jobs Total Jobs Employees Companies TNInvestco Single Co. Compliance\n",
      "Classification not found in line: TNInvestco Summary of Program Through Calendar Year 2021\n",
      "Classification not found in line: # Companies Receiving Funding 186\n",
      "Classification not found in line: Total Capital Deployed by all TNInvestcos $131,549,088\n",
      "Classification not found in line: Total Follow-on Private Capital Received by Invested Companies (less duplication) $790,525,120\n",
      "Classification not found in line: Total # of Jobs (less duplication) 2,808\n",
      "Classification not found in line: Of which minorities and women 1,452\n",
      "Classification not found in line: Total # of New Jobs (less duplication) 1,741.5\n",
      "Classification not found in line: Tax Credits Claimed as of 12/31/20 $200,000,000\n",
      "Classification not found in line: Total Profits Returned To The State as of 12/31/21 $28,825,560\n",
      "Classification not found in line: *Each TNInvestco's investment activities are presented in the body of the report. This activity also includes multiple TNInvestco's investing in the same company to capture all programmatic activity. Please note, the summary figures remove the duplication of jobs and follow-on capital.\n",
      "Classification not found in line: ** The amount of capital initially invested in Council & Enhanced is lower than the total investments due to reinvestment of capital to meet the pacing requirements and to fund new investments.\n",
      "Classification not found in line: ***The 2021 report figures are a combination of historic figures and self-reported information from the TNInvestcos entities. The self-reported figures are subject to correction.\n",
      "Processing year 2020...\n",
      "Classification not found in line: *The information shown below reflects figures reported by each TNInvestco related to investment activity. The summary section reflects adjusted figures of the TNInvestco program where the duplication of jobs and follow-on capital have been removed.\n",
      "Classification not found in line: TNInvestco\n",
      "Classification not found in line: Council & Enhanced\n",
      "Classification not found in line: Women and Private Follow-on Capital Amount of Capital Invested\n",
      "Classification not found in line: Total Investment Minority Raised by Invested Invested in each Capital in Performance Regarding\n",
      "Classification not found in line: Qualified Business Classification of Business Location (since inception) Retained Jobs Total Jobs Employees Companies TNInvestco Single Co. Compliance\n",
      "Classification not found in line: TNInvestco\n",
      "Classification not found in line: Innova\n",
      "Classification not found in line: Women and Private Follow-on Capital Amount of Capital Invested\n",
      "Classification not found in line: Total Investment Minority Raised by Invested Invested in each Capital in Performance Regarding\n",
      "Classification not found in line: Qualified Business Classification of Business Location (since inception) Retained Jobs Total Jobs Employees Companies TNInvestco Single Co. Compliance\n",
      "Classification not found in line: TNInvestco\n",
      "Classification not found in line: Limestone\n",
      "Classification not found in line: >15% of\n",
      "Classification not found in line: Women and Private Follow-on Capital Amount of Capital Invested\n",
      "Classification not found in line: Total Investment Minority Raised by Invested Invested in each Capital in Performance Regarding\n",
      "Classification not found in line: Qualified Business Classification of Business Location (since inception) Retained Jobs Total Jobs Employees Companies TNInvestco Single Co. Compliance\n",
      "Classification not found in line: TNInvestco\n",
      "Classification not found in line: MB Ventures\n",
      "Classification not found in line: >15% of\n",
      "Classification not found in line: Women and Private Follow-on Capital Amount of Capital Invested\n",
      "Classification not found in line: Total Investment Minority Raised by Invested Invested in each Capital in Performance Regarding\n",
      "Classification not found in line: Qualified Business Classification of Business Location (since inception) Retained Jobs Total Jobs Employees Companies TNInvestco Single Co. Compliance\n",
      "Classification not found in line: TNInvestco\n",
      "Classification not found in line: NEST-TN\n",
      "Classification not found in line: Women and Private Follow-on Capital Amount of Capital Invested\n",
      "Classification not found in line: Total Investment Minority Raised by Invested Invested in each Capital in Performance Regarding\n",
      "Classification not found in line: Qualified Business Classification of Business Location (since inception) Retained Jobs Total Jobs Employees Companies TNInvestco Single Co. Compliance\n",
      "Classification not found in line: TNInvestco\n",
      "Classification not found in line: Solidus\n",
      "Classification not found in line: Women and Private Follow-on Capital Amount of Capital Invested\n",
      "Classification not found in line: Total Investment Minority Raised by Invested Invested in each Capital in Performance Regarding\n",
      "Classification not found in line: Qualified Business Classification of Business Location (since inception) Retained Jobs Total Jobs Employees Companies TNInvestco Single Co. Compliance\n",
      "Classification not found in line: -$12,684,683\n",
      "Classification not found in line: TNInvestco\n",
      "Classification not found in line: Tennessee Angel Fund\n",
      "Classification not found in line: Women and Private Follow-on Capital Amount of Capital Invested\n",
      "Classification not found in line: Total Investment Minority Raised by Invested Invested in each Capital in Performance Regarding\n",
      "Classification not found in line: Qualified Business Classification of Business Location (since inception) Retained Jobs Total Jobs Employees Companies TNInvestco Single Co. Compliance\n",
      "Classification not found in line: Digital Reasoning Technology Services Nashville $750,000 70 179 70 $90,436,687\n",
      "Classification not found in line: Edo Interactive Technology Services Nashville $407,496 27 27 14 $14,014,221\n",
      "Classification not found in line: Snapshot Interactive Technology Services Nashville $250,000 18 32 12 $75,000\n",
      "Classification not found in line: TNInvestco\n",
      "Classification not found in line: Tennessee Community Ventures\n",
      "Classification not found in line: Women and Private Follow-on Capital Amount of Capital Invested\n",
      "Classification not found in line: Total Investment Minority Raised by Invested Invested in each Capital in Performance Regarding\n",
      "Classification not found in line: Qualified Business Classification of Business Location (since inception) Retained Jobs Total Jobs Employees Companies TNInvestco Single Co. Compliance\n",
      "Classification not found in line: NuSirt Sciences Life Science Knoxville $1,633,339 1 1 0 $29,653,898\n",
      "Classification not found in line: TNInvestco\n",
      "Classification not found in line: Tri-Star\n",
      "Classification not found in line: Women and Private Follow-on Capital Amount of Capital Invested\n",
      "Classification not found in line: Total Investment Minority Raised by Invested Invested in each Capital in Performance Regarding\n",
      "Classification not found in line: Qualified Business Classification of Business Location (since inception) Retained Jobs Total Jobs Employees Companies TNInvestco Single Co. Compliance\n",
      "Classification not found in line: TNInvestco\n",
      "Classification not found in line: XMi\n",
      "Classification not found in line: Women and Private Follow-on Capital Amount of Capital Invested\n",
      "Classification not found in line: Total Investment Minority Raised by Invested Invested in each Capital in Performance Regarding\n",
      "Classification not found in line: Qualified Business Classification of Business Location (since inception) Retained Jobs Total Jobs Employees Companies TNInvestco Single Co. Compliance\n",
      "Classification not found in line: TNInvestco Summary of Program Through Calendar Year 2020\n",
      "Classification not found in line: # Companies Receiving Funding 186\n",
      "Classification not found in line: Total Capital Deployed by all TNInvestcos $131,549,088\n",
      "Classification not found in line: Total Follow-on Private Capital Received by Invested Companies (less duplication) $782,277,355\n",
      "Classification not found in line: Total # of Jobs (less duplication) 2,717\n",
      "Classification not found in line: Of which minorities and women 1,392\n",
      "Classification not found in line: Total # of New Jobs (less duplication) 1,649.5\n",
      "Classification not found in line: Tax Credits Claimed as of 12/31/20 $200,000,000\n",
      "Classification not found in line: Total Profits Returned To The State as of 12/31/20 $28,272,794\n",
      "Classification not found in line: *Each TNInvestco's investment activities are presented in the body of the report. This activity also includes multiple TNInvestco's investing in the same company to capture all programmatic activity. Please note, the summary figures remove the duplication of jobs and follow-on capital.\n",
      "Classification not found in line: ** The amount of capital initially invested in Council & Enhanced is lower than the total investments due to reinvestment of capital to meet the pacing requirements and to fund new investments.\n",
      "Classification not found in line: ***The 2020 report figures are a combination of historic figures and self-reported information from the TNInvestcos entities. The self-reported figures are subject to correction.\n",
      "Processing year 2019...\n",
      "Classification not found in line: *The information shown below reflects figures reported by each TNInvestco related to investment activity. The summary section reflects adjusted figures of the TNInvestco program where the duplication of jobs and follow-on capital have been removed.\n",
      "Classification not found in line: TNInvestco\n",
      "Classification not found in line: Council & Enhanced\n",
      "Classification not found in line: Women and Private Follow-on Capital Invested Invested Performance\n",
      "Classification not found in line: Classification of Total Investment Retained Minority Capital Raised by in each Capital in Regarding\n",
      "Classification not found in line: Qualified Business Business Location (since inception) Jobs Total Jobs Employees Invested Companies TNInvestco Single Co. Compliance\n",
      "Classification not found in line: TNInvestco\n",
      "Classification not found in line: Innova\n",
      "Classification not found in line: Women and Private Follow-on Capital Invested Invested Performance\n",
      "Classification not found in line: Classification of Total Investment Retained Minority Capital Raised by in each Capital in Regarding\n",
      "Classification not found in line: Qualified Business Business Location (since inception) Jobs Total Jobs Employees Invested Companies TNInvestco Single Co. Compliance\n",
      "Classification not found in line: TNInvestco\n",
      "Classification not found in line: Limestone\n",
      "Classification not found in line: Women and Private Follow-on Capital Invested Invested Performance\n",
      "Classification not found in line: Classification of Total Investment Retained Minority Capital Raised by in each Capital in Regarding\n",
      "Classification not found in line: Qualified Business Business Location (since inception) Jobs Total Jobs Employees Invested Companies TNInvestco Single Co. Compliance\n",
      "Classification not found in line: TNInvestco\n",
      "Classification not found in line: MB Ventures\n",
      "Classification not found in line: Women and Private Follow-on Capital Invested Invested Performance\n",
      "Classification not found in line: Classification of Total Investment Retained Minority Capital Raised by in each Capital in Regarding\n",
      "Classification not found in line: Qualified Business Business Location (since inception) Jobs Total Jobs Employees Invested Companies TNInvestco Single Co. Compliance\n",
      "Classification not found in line: TNInvestco\n",
      "Classification not found in line: NEST-TN\n",
      "Classification not found in line: Women and Private Follow-on Capital Invested Invested Performance\n",
      "Classification not found in line: Classification of Total Investment Retained Minority Capital Raised by in each Capital in Regarding\n",
      "Classification not found in line: Qualified Business Business Location (since inception) Jobs Total Jobs Employees Invested Companies TNInvestco Single Co. Compliance\n",
      "Classification not found in line: TNInvestco\n",
      "Classification not found in line: Solidus\n",
      "Classification not found in line: Women and Private Follow-on Capital Invested Invested Performance\n",
      "Classification not found in line: Classification of Total Investment Retained Minority Capital Raised by in each Capital in Regarding\n",
      "Classification not found in line: Qualified Business Business Location (since inception) Jobs Total Jobs Employees Invested Companies TNInvestco Single Co. Compliance\n",
      "Classification not found in line: -$12,684,683\n",
      "Classification not found in line: TNInvestco\n",
      "Classification not found in line: Tennessee Angel Fund\n",
      "Classification not found in line: Women and Private Follow-on Capital Invested Invested Performance\n",
      "Classification not found in line: Classification of Total Investment Retained Minority Capital Raised by in each Capital in Regarding\n",
      "Classification not found in line: Qualified Business Business Location (since inception) Jobs Total Jobs Employees Invested Companies TNInvestco Single Co. Compliance\n",
      "Classification not found in line: Digital Reasoning Technology Services Nashville $750,000 70 179 70 $90,436,687\n",
      "Classification not found in line: Edo Interactive Technology Services Nashville $407,496 27 27 14 $14,014,221\n",
      "Classification not found in line: Snapshot Interactive Technology Services Nashville $250,000 18 32 12 $75,000\n",
      "Classification not found in line: TNInvestco\n",
      "Classification not found in line: Tennessee Community Ventures\n",
      "Classification not found in line: Women and Private Follow-on Capital Invested Invested Performance\n",
      "Classification not found in line: Classification of Total Investment Retained Minority Capital Raised by in each Capital in Regarding\n",
      "Classification not found in line: Qualified Business Business Location (since inception) Jobs Total Jobs Employees Invested Companies TNInvestco Single Co. Compliance\n",
      "Classification not found in line: NuSirt Sciences Life Science Knoxville $1,633,339 1 1 0 $29,653,898\n",
      "Classification not found in line: TNInvestco\n",
      "Classification not found in line: Tri-Star\n",
      "Classification not found in line: Women and Private Follow-on Capital Invested Invested Performance\n",
      "Classification not found in line: Classification of Total Investment Retained Minority Capital Raised by in each Capital in Regarding\n",
      "Classification not found in line: Qualified Business Business Location (since inception) Jobs Total Jobs Employees Invested Companies TNInvestco Single Co. Compliance\n",
      "Classification not found in line: TNInvestco\n",
      "Classification not found in line: XMi\n",
      "Classification not found in line: Women and Private Follow-on Capital Invested Invested Performance\n",
      "Classification not found in line: Classification of Total Investment Retained Minority Capital Raised by in each Capital in Regarding\n",
      "Classification not found in line: Qualified Business Business Location (since inception) Jobs Total Jobs Employees Invested Companies TNInvestco Single Co. Compliance\n",
      "Classification not found in line: TNInvestco Summary of Program Through Calendar Year 2019\n",
      "Classification not found in line: # Companies Receiving Funding 186\n",
      "Classification not found in line: Total Capital Deployed by all TNInvestcos $131,549,088\n",
      "Classification not found in line: Total Follow-on Private Capital Received by Invested Companies (less duplication) $753,249,130\n",
      "Classification not found in line: Total # of Jobs (less duplication) 2,944\n",
      "Classification not found in line: Of which minorities and women 1,582\n",
      "Classification not found in line: Total # of New Jobs (less duplication) 1,883.5\n",
      "Classification not found in line: Tax Credits Claimed as of 12/31/19*** $199,346,896\n",
      "Classification not found in line: Total Profits Returned To The State as of 12/31/19 $26,769,207\n",
      "Classification not found in line: *Each TNInvestco's investment activities are presented in the body of the report. This activity also includes multiple TNInvestco's investing in the same company to capture all programmatic activity. Please note, the summary figures remove the duplication of jobs and follow-on capital.\n",
      "Classification not found in line: ** The amount of capital initially invested in Council & Enhanced is lower than the total investments due to reinvestment of capital to meet the pacing requirements and to fund new investments.\n",
      "Classification not found in line: *** One insurance company has credits that will carry forward into the 2020 tax year in the amount of $653,104.\n",
      "Processing year 2018...\n",
      "Classification not found in line: *The information shown below reflects figures reported by each TNInvestco related to investment activity. The summary section reflects adjusted figures of the TNInvestco program where the duplication of jobs and follow-on capital have been removed.\n",
      "Classification not found in line: TNInvestco\n",
      "Classification not found in line: Council & Enhanced\n",
      "Classification not found in line: Women and Private Follow-on Capital Invested Invested Performance\n",
      "Classification not found in line: Total Investment Retained Minority Capital Raised by in each Capital in Regarding\n",
      "Classification not found in line: Qualified Business Classification of Business Location (since inception) Jobs Total Jobs Employees Invested Companies TNInvestco Single Co. Compliance\n",
      "Classification not found in line: $ 1 4 , 6 2 5 , 7 4 5 3 6 6 6 6 8 3 3 1 $ 1 5 2 , 0 4 4 , 0 8 5 $ 1 4 , 3 4 6 , 3 6 4 * * No Compliant\n",
      "Classification not found in line: TNInvestco\n",
      "Classification not found in line: Innova\n",
      "Classification not found in line: Women and Private Follow-on Capital Invested Invested Performance\n",
      "Classification not found in line: Total Investment Retained Minority Capital Raised by in each Capital in Regarding\n",
      "Classification not found in line: Qualified Business Classification of Business Location (since inception) Jobs Total Jobs Employees Invested Companies TNInvestco Single Co. Compliance\n",
      "Classification not found in line: TNInvestco\n",
      "Classification not found in line: Limestone\n",
      "Classification not found in line: Women and Private Follow-on Capital Invested Invested Performance\n",
      "Classification not found in line: Total Investment Retained Minority Capital Raised by in each Capital in Regarding\n",
      "Classification not found in line: Qualified Business Classification of Business Location (since inception) Jobs Total Jobs Employees Invested Companies TNInvestco Single Co. Compliance\n",
      "Classification not found in line: TNInvestco\n",
      "Classification not found in line: MB Ventures\n",
      "Classification not found in line: Women and Private Follow-on Capital Invested Invested Performance\n",
      "Classification not found in line: Total Investment Retained Minority Capital Raised by in each Capital in Regarding\n",
      "Classification not found in line: Qualified Business Classification of Business Location (since inception) Jobs Total Jobs Employees Invested Companies TNInvestco Single Co. Compliance\n",
      "Classification not found in line: TNInvestco\n",
      "Classification not found in line: NEST-TN\n",
      "Classification not found in line: Women and Private Follow-on Capital Invested Invested Performance\n",
      "Classification not found in line: Total Investment Retained Minority Capital Raised by in each Capital in Regarding\n",
      "Classification not found in line: Qualified Business Classification of Business Location (since inception) Jobs Total Jobs Employees Invested Companies TNInvestco Single Co. Compliance\n",
      "Classification not found in line: TNInvestco\n",
      "Classification not found in line: Solidus\n",
      "Classification not found in line: Women and Private Follow-on Capital Invested Invested Performance\n",
      "Classification not found in line: Total Investment Retained Minority Capital Raised by in each Capital in Regarding\n",
      "Classification not found in line: Qualified Business Classification of Business Location (since inception) Jobs Total Jobs Employees Invested Companies TNInvestco Single Co. Compliance\n",
      "Classification not found in line: -$6,914,183\n",
      "Classification not found in line: TNInvestco\n",
      "Classification not found in line: Tennessee Angel Fund\n",
      "Classification not found in line: Women and Private Follow-on Capital Invested Invested Performance\n",
      "Classification not found in line: Total Investment Retained Minority Capital Raised by in each Capital in Regarding\n",
      "Classification not found in line: Qualified Business Classification of Business Location (since inception) Jobs Total Jobs Employees Invested Companies TNInvestco Single Co. Compliance\n",
      "Classification not found in line: Digital Reasoning Technology Services Nashville $750,000 70 172 65 $85,436,688\n",
      "Classification not found in line: Edo Interactive Technology Services Nashville $407,496 27 27 14 $14,014,221\n",
      "Classification not found in line: Snapshot Interactive Technology Services Nashville $250,000 18 39 12 $75,000\n",
      "Classification not found in line: TNInvestco\n",
      "Classification not found in line: Tennessee Community Ventures\n",
      "Classification not found in line: Women and Private Follow-on Capital Invested Invested Performance\n",
      "Classification not found in line: Total Investment Retained Minority Capital Raised by in each Capital in Regarding\n",
      "Classification not found in line: Qualified Business Classification of Business Location (since inception) Jobs Total Jobs Employees Invested Companies TNInvestco Single Co. Compliance\n",
      "Classification not found in line: NuSirt Sciences Life Science Knoxville $1,633,339 2 9 5 $29,653,898\n",
      "Classification not found in line: TNInvestco\n",
      "Classification not found in line: Tri-Star\n",
      "Classification not found in line: Women and Private Follow-on Capital Invested Invested Performance\n",
      "Classification not found in line: Total Investment Retained Minority Capital Raised by in each Capital in Regarding\n",
      "Classification not found in line: Qualified Business Classification of Business Location (since inception) Jobs Total Jobs Employees Invested Companies TNInvestco Single Co. Compliance\n",
      "Classification not found in line: TNInvestco\n",
      "Classification not found in line: XMi\n",
      "Classification not found in line: Women and Private Follow-on Capital Invested Invested Performance\n",
      "Classification not found in line: Total Investment Retained Minority Capital Raised by in each Capital in Regarding\n",
      "Classification not found in line: Qualified Business Classification of Business Location (since inception) Jobs Total Jobs Employees Invested Companies TNInvestco Single Co. Compliance\n",
      "Classification not found in line: TNInvestco Summary of Program Through Calendar Year End 2018\n",
      "Classification not found in line: # Companies Receiving Funding 186\n",
      "Classification not found in line: Total Capital Deployed by all TNInvestcos $131,549,088\n",
      "Classification not found in line: Total Follow-on Private Capital Received by Invested Companies (less duplication) $643,563,464\n",
      "Classification not found in line: Total # of Jobs (less duplication) 2,897.5\n",
      "Classification not found in line: Of which minorities and women 1,514.5\n",
      "Classification not found in line: Total # of New Jobs (less duplication) 1,907\n",
      "Classification not found in line: Tax Credits Claimed as of 12/31/18 $179,483,501\n",
      "Classification not found in line: Total Profits Returned To The State as of 12/31/18 $20,208,497\n",
      "Classification not found in line: *Each TNInvestco's investment activities are presented in the body of the report. This activity also includes multiple TNInvestco's investing in the same company to capture all programmatic activity. Please note, the summary figures remove the duplication of jobs and follow-on capital.\n",
      "Classification not found in line: ** The amount of capital initially invested in Council & Enhanced is lower than the total investments due to reinvestment of capital to meet the pacing requirements and to fund new investments.\n",
      "Processing year 2017...\n",
      "Classification not found in line: *The information shown below reflects figures reported by each TNInvestco related to investment activity. The summary section reflects adjusted figures of the TNInvestco program where the duplication of jobs and follow-on capital have been removed.\n",
      "Classification not found in line: TNInvestco\n",
      "Classification not found in line: Council & Enhanced\n",
      "Classification not found in line: Women and Cumulative Follow-on Capital Invested Invested Performance\n",
      "Classification not found in line: Total Investment (since Retained Minority Capital Raised by in each Capital in Regarding\n",
      "Classification not found in line: Qualified Business Classification of Business Location inception) Jobs Total Jobs Employees Portfolio Companies TNInvestco Single Co. Compliance\n",
      "Classification not found in line: TNInvestco\n",
      "Classification not found in line: Innova\n",
      "Classification not found in line: Women and Cumulative Follow-on Capital Invested Invested Performance\n",
      "Classification not found in line: Total Investment (since Retained Minority Capital Raised by in each Capital in Regarding\n",
      "Classification not found in line: Qualified Business Classification of Business Location inception) Jobs Total Jobs Employees Portfolio Companies TNInvestco Single Co. Compliance\n",
      "Classification not found in line: TNInvestco\n",
      "Classification not found in line: Limestone\n",
      "Classification not found in line: Women and Cumulative Follow-on Capital Invested Invested Performance\n",
      "Classification not found in line: Total Investment (since Retained Minority Capital Raised by in each Capital in Regarding\n",
      "Classification not found in line: Qualified Business Classification of Business Location inception) Jobs Total Jobs Employees Portfolio Companies TNInvestco Single Co. Compliance\n",
      "Classification not found in line: TNInvestco\n",
      "Classification not found in line: MB Ventures\n",
      "Classification not found in line: Women and Cumulative Follow-on Capital Invested Invested Performance\n",
      "Classification not found in line: Total Investment (since Retained Minority Capital Raised by in each Capital in Regarding\n",
      "Classification not found in line: Qualified Business Classification of Business Location inception) Jobs Total Jobs Employees Portfolio Companies TNInvestco Single Co. Compliance\n",
      "Classification not found in line: TNInvestco\n",
      "Classification not found in line: NEST-TN\n",
      "Classification not found in line: Women and Cumulative Follow-on Capital Invested Invested Performance\n",
      "Classification not found in line: Total Investment (since Retained Minority Capital Raised by in each Capital in Regarding\n",
      "Classification not found in line: Qualified Business Classification of Business Location inception) Jobs Total Jobs Employees Portfolio Companies TNInvestco Single Co. Compliance\n",
      "Classification not found in line: American Geothermal Murfreesboro $500,000 9 17 3 $500,000\n",
      "Classification not found in line: TNInvestco\n",
      "Classification not found in line: Solidus\n",
      "Classification not found in line: Women and Cumulative Follow-on Capital Invested Invested Performance\n",
      "Classification not found in line: Total Investment (since Retained Minority Capital Raised by in each Capital in Regarding\n",
      "Classification not found in line: Qualified Business Classification of Business Location inception) Jobs Total Jobs Employees Portfolio Companies TNInvestco Single Co. Compliance\n",
      "Classification not found in line: -$60\n",
      "Classification not found in line: TNInvestco\n",
      "Classification not found in line: Tennessee Angel Fund\n",
      "Classification not found in line: Women and Cumulative Follow-on Capital Invested Invested Performance\n",
      "Classification not found in line: Total Investment (since Retained Minority Capital Raised by in each Capital in Regarding\n",
      "Classification not found in line: Qualified Business Classification of Business Location inception) Jobs Total Jobs Employees Portfolio Companies TNInvestco Single Co. Compliance\n",
      "Classification not found in line: Digital Reasoning Technology Services Nashville $750,000 70 166 61 $55,433,494\n",
      "Classification not found in line: Edo Interactive Technology Services Nashville $407,496 27 27 14 $14,014,221\n",
      "Classification not found in line: Snapshot Interactive Technology Services Nashville $250,000 18 45 19 $75,000\n",
      "Classification not found in line: TNInvestco\n",
      "Classification not found in line: Tennessee Community Ventures\n",
      "Classification not found in line: Women and Cumulative Follow-on Capital Invested Invested Performance\n",
      "Classification not found in line: Total Investment (since Retained Minority Capital Raised by in each Capital in Regarding\n",
      "Classification not found in line: Qualified Business Classification of Business Location inception) Jobs Total Jobs Employees Portfolio Companies TNInvestco Single Co. Compliance\n",
      "Classification not found in line: NuSirt Sciences Life Science Knoxville $1,633,339 2 6 5 $22,903,247\n",
      "Classification not found in line: TNInvestco\n",
      "Classification not found in line: Tri-Star\n",
      "Classification not found in line: Women and Cumulative Follow-on Capital Invested Invested Performance\n",
      "Classification not found in line: Total Investment (since Retained Minority Capital Raised by in each Capital in Regarding\n",
      "Classification not found in line: Qualified Business Classification of Business Location inception) Jobs Total Jobs Employees Portfolio Companies TNInvestco Single Co. Compliance\n",
      "Classification not found in line: TNInvestco\n",
      "Classification not found in line: XMi\n",
      "Classification not found in line: Women and Cumulative Follow-on Capital Invested Invested Performance\n",
      "Classification not found in line: Total Investment (since Retained Minority Capital Raised by in each Capital in Regarding\n",
      "Classification not found in line: Qualified Business Classification of Business Location inception) Jobs Total Jobs Employees Portfolio Companies TNInvestco Single Co. Compliance\n",
      "Classification not found in line: TNInvestco Summary of Program Through Calendar Year End 2017\n",
      "Classification not found in line: # Companies Receiving Funding 187\n",
      "Classification not found in line: Total Capital Deployed by all TNInvestcos $131,174,090\n",
      "Classification not found in line: Total Follow-on Capital Received by Invested Companies (less duplication) $590,531,018\n",
      "Classification not found in line: Total # of Full-time Jobs (less duplication) 2,836\n",
      "Classification not found in line: Of which minorities and women 1,448\n",
      "Classification not found in line: Total # of New Full-time Jobs (less duplication) 1,849\n",
      "Classification not found in line: Tax Credits Claimed as of 12/31/17 $159,308,260\n",
      "Classification not found in line: Total Profits Returned To The State as of 12/31/17 $15,134,999\n",
      "Classification not found in line: *Each TNInvestco's investment activities are presented in the body of the report. This activity also includes multiple TNInvestco's investing in the same company to capture all programmatic activity. Please note, the summary figures remove the duplication of jobs and follow-on capital.\n",
      "Classification not found in line: ** The amount of capital initially invested in Council & Enhanced is lower than the total investments due to reinvestment of capital to meet the pacing requirements and to fund new investments.\n",
      "Processing year 2016...\n",
      "Classification not found in line: *The information shown below reflects figures reported by each TNInvestco related to investment activity. The summary section reflects adjusted figures of the TNInvestco program where the duplication of jobs and follow-on capital have been removed.\n",
      "Classification not found in line: TNInvestco\n",
      "Classification not found in line: Council & Enhanced\n",
      "Classification not found in line: Total Women and Cumulative Follow-on Capital Invested Invested Performance\n",
      "Classification not found in line: Classification of Investment Retained Minority Capital Raised by in each Capital in Regarding\n",
      "Classification not found in line: Qualified Business Business Location (since inception) Jobs Total Jobs Employees Portfolio Companies TNInvestco Single Co. Compliance\n",
      "Classification not found in line: TNInvestco\n",
      "Classification not found in line: Innova\n",
      "Classification not found in line: Total Women and Cumulative Follow-on Capital Invested Invested Performance\n",
      "Classification not found in line: Classification of Investment Retained Minority Capital Raised by in each Capital in Regarding\n",
      "Classification not found in line: Qualified Business Business Location (since inception) Jobs Total Jobs Employees Portfolio Companies TNInvestco Single Co. Compliance\n",
      "Classification not found in line: TNInvestco\n",
      "Classification not found in line: Limestone\n",
      "Classification not found in line: Total Women and Cumulative Follow-on Capital Invested Invested Performance\n",
      "Classification not found in line: Classification of Investment Retained Minority Capital Raised by in each Capital in Regarding\n",
      "Classification not found in line: Qualified Business Business Location (since inception) Jobs Total Jobs Employees Portfolio Companies TNInvestco Single Co. Compliance\n",
      "Classification not found in line: TNInvestco\n",
      "Classification not found in line: MB Ventures\n",
      "Classification not found in line: Total Women and Cumulative Follow-on Capital Invested Invested Performance\n",
      "Classification not found in line: Classification of Investment Retained Minority Capital Raised by in each Capital in Regarding\n",
      "Classification not found in line: Qualified Business Business Location (since inception) Jobs Total Jobs Employees Portfolio Companies TNInvestco Single Co. Compliance\n",
      "Classification not found in line: Blood Monitoring Solutions Medical Technolgy Memphis $25,000 0 0 0 $0\n",
      "Classification not found in line: Camplex Medical Technolgy Memphis $1,000,000 0 2 0 $5,022,573\n",
      "Classification not found in line: Cast 21 Medical Technolgy Memphis $25,000 0 3 1 $350,000\n",
      "Classification not found in line: Compression Kinetics Medical Technolgy Memphis $75,000 0 3 1 $1,123,400\n",
      "Classification not found in line: Crossroads (f/k/a Orthodiscovery) Medical Technolgy Memphis $200,000 3 19 3 $8,141,213\n",
      "Classification not found in line: EcoSurg (f/k/a Randall Surgical) Medical Technolog Memphis $230,235 0 1 0 $0\n",
      "Classification not found in line: EndoInsight Medical Technolgy Memphis $75,000 0 0 0 $50,000\n",
      "Classification not found in line: Innometrix Medical Technolgy Memphis $25,000 0 0 0 $0\n",
      "Classification not found in line: TNInvestco\n",
      "Classification not found in line: NEST-TN\n",
      "Classification not found in line: Total Women and Cumulative Follow-on Capital Invested Invested Performance\n",
      "Classification not found in line: Classification of Investment Retained Minority Capital Raised by in each Capital in Regarding\n",
      "Classification not found in line: Qualified Business Business Location (since inception) Jobs Total Jobs Employees Portfolio Companies TNInvestco Single Co. Compliance\n",
      "Classification not found in line: TNInvestco\n",
      "Classification not found in line: Solidus\n",
      "Classification not found in line: Total Women and Cumulative Follow-on Capital Invested Invested Performance\n",
      "Classification not found in line: Classification of Investment Retained Minority Capital Raised by in each Capital in Regarding\n",
      "Classification not found in line: Qualified Business Business Location (since inception) Jobs Total Jobs Employees Portfolio Companies TNInvestco Single Co. Compliance\n",
      "Classification not found in line: TNInvestco\n",
      "Classification not found in line: Tennessee Angel Fund\n",
      "Classification not found in line: Total Women and Cumulative Follow-on Capital Invested Invested Performance\n",
      "Classification not found in line: Classification of Investment Retained Minority Capital Raised by in each Capital in Regarding\n",
      "Classification not found in line: Qualified Business Business Location (since inception) Jobs Total Jobs Employees Portfolio Companies TNInvestco Single Co. Compliance\n",
      "Classification not found in line: Digital Reasoning Technology Services Nashville $750,000 70 169 55 $55,433,494\n",
      "Classification not found in line: Edo Interactive Technology Services Nashville $407,496 27 27 14 $14,014,221\n",
      "Classification not found in line: Snapshot Interactive Technology Services Nashville $250,000 18 34 13 $75,000\n",
      "Classification not found in line: TNInvestco\n",
      "Classification not found in line: Tennessee Community Ventures\n",
      "Classification not found in line: Total Women and Cumulative Follow-on Capital Invested Invested Performance\n",
      "Classification not found in line: Classification of Investment Retained Minority Capital Raised by in each Capital in Regarding\n",
      "Classification not found in line: Qualified Business Business Location (since inception) Jobs Total Jobs Employees Portfolio Companies TNInvestco Single Co. Compliance\n",
      "Classification not found in line: NuSirt Sciences Life Science Knoxville $1,633,339 2 7 6 $22,903,247\n",
      "Classification not found in line: TNInvestco\n",
      "Classification not found in line: Tri-Star\n",
      "Classification not found in line: Total Women and Cumulative Follow-on Capital Invested Invested Performance\n",
      "Classification not found in line: Classification of Investment Retained Minority Capital Raised by in each Capital in Regarding\n",
      "Classification not found in line: Qualified Business Business Location (since inception) Jobs Total Jobs Employees Portfolio Companies TNInvestco Single Co. Compliance\n",
      "Classification not found in line: TNInvestco\n",
      "Classification not found in line: XMi\n",
      "Classification not found in line: Total Women and Cumulative Follow-on Capital Invested Invested Performance\n",
      "Classification not found in line: Classification of Investment Retained Minority Capital Raised by in each Capital in Regarding\n",
      "Classification not found in line: Qualified Business Business Location (since inception) Jobs Total Jobs Employees Portfolio Companies TNInvestco Single Co. Compliance\n",
      "Classification not found in line: TNInvestco Summary of Program Through Calendar Year\n",
      "Classification not found in line: End 2016\n",
      "Classification not found in line: # Companies Receiving Funding 187\n",
      "Classification not found in line: Total Capital Deployed by all TNInvestcos $131,139,763\n",
      "Classification not found in line: Total Follow-on Capital Received by Invested Companies (less duplication) $502,334,848\n",
      "Classification not found in line: Total # of Full-time Jobs (less duplication) 2,789\n",
      "Classification not found in line: Of which minorities and women 1,430\n",
      "Classification not found in line: Total # of New Full-time Jobs (less duplication) 1,800\n",
      "Classification not found in line: Tax Credits Claimed as fo 12/31/16 $138,524,173\n",
      "Classification not found in line: Total Profits Returned To The State $6,410,825\n",
      "Classification not found in line: *Each TNInvestco's investment activities are presented in the body of the report. This activity also includes multiple TNInvestco's investing in the same company to capture all programmatic activity.\n",
      "Classification not found in line: Please note, the summary figures remove the duplication of jobs and follow-on capital.\n",
      "Classification not found in line: ** The amount of capital initially invested in Council & Enhanced is lower than the total investments due to reinvestment of capital to meet the pacing requirements and to fund new investments.\n",
      "Processing year 2015...\n",
      "Classification not found in line: TNInvestco\n",
      "Classification not found in line: Council & Enhanced\n",
      "Classification not found in line: Remaining\n",
      "Classification not found in line: Women and Cumulative Follow-on Available to Invested Performance\n",
      "Classification not found in line: Total Investment Retained Total Minority Capital Raised by Deploy by Capital in Regarding\n",
      "Classification not found in line: Qualified Business Classification of Business Location (since inception) Jobs Jobs Employees Portfolio Companies TNInvestcos Single Co. Compliance\n",
      "Classification not found in line: TNInvestco\n",
      "Classification not found in line: Innova\n",
      "Classification not found in line: Remaining\n",
      "Classification not found in line: Women and Cumulative Follow-on Available to Invested Performance\n",
      "Classification not found in line: Total Investment Retained Total Minority Capital Raised by Deploy by Capital in Regarding\n",
      "Classification not found in line: Qualified Business Classification of Business Location (since inception) Jobs Jobs Employees Portfolio Companies TNInvestcos Single Co. Compliance\n",
      "Classification not found in line: TNInvestco\n",
      "Classification not found in line: Limestone\n",
      "Classification not found in line: Remaining\n",
      "Classification not found in line: Women and Cumulative Follow-on Available to Invested Performance\n",
      "Classification not found in line: Total Investment Retained Total Minority Capital Raised by Deploy by Capital in Regarding\n",
      "Classification not found in line: Qualified Business Classification of Business Location (since inception) Jobs Jobs Employees Portfolio Companies TNInvestcos Single Co. Compliance\n",
      "Classification not found in line: TNInvestco\n",
      "Classification not found in line: MB Ventures\n",
      "Classification not found in line: Remaining\n",
      "Classification not found in line: Women and Cumulative Follow-on Available to Invested Performance\n",
      "Classification not found in line: Total Investment Retained Total Minority Capital Raised by Deploy by Capital in Regarding\n",
      "Classification not found in line: Qualified Business Classification of Business Location (since inception) Jobs Jobs Employees Portfolio Companies TNInvestcos Single Co. Compliance\n",
      "Classification not found in line: Blood Monitoring Solutions Medical Technolgy Memphis $25,000 0 1 0 $0\n",
      "Classification not found in line: Camplex Medical Technolgy Memphis $1,000,000 0 2 0 $4,443,969\n",
      "Classification not found in line: Compression Kinetics Medical Technolgy Memphis $75,000 0 2 0 $150,000\n",
      "Classification not found in line: Crossroads (fka Orthodiscovery) Medical Technolgy Memphis $200,000 3 4 0 $4,375,400\n",
      "Classification not found in line: EcoSurg (f/k/a Randall Surgical) Medical Technolog Memphis $225,000 0 1 0 $0\n",
      "Classification not found in line: EndoInsight Medical Technolgy Memphis $75,000 0 1 0 $50,000\n",
      "Classification not found in line: Innometrix Medical Technolgy Memphis $25,000 0 0 0 $0\n",
      "Classification not found in line: TNInvestco\n",
      "Classification not found in line: NEST-TN\n",
      "Classification not found in line: Remaining\n",
      "Classification not found in line: Women and Cumulative Follow-on Available to Invested Performance\n",
      "Classification not found in line: Total Investment Retained Total Minority Capital Raised by Deploy by Capital in Regarding\n",
      "Classification not found in line: Qualified Business Classification of Business Location (since inception) Jobs Jobs Employees Portfolio Companies TNInvestcos Single Co. Compliance\n",
      "Classification not found in line: TNInvestco\n",
      "Classification not found in line: Solidus\n",
      "Classification not found in line: Remaining\n",
      "Classification not found in line: Women and Cumulative Follow-on Available to Invested Performance\n",
      "Classification not found in line: Total Investment Retained Total Minority Capital Raised by Deploy by Capital in Regarding\n",
      "Classification not found in line: Qualified Business Classification of Business Location (since inception) Jobs Jobs Employees Portfolio Companies TNInvestcos Single Co. Compliance\n",
      "Classification not found in line: TNInvestco\n",
      "Classification not found in line: Solidus\n",
      "Classification not found in line: Remaining\n",
      "Classification not found in line: Women and Cumulative Follow-on Available to Invested Performance\n",
      "Classification not found in line: Total Investment Retained Total Minority Capital Raised by Deploy by Capital in Regarding\n",
      "Classification not found in line: Qualified Business Classification of Business Location (since inception) Jobs Jobs Employees Portfolio Companies TNInvestcos Single Co. Compliance\n",
      "Classification not found in line: TNInvestco\n",
      "Classification not found in line: Tennessee Angel Fund\n",
      "Classification not found in line: Remaining\n",
      "Classification not found in line: Women and Cumulative Follow-on Available to Invested Performance\n",
      "Classification not found in line: Total Investment Retained Total Minority Capital Raised by Deploy by Capital in Regarding\n",
      "Classification not found in line: Qualified Business Classification of Business Location (since inception) Jobs Jobs Employees Portfolio Companies TNInvestcos Single Co. Compliance\n",
      "Classification not found in line: Snapshot Interactive Technology Services Nashville $250,000 18 32 14 $75,000\n",
      "Classification not found in line: Digital Reasoning Technology Services Nashville $750,000 70 135 27 $26,833,498\n",
      "Classification not found in line: Edo Interactive Technology Services Nashville $335,112 62 62 32 $10,586,605\n",
      "Classification not found in line: TNInvestco\n",
      "Classification not found in line: Tennessee Community Ventures\n",
      "Classification not found in line: Remaining\n",
      "Classification not found in line: Women and Cumulative Follow-on Available to Invested Performance\n",
      "Classification not found in line: Total Investment Retained Total Minority Capital Raised by Deploy by Capital in Regarding\n",
      "Classification not found in line: Qualified Business Classification of Business Location (since inception) Jobs Jobs Employees Portfolio Companies TNInvestcos Single Co. Compliance\n",
      "Classification not found in line: NuSirt Sciences Life Science Knoxville $1,633,339 2 7 6 $17,240,650\n",
      "Classification not found in line: TNInvestco\n",
      "Classification not found in line: Tri-Star\n",
      "Classification not found in line: Remaining\n",
      "Classification not found in line: Women and Cumulative Follow-on Available to Invested Performance\n",
      "Classification not found in line: Total Investment Retained Total Minority Capital Raised by Deploy by Capital in Regarding\n",
      "Classification not found in line: Qualified Business Classification of Business Location (since inception) Jobs Jobs Employees Portfolio Companies TNInvestcos Single Co. Compliance\n",
      "Classification not found in line: TNInvestco\n",
      "Classification not found in line: XMi\n",
      "Classification not found in line: Remaining\n",
      "Classification not found in line: Women and Cumulative Follow-on Available to Invested Performance\n",
      "Classification not found in line: Total Investment Retained Total Minority Capital Raised by Deploy by Capital in Regarding\n",
      "Classification not found in line: Qualified Business Classification of Business Location (since inception) Jobs Jobs Employees Portfolio Companies TNInvestcos Single Co. Compliance\n",
      "Classification not found in line: TNInvestco Summary of Program Through Year End 2015\n",
      "Classification not found in line: Number of Individual Companies Receiving Funding 181\n",
      "Classification not found in line: Total Capital Deployed by all TNInvestco's $128,828,597\n",
      "Classification not found in line: Total Follow-on Capital Received by Invested Companies (less duplication) $402,198,451\n",
      "Classification not found in line: Total # of Full-time Jobs - All TNInvestco Portfolio Companies (less duplicates) 2,553.50\n",
      "Classification not found in line: Of which minorities and women 1,143.50\n",
      "Classification not found in line: Total # of New Full-time Jobs - All TNInvestco Portfolio Companies 1,517\n",
      "Classification not found in line: Tax Credis Claimed as fo 12/31/15 $118,079,588\n",
      "Classification not found in line: *Each TNInvestco's investment activities are presented in the body of the report. This activity also includes multiple TNInvestco's investing in the same company to capture all programmatic activity.\n",
      "Classification not found in line: Please note, the summary figures remove the duplication of jobs and follow-on capital.\n",
      "Processing year 2014...\n",
      "Classification not found in line: TNInvestco\n",
      "Classification not found in line: TNInvestco\n",
      "Classification not found in line: ANNUAL REPORT 2014\n",
      "Classification not found in line: TNInvestco\n",
      "Classification not found in line: Council & Enhanced\n",
      "Classification not found in line: Total Investment (since Minority Cumulative Follow-on Capital Available to Deploy by Capital in Single Regarding\n",
      "Classification not found in line: Qualified Business Classification of Business Location inception) Retained Jobs Total Jobs Employees Raised by Portfolio Companies TNInvestcos Co. Compliance\n",
      "Classification not found in line: TNInvestco\n",
      "Classification not found in line: Innova\n",
      "Classification not found in line: Total Investment (since Total Minority Raised by Portfolio Available to Deploy by Invested Capital Regarding\n",
      "Classification not found in line: Qualified Business Classification of Business Location inception) Retained Jobs Jobs Employees Companies TNInvestcos in Single Co. Compliance\n",
      "Error: Insufficient data found in line: Compression Kinetics Medical Device Memphis $25,000 0 1 $50,000\n",
      "Classification not found in line: ANNUAL REPORT 2014\n",
      "Classification not found in line: TNInvestco\n",
      "Classification not found in line: Limestone\n",
      "Classification not found in line: Total Investment (since Minority Cumulative Follow-on Capital Available to Deploy by Capital in Single Regarding\n",
      "Classification not found in line: Qualified Business Classification of Business Location inception) Retained Jobs Total Jobs Employees Raised by Portfolio Companies TNInvestcos Co. Compliance\n",
      "Classification not found in line: TNInvestco\n",
      "Classification not found in line: MB Ventures\n",
      "Classification not found in line: Total Investment (since Minority Cumulative Follow-on Capital Available to Deploy by Capital in Single Regarding\n",
      "Classification not found in line: Qualified Business Classification of Business Location inception) Retained Jobs Total Jobs Employees Raised by Portfolio Companies TNInvestcos Co. Compliance\n",
      "Classification not found in line: ANNUAL REPORT 2014\n",
      "Classification not found in line: TNInvestco\n",
      "Classification not found in line: NEST-TN\n",
      "Classification not found in line: Total Investment (since Minority Cumulative Follow-on Capital Available to Deploy by Capital in Single Regarding\n",
      "Classification not found in line: Qualified Business Classification of Business Location inception) Retained Jobs Total Jobs Employees Raised by Portfolio Companies TNInvestcos Co. Compliance\n",
      "Classification not found in line: ANNUAL REPORT 2014\n",
      "Classification not found in line: TNInvestco\n",
      "Classification not found in line: Solidus\n",
      "Classification not found in line: Total Investment (since Minority Cumulative Follow-on Capital Available to Deploy by Capital in Single Regarding\n",
      "Classification not found in line: Qualified Business Classification of Business Location inception) Retained Jobs Total Jobs Employees Raised by Portfolio Companies TNInvestcos Co. Compliance\n",
      "Classification not found in line: ANNUAL REPORT 2014\n",
      "Classification not found in line: TNInvestco\n",
      "Classification not found in line: Solidus\n",
      "Classification not found in line: Total Investment (since Minority Cumulative Follow-on Capital Available to Deploy by Capital in Single Regarding\n",
      "Classification not found in line: Qualified Business Classification of Business Location inception) Retained Jobs Total Jobs Employees Raised by Portfolio Companies TNInvestcos Co. Compliance\n",
      "Classification not found in line: ANNUAL REPORT 2014\n",
      "Classification not found in line: TNInvestco\n",
      "Classification not found in line: Tennessee Angel Fund\n",
      "Classification not found in line: Total Investment (since Minority Cumulative Follow-on Capital Available to Deploy by Capital in Single Regarding\n",
      "Classification not found in line: Qualified Business Classification of Business Location inception) Retained Jobs Total Jobs Employees Raised by Portfolio Companies TNInvestcos Co. Compliance\n",
      "Classification not found in line: Snapshot Interactive Technology Services Nashville $250,000 18 25 6 $75,000\n",
      "Classification not found in line: Digital Reasoning Technology Services Nashville $750,000 70 79 15 $21,833,498\n",
      "Classification not found in line: Edo Interactive Technology Services Nashville $250,000 78 83 38 $2,750,000\n",
      "Classification not found in line: TNInvestco\n",
      "Classification not found in line: Tennessee Community Ventures\n",
      "Classification not found in line: Total Investment (since Minority Cumulative Follow-on Capital Available to Deploy by Capital in Single Regarding\n",
      "Classification not found in line: Qualified Business Classification of Business Location inception) Retained Jobs Total Jobs Employees Raised by Portfolio Companies TNInvestcos Co. Compliance\n",
      "Classification not found in line: NuSirt Sciences Life Science Knoxville $1,633,339 3 5 4 $11,471,421\n",
      "Classification not found in line: ANNUAL REPORT 2014\n",
      "Classification not found in line: TNInvestco\n",
      "Classification not found in line: Tri-Star\n",
      "Classification not found in line: Total Investment (since Minority Cumulative Follow-on Capital Available to Deploy by Capital in Single Regarding\n",
      "Classification not found in line: Qualified Business Classification of Business Location inception) Retained Jobs Total Jobs Employees Raised by Portfolio Companies TNInvestcos Co. Compliance\n",
      "Classification not found in line: TNInvestco\n",
      "Classification not found in line: XMi\n",
      "Classification not found in line: Total Investment (since Minority Cumulative Follow-on Capital Available to Deploy by Capital in Single Regarding\n",
      "Classification not found in line: Qualified Business Classification of Business Location inception) Retained Jobs Total Jobs Employees Raised by Portfolio Companies TNInvestcos Co. Compliance\n",
      "Classification not found in line: ANNUAL REPORT 2014\n",
      "Classification not found in line: TNInvestco Summary of Program Through Year End 2014\n",
      "Classification not found in line: # Companies Receiving Funding 175\n",
      "Classification not found in line: Total Capital Deployed by all TNInvestco's $122,207,914\n",
      "Classification not found in line: Total Follow-on Capital Received by Invested Companies (less duplication) $325,889,160\n",
      "Classification not found in line: Total # of Full-time Jobs - All TNInvestco Portfolio Companies (less duplicates) 2,092.50\n",
      "Classification not found in line: Of which minorities and women (less duplicates) 981\n",
      "Classification not found in line: Total # of New Full-time Jobs - All TNInvestco Portfolio Companies (less duplicates) 1,056.50\n",
      "Classification not found in line: Tax Credits Claimed as of 12/31/14 $87,998,252\n",
      "Classification not found in line: Cumulative Follow-on Capital Figures by Year\n",
      "Classification not found in line: 2010** 2011** 2012** 2013\n",
      "Classification not found in line: $36,984,535 $58,541,136 $134,118,543 $221,078,263\n",
      "Classification not found in line: **The department restated prior year follow-on capital numbers to remove duplication\n"
     ]
    }
   ],
   "source": [
    "# Keywords for classification of business (multi-word first)\n",
    "classification_keywords = [\n",
    "    \"Healthcare Technology\", \"Security Staffing\",\"Information Technology\", \"Computer Design\", \"Healthcare IT/Communications\",\n",
    "    \"Supply Chain\",\"Education Technology\", \"Medical Device\", \"Medial Device\", \"Consumer Technology\", \"Mobile Technology\", \n",
    "    \"Life Sciences/Biotech\", \"Medical Technology\", \"Automotive Technology\", \"Industrial Technology\", \"Life Sciences\", \n",
    "    \"Transformational Technology\", \"Applied Technology\", \"Business Technology\",\n",
    "    \"Social Media\", \"Healthcare Services\", \"Healthcare Communications\", \"Information Services\", \"Technology Development\", \n",
    "    \"Health Informatics\", \"Renewable Energy\", \"Clean Energy\", \"Healthcare IT\", \"Pharmaceuticals\", \"Business Services\", \n",
    "    \"Biopharma\", \"Bioscience\", \"Logistics\", \"Electronics\", \"Manufacturing\", \"Chemical\", \"Healthcare\", \n",
    "    \"Software\", \"Transportation\", \"Automotive\", \"Informatics\", \"Diagnostics\"\n",
    "]\n",
    "\n",
    "# Compile the pattern for classification words (multi-word first, case-insensitive)\n",
    "classification_pattern = r\"\\b(\" + \"|\".join(re.escape(keyword) for keyword in classification_keywords) + r\")\\b\"\n",
    "\n",
    "# Data container for parsed rows\n",
    "parsed_data = []\n",
    "\n",
    "# Function to extract location and remaining details from the row\n",
    "def extract_location_and_rest(line, classification_match):\n",
    "    classification_idx = classification_match.end()\n",
    "    \n",
    "    # Everything after the classification match\n",
    "    remaining_line = line[classification_idx:].strip()\n",
    "    \n",
    "    # Split by spaces, handling cases where some locations might be two words\n",
    "    parts = remaining_line.split()\n",
    "    \n",
    "    # Find the location (it stops when we encounter the investment, which starts with $)\n",
    "    location = []\n",
    "    i = 0\n",
    "    while i < len(parts) and not parts[i].startswith('$'):\n",
    "        location.append(parts[i])\n",
    "        i += 1\n",
    "\n",
    "    location = \" \".join(location)\n",
    "    \n",
    "    # Remaining parts (from the investment value onwards)\n",
    "    remaining_parts = parts[i:]\n",
    "    return location, remaining_parts\n",
    "\n",
    "# Function to parse the extracted PDF content\n",
    "def parse_pdf_content(content, year):\n",
    "    lines = content.strip().split(\"\\n\")\n",
    "    \n",
    "    current_fund = None  # To keep track of the current fund\n",
    "    \n",
    "    for line_num, line in enumerate(lines):\n",
    "        # Normalize multiple spaces to a single space\n",
    "        line = re.sub(r'\\s+', ' ', line).strip()\n",
    "\n",
    "        # Skip non-business-related lines\n",
    "        if \"Cumulative Amount\" in line or \"TNInvestco ANNUAL REPORT\" in line:\n",
    "            continue\n",
    "\n",
    "        # Look for Fund markers (line before '> 15% of')\n",
    "        if \"> 15% of\" in line:\n",
    "            # The line before the current line is the Fund\n",
    "            current_fund = lines[line_num - 1].strip()\n",
    "            continue\n",
    "        \n",
    "        # Search for the classification keyword in the line\n",
    "        classification_match = re.search(classification_pattern, line, re.IGNORECASE)\n",
    "        \n",
    "        if classification_match:\n",
    "            classification = classification_match.group(1)\n",
    "            \n",
    "            # Everything before the classification is the qualified business name\n",
    "            qualified_business = line[:classification_match.start()].strip()\n",
    "            \n",
    "            # Extract the location and remaining parts of the line\n",
    "            location, remaining = extract_location_and_rest(line, classification_match)\n",
    "\n",
    "            # Ensure we have enough data in the remaining parts\n",
    "            if len(remaining) >= 5:\n",
    "                total_investment = remaining[0].replace(\"$\", \"\").replace(\",\", \"\")\n",
    "                retained_jobs = remaining[1]\n",
    "                total_jobs = remaining[2]\n",
    "                women_minority_employees = remaining[3]\n",
    "                follow_on_capital = remaining[4].replace(\"$\", \"\").replace(\",\", \"\")\n",
    "\n",
    "                # Append the parsed row to the parsed_data list\n",
    "                parsed_data.append([\n",
    "                    qualified_business, classification, location, total_investment,\n",
    "                    retained_jobs, total_jobs, women_minority_employees, follow_on_capital,\n",
    "                    year, current_fund\n",
    "                ])\n",
    "            else:\n",
    "                print(f\"Error: Insufficient data found in line: {line}\")\n",
    "        else:\n",
    "            print(f\"Classification not found in line: {line}\")\n",
    "\n",
    "# Process each PDF content in pdf_contents\n",
    "for pdf in pdf_contents:\n",
    "    print(f\"Processing year {pdf['year']}...\")\n",
    "    parse_pdf_content(pdf['content'], pdf['year'])\n",
    "\n",
    "# Convert parsed data into a pandas DataFrame\n",
    "columns = [\n",
    "    \"Qualified Business\", \"Classification of Business\", \"Location\",\n",
    "    \"Total Investment (since inception)\", \"Retained Jobs\", \"Total Jobs\",\n",
    "    \"Women and Minority Employees\", \"Private Follow-on Capital Raised by Invested Companies\",\n",
    "    \"Year\", \"Program\"\n",
    "]\n",
    "\n",
    "df_new = pd.DataFrame(parsed_data, columns=columns)"
   ]
  },
  {
   "cell_type": "code",
   "execution_count": 17,
   "metadata": {},
   "outputs": [
    {
     "data": {
      "text/html": [
       "<div>\n",
       "<style scoped>\n",
       "    .dataframe tbody tr th:only-of-type {\n",
       "        vertical-align: middle;\n",
       "    }\n",
       "\n",
       "    .dataframe tbody tr th {\n",
       "        vertical-align: top;\n",
       "    }\n",
       "\n",
       "    .dataframe thead th {\n",
       "        text-align: right;\n",
       "    }\n",
       "</style>\n",
       "<table border=\"1\" class=\"dataframe\">\n",
       "  <thead>\n",
       "    <tr style=\"text-align: right;\">\n",
       "      <th></th>\n",
       "      <th>Qualified Business</th>\n",
       "      <th>Classification of Business</th>\n",
       "      <th>Location</th>\n",
       "      <th>Total Investment (since inception)</th>\n",
       "      <th>Retained Jobs</th>\n",
       "      <th>Total Jobs</th>\n",
       "      <th>Women and Minority Employees</th>\n",
       "      <th>Private Follow-on Capital Raised by Invested Companies</th>\n",
       "      <th>Year</th>\n",
       "      <th>Program</th>\n",
       "    </tr>\n",
       "  </thead>\n",
       "  <tbody>\n",
       "    <tr>\n",
       "      <th>0</th>\n",
       "      <td>ABT Molecular</td>\n",
       "      <td>Healthcare</td>\n",
       "      <td>Louisville</td>\n",
       "      <td>525000</td>\n",
       "      <td>30</td>\n",
       "      <td>27</td>\n",
       "      <td>4</td>\n",
       "      <td>29741173</td>\n",
       "      <td>2022</td>\n",
       "      <td>Council &amp; Enhanced</td>\n",
       "    </tr>\n",
       "    <tr>\n",
       "      <th>1</th>\n",
       "      <td>Advanced Network Solutions</td>\n",
       "      <td>Computer Design</td>\n",
       "      <td>Nashville</td>\n",
       "      <td>1560933</td>\n",
       "      <td>29</td>\n",
       "      <td>44</td>\n",
       "      <td>16</td>\n",
       "      <td>10046795</td>\n",
       "      <td>2022</td>\n",
       "      <td>Council &amp; Enhanced</td>\n",
       "    </tr>\n",
       "    <tr>\n",
       "      <th>2</th>\n",
       "      <td>Amplion (f/k/a Dalcon)</td>\n",
       "      <td>Information Technology</td>\n",
       "      <td>Nashville</td>\n",
       "      <td>800001</td>\n",
       "      <td>18</td>\n",
       "      <td>11</td>\n",
       "      <td>6</td>\n",
       "      <td>15143130</td>\n",
       "      <td>2022</td>\n",
       "      <td>Council &amp; Enhanced</td>\n",
       "    </tr>\n",
       "    <tr>\n",
       "      <th>3</th>\n",
       "      <td>Energy Source Partners</td>\n",
       "      <td>Renewable Energy</td>\n",
       "      <td>Nashville</td>\n",
       "      <td>1000000</td>\n",
       "      <td>3</td>\n",
       "      <td>1</td>\n",
       "      <td>0</td>\n",
       "      <td>0</td>\n",
       "      <td>2022</td>\n",
       "      <td>Council &amp; Enhanced</td>\n",
       "    </tr>\n",
       "    <tr>\n",
       "      <th>4</th>\n",
       "      <td>Fsi</td>\n",
       "      <td>Supply Chain</td>\n",
       "      <td>Nashville</td>\n",
       "      <td>2100000</td>\n",
       "      <td>22</td>\n",
       "      <td>52</td>\n",
       "      <td>29</td>\n",
       "      <td>6125109</td>\n",
       "      <td>2022</td>\n",
       "      <td>Council &amp; Enhanced</td>\n",
       "    </tr>\n",
       "  </tbody>\n",
       "</table>\n",
       "</div>"
      ],
      "text/plain": [
       "           Qualified Business Classification of Business    Location  \\\n",
       "0               ABT Molecular                 Healthcare  Louisville   \n",
       "1  Advanced Network Solutions            Computer Design   Nashville   \n",
       "2      Amplion (f/k/a Dalcon)     Information Technology   Nashville   \n",
       "3      Energy Source Partners           Renewable Energy   Nashville   \n",
       "4                         Fsi               Supply Chain   Nashville   \n",
       "\n",
       "  Total Investment (since inception) Retained Jobs Total Jobs  \\\n",
       "0                             525000            30         27   \n",
       "1                            1560933            29         44   \n",
       "2                             800001            18         11   \n",
       "3                            1000000             3          1   \n",
       "4                            2100000            22         52   \n",
       "\n",
       "  Women and Minority Employees  \\\n",
       "0                            4   \n",
       "1                           16   \n",
       "2                            6   \n",
       "3                            0   \n",
       "4                           29   \n",
       "\n",
       "  Private Follow-on Capital Raised by Invested Companies  Year  \\\n",
       "0                                           29741173      2022   \n",
       "1                                           10046795      2022   \n",
       "2                                           15143130      2022   \n",
       "3                                                  0      2022   \n",
       "4                                            6125109      2022   \n",
       "\n",
       "              Program  \n",
       "0  Council & Enhanced  \n",
       "1  Council & Enhanced  \n",
       "2  Council & Enhanced  \n",
       "3  Council & Enhanced  \n",
       "4  Council & Enhanced  "
      ]
     },
     "execution_count": 17,
     "metadata": {},
     "output_type": "execute_result"
    }
   ],
   "source": [
    "df_new.head()"
   ]
  },
  {
   "cell_type": "code",
   "execution_count": 18,
   "metadata": {},
   "outputs": [],
   "source": [
    "df_unique = df_new.drop_duplicates(subset=[\n",
    "    \"Qualified Business\", \"Classification of Business\", \"Location\",\n",
    "    \"Total Investment (since inception)\", \"Retained Jobs\", \"Total Jobs\",\n",
    "    \"Women and Minority Employees\", \"Private Follow-on Capital Raised by Invested Companies\", \"Program\"\n",
    "]).reset_index(drop=True)"
   ]
  },
  {
   "cell_type": "code",
   "execution_count": 19,
   "metadata": {},
   "outputs": [
    {
     "name": "stdout",
     "output_type": "stream",
     "text": [
      "<class 'pandas.core.frame.DataFrame'>\n",
      "RangeIndex: 963 entries, 0 to 962\n",
      "Data columns (total 10 columns):\n",
      " #   Column                                                  Non-Null Count  Dtype \n",
      "---  ------                                                  --------------  ----- \n",
      " 0   Qualified Business                                      963 non-null    object\n",
      " 1   Classification of Business                              963 non-null    object\n",
      " 2   Location                                                963 non-null    object\n",
      " 3   Total Investment (since inception)                      963 non-null    object\n",
      " 4   Retained Jobs                                           963 non-null    object\n",
      " 5   Total Jobs                                              963 non-null    object\n",
      " 6   Women and Minority Employees                            963 non-null    object\n",
      " 7   Private Follow-on Capital Raised by Invested Companies  963 non-null    object\n",
      " 8   Year                                                    963 non-null    object\n",
      " 9   Program                                                 963 non-null    object\n",
      "dtypes: object(10)\n",
      "memory usage: 75.4+ KB\n"
     ]
    }
   ],
   "source": [
    "df_unique.info()"
   ]
  },
  {
   "cell_type": "code",
   "execution_count": 20,
   "metadata": {},
   "outputs": [
    {
     "data": {
      "text/html": [
       "<div>\n",
       "<style scoped>\n",
       "    .dataframe tbody tr th:only-of-type {\n",
       "        vertical-align: middle;\n",
       "    }\n",
       "\n",
       "    .dataframe tbody tr th {\n",
       "        vertical-align: top;\n",
       "    }\n",
       "\n",
       "    .dataframe thead th {\n",
       "        text-align: right;\n",
       "    }\n",
       "</style>\n",
       "<table border=\"1\" class=\"dataframe\">\n",
       "  <thead>\n",
       "    <tr style=\"text-align: right;\">\n",
       "      <th></th>\n",
       "      <th>Qualified Business</th>\n",
       "      <th>Classification of Business</th>\n",
       "      <th>Location</th>\n",
       "      <th>Total Investment (since inception)</th>\n",
       "      <th>Retained Jobs</th>\n",
       "      <th>Total Jobs</th>\n",
       "      <th>Women and Minority Employees</th>\n",
       "      <th>Private Follow-on Capital Raised by Invested Companies</th>\n",
       "      <th>Year</th>\n",
       "      <th>Program</th>\n",
       "    </tr>\n",
       "  </thead>\n",
       "  <tbody>\n",
       "    <tr>\n",
       "      <th>807</th>\n",
       "      <td>ABT Molecular</td>\n",
       "      <td>Healthcare</td>\n",
       "      <td>Louisville</td>\n",
       "      <td>525000</td>\n",
       "      <td>30</td>\n",
       "      <td>39</td>\n",
       "      <td>9</td>\n",
       "      <td>22005173</td>\n",
       "      <td>2014</td>\n",
       "      <td>Council &amp; Enhanced</td>\n",
       "    </tr>\n",
       "    <tr>\n",
       "      <th>832</th>\n",
       "      <td>ABT Molecular</td>\n",
       "      <td>Medical Device</td>\n",
       "      <td>Louisville</td>\n",
       "      <td>525000</td>\n",
       "      <td>30</td>\n",
       "      <td>39</td>\n",
       "      <td>9</td>\n",
       "      <td>22005173</td>\n",
       "      <td>2014</td>\n",
       "      <td>Limestone</td>\n",
       "    </tr>\n",
       "    <tr>\n",
       "      <th>588</th>\n",
       "      <td>ABT Molecular</td>\n",
       "      <td>Healthcare</td>\n",
       "      <td>Louisville</td>\n",
       "      <td>525000</td>\n",
       "      <td>30</td>\n",
       "      <td>30</td>\n",
       "      <td>6</td>\n",
       "      <td>22755173</td>\n",
       "      <td>2015</td>\n",
       "      <td>Remaining</td>\n",
       "    </tr>\n",
       "    <tr>\n",
       "      <th>627</th>\n",
       "      <td>ABT Molecular</td>\n",
       "      <td>Medical Device</td>\n",
       "      <td>Louisville</td>\n",
       "      <td>525000</td>\n",
       "      <td>30</td>\n",
       "      <td>30</td>\n",
       "      <td>6</td>\n",
       "      <td>22755173</td>\n",
       "      <td>2015</td>\n",
       "      <td>Remaining</td>\n",
       "    </tr>\n",
       "    <tr>\n",
       "      <th>482</th>\n",
       "      <td>ABT Molecular</td>\n",
       "      <td>Healthcare</td>\n",
       "      <td>Louisville</td>\n",
       "      <td>525000</td>\n",
       "      <td>29</td>\n",
       "      <td>29</td>\n",
       "      <td>5</td>\n",
       "      <td>24691173</td>\n",
       "      <td>2016</td>\n",
       "      <td>Council &amp; Enhanced</td>\n",
       "    </tr>\n",
       "    <tr>\n",
       "      <th>...</th>\n",
       "      <td>...</td>\n",
       "      <td>...</td>\n",
       "      <td>...</td>\n",
       "      <td>...</td>\n",
       "      <td>...</td>\n",
       "      <td>...</td>\n",
       "      <td>...</td>\n",
       "      <td>...</td>\n",
       "      <td>...</td>\n",
       "      <td>...</td>\n",
       "    </tr>\n",
       "    <tr>\n",
       "      <th>301</th>\n",
       "      <td>iScreen Vision</td>\n",
       "      <td>Medical Device</td>\n",
       "      <td>Cordova</td>\n",
       "      <td>982380</td>\n",
       "      <td>5</td>\n",
       "      <td>11</td>\n",
       "      <td>8</td>\n",
       "      <td>12543748</td>\n",
       "      <td>2020</td>\n",
       "      <td>Innova</td>\n",
       "    </tr>\n",
       "    <tr>\n",
       "      <th>32</th>\n",
       "      <td>iScreen Vision</td>\n",
       "      <td>Medical Device</td>\n",
       "      <td>Cordova</td>\n",
       "      <td>1673648</td>\n",
       "      <td>8.5</td>\n",
       "      <td>11</td>\n",
       "      <td>7</td>\n",
       "      <td>10244253</td>\n",
       "      <td>2022</td>\n",
       "      <td>Innova</td>\n",
       "    </tr>\n",
       "    <tr>\n",
       "      <th>83</th>\n",
       "      <td>iScreen Vision</td>\n",
       "      <td>Medical Device</td>\n",
       "      <td>Cordova</td>\n",
       "      <td>982380</td>\n",
       "      <td>5</td>\n",
       "      <td>11</td>\n",
       "      <td>8</td>\n",
       "      <td>12543748</td>\n",
       "      <td>2022</td>\n",
       "      <td>MB Ventures</td>\n",
       "    </tr>\n",
       "    <tr>\n",
       "      <th>786</th>\n",
       "      <td>onFocus</td>\n",
       "      <td>Healthcare IT</td>\n",
       "      <td>Brentwood</td>\n",
       "      <td>392809</td>\n",
       "      <td>17</td>\n",
       "      <td>19</td>\n",
       "      <td>5</td>\n",
       "      <td>4548562</td>\n",
       "      <td>2015</td>\n",
       "      <td>Remaining</td>\n",
       "    </tr>\n",
       "    <tr>\n",
       "      <th>573</th>\n",
       "      <td>onFocus</td>\n",
       "      <td>Healthcare IT</td>\n",
       "      <td>Brentwood</td>\n",
       "      <td>392807</td>\n",
       "      <td>17</td>\n",
       "      <td>19</td>\n",
       "      <td>5</td>\n",
       "      <td>4548562</td>\n",
       "      <td>2016</td>\n",
       "      <td>Tri-Star</td>\n",
       "    </tr>\n",
       "  </tbody>\n",
       "</table>\n",
       "<p>963 rows × 10 columns</p>\n",
       "</div>"
      ],
      "text/plain": [
       "    Qualified Business Classification of Business    Location  \\\n",
       "807      ABT Molecular                 Healthcare  Louisville   \n",
       "832      ABT Molecular             Medical Device  Louisville   \n",
       "588      ABT Molecular                 Healthcare  Louisville   \n",
       "627      ABT Molecular             Medical Device  Louisville   \n",
       "482      ABT Molecular                 Healthcare  Louisville   \n",
       "..                 ...                        ...         ...   \n",
       "301     iScreen Vision             Medical Device     Cordova   \n",
       "32      iScreen Vision             Medical Device     Cordova   \n",
       "83      iScreen Vision             Medical Device     Cordova   \n",
       "786            onFocus              Healthcare IT   Brentwood   \n",
       "573            onFocus              Healthcare IT   Brentwood   \n",
       "\n",
       "    Total Investment (since inception) Retained Jobs Total Jobs  \\\n",
       "807                             525000            30         39   \n",
       "832                             525000            30         39   \n",
       "588                             525000            30         30   \n",
       "627                             525000            30         30   \n",
       "482                             525000            29         29   \n",
       "..                                 ...           ...        ...   \n",
       "301                             982380             5         11   \n",
       "32                             1673648           8.5         11   \n",
       "83                              982380             5         11   \n",
       "786                             392809            17         19   \n",
       "573                             392807            17         19   \n",
       "\n",
       "    Women and Minority Employees  \\\n",
       "807                            9   \n",
       "832                            9   \n",
       "588                            6   \n",
       "627                            6   \n",
       "482                            5   \n",
       "..                           ...   \n",
       "301                            8   \n",
       "32                             7   \n",
       "83                             8   \n",
       "786                            5   \n",
       "573                            5   \n",
       "\n",
       "    Private Follow-on Capital Raised by Invested Companies  Year  \\\n",
       "807                                           22005173      2014   \n",
       "832                                           22005173      2014   \n",
       "588                                           22755173      2015   \n",
       "627                                           22755173      2015   \n",
       "482                                           24691173      2016   \n",
       "..                                                 ...       ...   \n",
       "301                                           12543748      2020   \n",
       "32                                            10244253      2022   \n",
       "83                                            12543748      2022   \n",
       "786                                            4548562      2015   \n",
       "573                                            4548562      2016   \n",
       "\n",
       "                Program  \n",
       "807  Council & Enhanced  \n",
       "832           Limestone  \n",
       "588           Remaining  \n",
       "627           Remaining  \n",
       "482  Council & Enhanced  \n",
       "..                  ...  \n",
       "301              Innova  \n",
       "32               Innova  \n",
       "83          MB Ventures  \n",
       "786           Remaining  \n",
       "573            Tri-Star  \n",
       "\n",
       "[963 rows x 10 columns]"
      ]
     },
     "execution_count": 20,
     "metadata": {},
     "output_type": "execute_result"
    }
   ],
   "source": [
    "df_unique.sort_values(by=[\"Qualified Business\", 'Year'])"
   ]
  },
  {
   "cell_type": "code",
   "execution_count": 21,
   "metadata": {},
   "outputs": [],
   "source": [
    "# Ensure the relevant columns are numeric for calculations\n",
    "df_unique['Year'] = pd.to_numeric(df_unique['Year'], errors='coerce')\n",
    "df_unique['Total Investment (since inception)'] = pd.to_numeric(df_unique['Total Investment (since inception)'], errors='coerce')\n",
    "df_unique['Private Follow-on Capital Raised by Invested Companies'] = pd.to_numeric(df_unique['Private Follow-on Capital Raised by Invested Companies'], errors='coerce')\n",
    "df_unique['Total Jobs'] = pd.to_numeric(df_unique['Total Jobs'], errors='coerce')\n",
    "\n",
    "# Sort the dataframe by 'Qualified Business' and 'Year' to ensure correct order for calculation\n",
    "df_unique = df_unique.sort_values(by=['Qualified Business', 'Year'])\n",
    "\n",
    "# Calculate the year-over-year differences\n",
    "df_unique['Investment Amount Added'] = df_unique.groupby('Qualified Business')['Total Investment (since inception)'].diff().fillna(0)\n",
    "df_unique['Change in Total Jobs'] = df_unique.groupby('Qualified Business')['Total Jobs'].diff().fillna(0)\n",
    "df_unique['Follow-on Capital Raised Added'] = df_unique.groupby('Qualified Business')['Private Follow-on Capital Raised by Invested Companies'].diff().fillna(0)\n",
    "\n",
    "# For each business and year, replicate the calculations across duplicate rows in the same year\n",
    "df_unique[['Investment Amount Added', 'Change in Total Jobs', 'Follow-on Capital Raised Added']] = df_unique.groupby(\n",
    "    ['Qualified Business', 'Year']\n",
    ")[['Investment Amount Added', 'Change in Total Jobs', 'Follow-on Capital Raised Added']].transform('first')"
   ]
  },
  {
   "cell_type": "code",
   "execution_count": 22,
   "metadata": {},
   "outputs": [
    {
     "data": {
      "text/html": [
       "<div>\n",
       "<style scoped>\n",
       "    .dataframe tbody tr th:only-of-type {\n",
       "        vertical-align: middle;\n",
       "    }\n",
       "\n",
       "    .dataframe tbody tr th {\n",
       "        vertical-align: top;\n",
       "    }\n",
       "\n",
       "    .dataframe thead th {\n",
       "        text-align: right;\n",
       "    }\n",
       "</style>\n",
       "<table border=\"1\" class=\"dataframe\">\n",
       "  <thead>\n",
       "    <tr style=\"text-align: right;\">\n",
       "      <th></th>\n",
       "      <th>Qualified Business</th>\n",
       "      <th>Classification of Business</th>\n",
       "      <th>Location</th>\n",
       "      <th>Total Investment (since inception)</th>\n",
       "      <th>Retained Jobs</th>\n",
       "      <th>Total Jobs</th>\n",
       "      <th>Women and Minority Employees</th>\n",
       "      <th>Private Follow-on Capital Raised by Invested Companies</th>\n",
       "      <th>Year</th>\n",
       "      <th>Program</th>\n",
       "      <th>Investment Amount Added</th>\n",
       "      <th>Change in Total Jobs</th>\n",
       "      <th>Follow-on Capital Raised Added</th>\n",
       "    </tr>\n",
       "  </thead>\n",
       "  <tbody>\n",
       "    <tr>\n",
       "      <th>807</th>\n",
       "      <td>ABT Molecular</td>\n",
       "      <td>Healthcare</td>\n",
       "      <td>Louisville</td>\n",
       "      <td>525000</td>\n",
       "      <td>30</td>\n",
       "      <td>39.0</td>\n",
       "      <td>9</td>\n",
       "      <td>22005173.0</td>\n",
       "      <td>2014</td>\n",
       "      <td>Council &amp; Enhanced</td>\n",
       "      <td>0.0</td>\n",
       "      <td>0.0</td>\n",
       "      <td>0.0</td>\n",
       "    </tr>\n",
       "    <tr>\n",
       "      <th>832</th>\n",
       "      <td>ABT Molecular</td>\n",
       "      <td>Medical Device</td>\n",
       "      <td>Louisville</td>\n",
       "      <td>525000</td>\n",
       "      <td>30</td>\n",
       "      <td>39.0</td>\n",
       "      <td>9</td>\n",
       "      <td>22005173.0</td>\n",
       "      <td>2014</td>\n",
       "      <td>Limestone</td>\n",
       "      <td>0.0</td>\n",
       "      <td>0.0</td>\n",
       "      <td>0.0</td>\n",
       "    </tr>\n",
       "    <tr>\n",
       "      <th>588</th>\n",
       "      <td>ABT Molecular</td>\n",
       "      <td>Healthcare</td>\n",
       "      <td>Louisville</td>\n",
       "      <td>525000</td>\n",
       "      <td>30</td>\n",
       "      <td>30.0</td>\n",
       "      <td>6</td>\n",
       "      <td>22755173.0</td>\n",
       "      <td>2015</td>\n",
       "      <td>Remaining</td>\n",
       "      <td>0.0</td>\n",
       "      <td>-9.0</td>\n",
       "      <td>750000.0</td>\n",
       "    </tr>\n",
       "    <tr>\n",
       "      <th>627</th>\n",
       "      <td>ABT Molecular</td>\n",
       "      <td>Medical Device</td>\n",
       "      <td>Louisville</td>\n",
       "      <td>525000</td>\n",
       "      <td>30</td>\n",
       "      <td>30.0</td>\n",
       "      <td>6</td>\n",
       "      <td>22755173.0</td>\n",
       "      <td>2015</td>\n",
       "      <td>Remaining</td>\n",
       "      <td>0.0</td>\n",
       "      <td>-9.0</td>\n",
       "      <td>750000.0</td>\n",
       "    </tr>\n",
       "    <tr>\n",
       "      <th>482</th>\n",
       "      <td>ABT Molecular</td>\n",
       "      <td>Healthcare</td>\n",
       "      <td>Louisville</td>\n",
       "      <td>525000</td>\n",
       "      <td>29</td>\n",
       "      <td>29.0</td>\n",
       "      <td>5</td>\n",
       "      <td>24691173.0</td>\n",
       "      <td>2016</td>\n",
       "      <td>Council &amp; Enhanced</td>\n",
       "      <td>0.0</td>\n",
       "      <td>-1.0</td>\n",
       "      <td>1936000.0</td>\n",
       "    </tr>\n",
       "    <tr>\n",
       "      <th>505</th>\n",
       "      <td>ABT Molecular</td>\n",
       "      <td>Medical Device</td>\n",
       "      <td>Louisville</td>\n",
       "      <td>525000</td>\n",
       "      <td>30</td>\n",
       "      <td>29.0</td>\n",
       "      <td>5</td>\n",
       "      <td>24691173.0</td>\n",
       "      <td>2016</td>\n",
       "      <td>Limestone</td>\n",
       "      <td>0.0</td>\n",
       "      <td>-1.0</td>\n",
       "      <td>1936000.0</td>\n",
       "    </tr>\n",
       "    <tr>\n",
       "      <th>263</th>\n",
       "      <td>ABT Molecular</td>\n",
       "      <td>Medical Device</td>\n",
       "      <td>Louisville</td>\n",
       "      <td>525000</td>\n",
       "      <td>30</td>\n",
       "      <td>27.0</td>\n",
       "      <td>4</td>\n",
       "      <td>29741173.0</td>\n",
       "      <td>2020</td>\n",
       "      <td>Innova</td>\n",
       "      <td>0.0</td>\n",
       "      <td>-2.0</td>\n",
       "      <td>5050000.0</td>\n",
       "    </tr>\n",
       "    <tr>\n",
       "      <th>0</th>\n",
       "      <td>ABT Molecular</td>\n",
       "      <td>Healthcare</td>\n",
       "      <td>Louisville</td>\n",
       "      <td>525000</td>\n",
       "      <td>30</td>\n",
       "      <td>27.0</td>\n",
       "      <td>4</td>\n",
       "      <td>29741173.0</td>\n",
       "      <td>2022</td>\n",
       "      <td>Council &amp; Enhanced</td>\n",
       "      <td>0.0</td>\n",
       "      <td>0.0</td>\n",
       "      <td>0.0</td>\n",
       "    </tr>\n",
       "    <tr>\n",
       "      <th>45</th>\n",
       "      <td>ABT Molecular</td>\n",
       "      <td>Medical Device</td>\n",
       "      <td>Louisville</td>\n",
       "      <td>525000</td>\n",
       "      <td>30</td>\n",
       "      <td>27.0</td>\n",
       "      <td>4</td>\n",
       "      <td>29741173.0</td>\n",
       "      <td>2022</td>\n",
       "      <td>Limestone</td>\n",
       "      <td>0.0</td>\n",
       "      <td>0.0</td>\n",
       "      <td>0.0</td>\n",
       "    </tr>\n",
       "    <tr>\n",
       "      <th>693</th>\n",
       "      <td>Acacia Interactive</td>\n",
       "      <td>Information Services</td>\n",
       "      <td>Nashville</td>\n",
       "      <td>216710</td>\n",
       "      <td>0</td>\n",
       "      <td>0.0</td>\n",
       "      <td>0</td>\n",
       "      <td>30000.0</td>\n",
       "      <td>2015</td>\n",
       "      <td>Remaining</td>\n",
       "      <td>0.0</td>\n",
       "      <td>0.0</td>\n",
       "      <td>0.0</td>\n",
       "    </tr>\n",
       "  </tbody>\n",
       "</table>\n",
       "</div>"
      ],
      "text/plain": [
       "     Qualified Business Classification of Business    Location  \\\n",
       "807       ABT Molecular                 Healthcare  Louisville   \n",
       "832       ABT Molecular             Medical Device  Louisville   \n",
       "588       ABT Molecular                 Healthcare  Louisville   \n",
       "627       ABT Molecular             Medical Device  Louisville   \n",
       "482       ABT Molecular                 Healthcare  Louisville   \n",
       "505       ABT Molecular             Medical Device  Louisville   \n",
       "263       ABT Molecular             Medical Device  Louisville   \n",
       "0         ABT Molecular                 Healthcare  Louisville   \n",
       "45        ABT Molecular             Medical Device  Louisville   \n",
       "693  Acacia Interactive       Information Services   Nashville   \n",
       "\n",
       "     Total Investment (since inception) Retained Jobs  Total Jobs  \\\n",
       "807                              525000            30        39.0   \n",
       "832                              525000            30        39.0   \n",
       "588                              525000            30        30.0   \n",
       "627                              525000            30        30.0   \n",
       "482                              525000            29        29.0   \n",
       "505                              525000            30        29.0   \n",
       "263                              525000            30        27.0   \n",
       "0                                525000            30        27.0   \n",
       "45                               525000            30        27.0   \n",
       "693                              216710             0         0.0   \n",
       "\n",
       "    Women and Minority Employees  \\\n",
       "807                            9   \n",
       "832                            9   \n",
       "588                            6   \n",
       "627                            6   \n",
       "482                            5   \n",
       "505                            5   \n",
       "263                            4   \n",
       "0                              4   \n",
       "45                             4   \n",
       "693                            0   \n",
       "\n",
       "     Private Follow-on Capital Raised by Invested Companies  Year  \\\n",
       "807                                         22005173.0       2014   \n",
       "832                                         22005173.0       2014   \n",
       "588                                         22755173.0       2015   \n",
       "627                                         22755173.0       2015   \n",
       "482                                         24691173.0       2016   \n",
       "505                                         24691173.0       2016   \n",
       "263                                         29741173.0       2020   \n",
       "0                                           29741173.0       2022   \n",
       "45                                          29741173.0       2022   \n",
       "693                                            30000.0       2015   \n",
       "\n",
       "                Program  Investment Amount Added  Change in Total Jobs  \\\n",
       "807  Council & Enhanced                      0.0                   0.0   \n",
       "832           Limestone                      0.0                   0.0   \n",
       "588           Remaining                      0.0                  -9.0   \n",
       "627           Remaining                      0.0                  -9.0   \n",
       "482  Council & Enhanced                      0.0                  -1.0   \n",
       "505           Limestone                      0.0                  -1.0   \n",
       "263              Innova                      0.0                  -2.0   \n",
       "0    Council & Enhanced                      0.0                   0.0   \n",
       "45            Limestone                      0.0                   0.0   \n",
       "693           Remaining                      0.0                   0.0   \n",
       "\n",
       "     Follow-on Capital Raised Added  \n",
       "807                             0.0  \n",
       "832                             0.0  \n",
       "588                        750000.0  \n",
       "627                        750000.0  \n",
       "482                       1936000.0  \n",
       "505                       1936000.0  \n",
       "263                       5050000.0  \n",
       "0                               0.0  \n",
       "45                              0.0  \n",
       "693                             0.0  "
      ]
     },
     "execution_count": 22,
     "metadata": {},
     "output_type": "execute_result"
    }
   ],
   "source": [
    "df_unique.head(10)"
   ]
  },
  {
   "cell_type": "code",
   "execution_count": 23,
   "metadata": {},
   "outputs": [],
   "source": [
    "# Step 1: Identify the first year for each business\n",
    "df_unique['is_first_year'] = df_unique.groupby('Qualified Business')['Year'].transform('min') == df_unique['Year']\n",
    "\n",
    "# Step 2: Drop rows where all calculated columns are zero, except for the first year of the business\n",
    "df_cleaned = df_unique[~(\n",
    "    (df_unique['Investment Amount Added'] == 0) & \n",
    "    (df_unique['Change in Total Jobs'] == 0) & \n",
    "    (df_unique['Follow-on Capital Raised Added'] == 0) &\n",
    "    ~df_unique['is_first_year']  # Keep the first year rows\n",
    ")]\n",
    "\n",
    "# Step 3: Drop the 'is_first_year' helper column\n",
    "df_cleaned = df_cleaned.drop(columns=['is_first_year']).reset_index(drop=True)"
   ]
  },
  {
   "cell_type": "code",
   "execution_count": 24,
   "metadata": {},
   "outputs": [
    {
     "data": {
      "text/html": [
       "<div>\n",
       "<style scoped>\n",
       "    .dataframe tbody tr th:only-of-type {\n",
       "        vertical-align: middle;\n",
       "    }\n",
       "\n",
       "    .dataframe tbody tr th {\n",
       "        vertical-align: top;\n",
       "    }\n",
       "\n",
       "    .dataframe thead th {\n",
       "        text-align: right;\n",
       "    }\n",
       "</style>\n",
       "<table border=\"1\" class=\"dataframe\">\n",
       "  <thead>\n",
       "    <tr style=\"text-align: right;\">\n",
       "      <th></th>\n",
       "      <th>Qualified Business</th>\n",
       "      <th>Classification of Business</th>\n",
       "      <th>Location</th>\n",
       "      <th>Total Investment (since inception)</th>\n",
       "      <th>Retained Jobs</th>\n",
       "      <th>Total Jobs</th>\n",
       "      <th>Women and Minority Employees</th>\n",
       "      <th>Private Follow-on Capital Raised by Invested Companies</th>\n",
       "      <th>Year</th>\n",
       "      <th>Program</th>\n",
       "      <th>Investment Amount Added</th>\n",
       "      <th>Change in Total Jobs</th>\n",
       "      <th>Follow-on Capital Raised Added</th>\n",
       "    </tr>\n",
       "  </thead>\n",
       "  <tbody>\n",
       "    <tr>\n",
       "      <th>0</th>\n",
       "      <td>ABT Molecular</td>\n",
       "      <td>Healthcare</td>\n",
       "      <td>Louisville</td>\n",
       "      <td>525000</td>\n",
       "      <td>30</td>\n",
       "      <td>39.0</td>\n",
       "      <td>9</td>\n",
       "      <td>22005173.0</td>\n",
       "      <td>2014</td>\n",
       "      <td>Council &amp; Enhanced</td>\n",
       "      <td>0.0</td>\n",
       "      <td>0.0</td>\n",
       "      <td>0.0</td>\n",
       "    </tr>\n",
       "    <tr>\n",
       "      <th>1</th>\n",
       "      <td>ABT Molecular</td>\n",
       "      <td>Medical Device</td>\n",
       "      <td>Louisville</td>\n",
       "      <td>525000</td>\n",
       "      <td>30</td>\n",
       "      <td>39.0</td>\n",
       "      <td>9</td>\n",
       "      <td>22005173.0</td>\n",
       "      <td>2014</td>\n",
       "      <td>Limestone</td>\n",
       "      <td>0.0</td>\n",
       "      <td>0.0</td>\n",
       "      <td>0.0</td>\n",
       "    </tr>\n",
       "    <tr>\n",
       "      <th>2</th>\n",
       "      <td>ABT Molecular</td>\n",
       "      <td>Healthcare</td>\n",
       "      <td>Louisville</td>\n",
       "      <td>525000</td>\n",
       "      <td>30</td>\n",
       "      <td>30.0</td>\n",
       "      <td>6</td>\n",
       "      <td>22755173.0</td>\n",
       "      <td>2015</td>\n",
       "      <td>Remaining</td>\n",
       "      <td>0.0</td>\n",
       "      <td>-9.0</td>\n",
       "      <td>750000.0</td>\n",
       "    </tr>\n",
       "    <tr>\n",
       "      <th>3</th>\n",
       "      <td>ABT Molecular</td>\n",
       "      <td>Medical Device</td>\n",
       "      <td>Louisville</td>\n",
       "      <td>525000</td>\n",
       "      <td>30</td>\n",
       "      <td>30.0</td>\n",
       "      <td>6</td>\n",
       "      <td>22755173.0</td>\n",
       "      <td>2015</td>\n",
       "      <td>Remaining</td>\n",
       "      <td>0.0</td>\n",
       "      <td>-9.0</td>\n",
       "      <td>750000.0</td>\n",
       "    </tr>\n",
       "    <tr>\n",
       "      <th>4</th>\n",
       "      <td>ABT Molecular</td>\n",
       "      <td>Healthcare</td>\n",
       "      <td>Louisville</td>\n",
       "      <td>525000</td>\n",
       "      <td>29</td>\n",
       "      <td>29.0</td>\n",
       "      <td>5</td>\n",
       "      <td>24691173.0</td>\n",
       "      <td>2016</td>\n",
       "      <td>Council &amp; Enhanced</td>\n",
       "      <td>0.0</td>\n",
       "      <td>-1.0</td>\n",
       "      <td>1936000.0</td>\n",
       "    </tr>\n",
       "    <tr>\n",
       "      <th>5</th>\n",
       "      <td>ABT Molecular</td>\n",
       "      <td>Medical Device</td>\n",
       "      <td>Louisville</td>\n",
       "      <td>525000</td>\n",
       "      <td>30</td>\n",
       "      <td>29.0</td>\n",
       "      <td>5</td>\n",
       "      <td>24691173.0</td>\n",
       "      <td>2016</td>\n",
       "      <td>Limestone</td>\n",
       "      <td>0.0</td>\n",
       "      <td>-1.0</td>\n",
       "      <td>1936000.0</td>\n",
       "    </tr>\n",
       "    <tr>\n",
       "      <th>6</th>\n",
       "      <td>ABT Molecular</td>\n",
       "      <td>Medical Device</td>\n",
       "      <td>Louisville</td>\n",
       "      <td>525000</td>\n",
       "      <td>30</td>\n",
       "      <td>27.0</td>\n",
       "      <td>4</td>\n",
       "      <td>29741173.0</td>\n",
       "      <td>2020</td>\n",
       "      <td>Innova</td>\n",
       "      <td>0.0</td>\n",
       "      <td>-2.0</td>\n",
       "      <td>5050000.0</td>\n",
       "    </tr>\n",
       "    <tr>\n",
       "      <th>7</th>\n",
       "      <td>Acacia Interactive</td>\n",
       "      <td>Information Services</td>\n",
       "      <td>Nashville</td>\n",
       "      <td>216710</td>\n",
       "      <td>0</td>\n",
       "      <td>0.0</td>\n",
       "      <td>0</td>\n",
       "      <td>30000.0</td>\n",
       "      <td>2015</td>\n",
       "      <td>Remaining</td>\n",
       "      <td>0.0</td>\n",
       "      <td>0.0</td>\n",
       "      <td>0.0</td>\n",
       "    </tr>\n",
       "    <tr>\n",
       "      <th>8</th>\n",
       "      <td>Advanced Catheter Therapies</td>\n",
       "      <td>Medical Device</td>\n",
       "      <td>Chattanooga</td>\n",
       "      <td>450000</td>\n",
       "      <td>1</td>\n",
       "      <td>4.5</td>\n",
       "      <td>0</td>\n",
       "      <td>2886000.0</td>\n",
       "      <td>2014</td>\n",
       "      <td>Innova</td>\n",
       "      <td>0.0</td>\n",
       "      <td>0.0</td>\n",
       "      <td>0.0</td>\n",
       "    </tr>\n",
       "    <tr>\n",
       "      <th>9</th>\n",
       "      <td>Advanced Catheter Therapies</td>\n",
       "      <td>Medical Device</td>\n",
       "      <td>Chattanooga</td>\n",
       "      <td>450000</td>\n",
       "      <td>1</td>\n",
       "      <td>5.0</td>\n",
       "      <td>0</td>\n",
       "      <td>2886000.0</td>\n",
       "      <td>2015</td>\n",
       "      <td>Remaining</td>\n",
       "      <td>0.0</td>\n",
       "      <td>0.5</td>\n",
       "      <td>0.0</td>\n",
       "    </tr>\n",
       "  </tbody>\n",
       "</table>\n",
       "</div>"
      ],
      "text/plain": [
       "            Qualified Business Classification of Business     Location  \\\n",
       "0                ABT Molecular                 Healthcare   Louisville   \n",
       "1                ABT Molecular             Medical Device   Louisville   \n",
       "2                ABT Molecular                 Healthcare   Louisville   \n",
       "3                ABT Molecular             Medical Device   Louisville   \n",
       "4                ABT Molecular                 Healthcare   Louisville   \n",
       "5                ABT Molecular             Medical Device   Louisville   \n",
       "6                ABT Molecular             Medical Device   Louisville   \n",
       "7           Acacia Interactive       Information Services    Nashville   \n",
       "8  Advanced Catheter Therapies             Medical Device  Chattanooga   \n",
       "9  Advanced Catheter Therapies             Medical Device  Chattanooga   \n",
       "\n",
       "   Total Investment (since inception) Retained Jobs  Total Jobs  \\\n",
       "0                              525000            30        39.0   \n",
       "1                              525000            30        39.0   \n",
       "2                              525000            30        30.0   \n",
       "3                              525000            30        30.0   \n",
       "4                              525000            29        29.0   \n",
       "5                              525000            30        29.0   \n",
       "6                              525000            30        27.0   \n",
       "7                              216710             0         0.0   \n",
       "8                              450000             1         4.5   \n",
       "9                              450000             1         5.0   \n",
       "\n",
       "  Women and Minority Employees  \\\n",
       "0                            9   \n",
       "1                            9   \n",
       "2                            6   \n",
       "3                            6   \n",
       "4                            5   \n",
       "5                            5   \n",
       "6                            4   \n",
       "7                            0   \n",
       "8                            0   \n",
       "9                            0   \n",
       "\n",
       "   Private Follow-on Capital Raised by Invested Companies  Year  \\\n",
       "0                                         22005173.0       2014   \n",
       "1                                         22005173.0       2014   \n",
       "2                                         22755173.0       2015   \n",
       "3                                         22755173.0       2015   \n",
       "4                                         24691173.0       2016   \n",
       "5                                         24691173.0       2016   \n",
       "6                                         29741173.0       2020   \n",
       "7                                            30000.0       2015   \n",
       "8                                          2886000.0       2014   \n",
       "9                                          2886000.0       2015   \n",
       "\n",
       "              Program  Investment Amount Added  Change in Total Jobs  \\\n",
       "0  Council & Enhanced                      0.0                   0.0   \n",
       "1           Limestone                      0.0                   0.0   \n",
       "2           Remaining                      0.0                  -9.0   \n",
       "3           Remaining                      0.0                  -9.0   \n",
       "4  Council & Enhanced                      0.0                  -1.0   \n",
       "5           Limestone                      0.0                  -1.0   \n",
       "6              Innova                      0.0                  -2.0   \n",
       "7           Remaining                      0.0                   0.0   \n",
       "8              Innova                      0.0                   0.0   \n",
       "9           Remaining                      0.0                   0.5   \n",
       "\n",
       "   Follow-on Capital Raised Added  \n",
       "0                             0.0  \n",
       "1                             0.0  \n",
       "2                        750000.0  \n",
       "3                        750000.0  \n",
       "4                       1936000.0  \n",
       "5                       1936000.0  \n",
       "6                       5050000.0  \n",
       "7                             0.0  \n",
       "8                             0.0  \n",
       "9                             0.0  "
      ]
     },
     "execution_count": 24,
     "metadata": {},
     "output_type": "execute_result"
    }
   ],
   "source": [
    "df_cleaned.head(10)"
   ]
  },
  {
   "cell_type": "code",
   "execution_count": 25,
   "metadata": {},
   "outputs": [
    {
     "data": {
      "text/plain": [
       "Index(['Qualified Business', 'Classification of Business', 'Location',\n",
       "       'Total Investment (since inception)', 'Retained Jobs', 'Total Jobs',\n",
       "       'Women and Minority Employees',\n",
       "       'Private Follow-on Capital Raised by Invested Companies', 'Year',\n",
       "       'Program', 'Investment Amount Added', 'Change in Total Jobs',\n",
       "       'Follow-on Capital Raised Added'],\n",
       "      dtype='object')"
      ]
     },
     "execution_count": 25,
     "metadata": {},
     "output_type": "execute_result"
    }
   ],
   "source": [
    "df_cleaned.columns"
   ]
  },
  {
   "cell_type": "code",
   "execution_count": 26,
   "metadata": {},
   "outputs": [],
   "source": [
    "df_format = df_cleaned[['Qualified Business', 'Classification of Business', 'Location', 'Program', \n",
    "                        'Total Investment (since inception)', 'Investment Amount Added', 'Retained Jobs', 'Total Jobs', \n",
    "                        'Change in Total Jobs', 'Women and Minority Employees', \n",
    "                        'Private Follow-on Capital Raised by Invested Companies', 'Follow-on Capital Raised Added', 'Year'\n",
    "                        ]]"
   ]
  },
  {
   "cell_type": "code",
   "execution_count": 27,
   "metadata": {},
   "outputs": [],
   "source": [
    "df_format.to_excel(\"TNInvestco_data_Sep24.xlsx\")"
   ]
  },
  {
   "cell_type": "code",
   "execution_count": null,
   "metadata": {},
   "outputs": [],
   "source": []
  }
 ],
 "metadata": {
  "kernelspec": {
   "display_name": "venv",
   "language": "python",
   "name": "python3"
  },
  "language_info": {
   "codemirror_mode": {
    "name": "ipython",
    "version": 3
   },
   "file_extension": ".py",
   "mimetype": "text/x-python",
   "name": "python",
   "nbconvert_exporter": "python",
   "pygments_lexer": "ipython3",
   "version": "3.12.3"
  }
 },
 "nbformat": 4,
 "nbformat_minor": 2
}
